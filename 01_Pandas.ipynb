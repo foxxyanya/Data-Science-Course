{
  "nbformat": 4,
  "nbformat_minor": 0,
  "metadata": {
    "colab": {
      "name": "Pandas.ipynb",
      "provenance": []
    },
    "kernelspec": {
      "display_name": "Python 3",
      "language": "python",
      "name": "python3"
    },
    "language_info": {
      "codemirror_mode": {
        "name": "ipython",
        "version": 3
      },
      "file_extension": ".py",
      "mimetype": "text/x-python",
      "name": "python",
      "nbconvert_exporter": "python",
      "pygments_lexer": "ipython3",
      "version": "3.8.5"
    }
  },
  "cells": [
    {
      "cell_type": "markdown",
      "metadata": {
        "id": "9jAOQ6Gqo5kk"
      },
      "source": [
        "#  Pandas"
      ]
    },
    {
      "cell_type": "markdown",
      "metadata": {
        "id": "-bYJOHG7o5kw"
      },
      "source": [
        "<b>0. Import libraries, check versions</b>"
      ]
    },
    {
      "cell_type": "code",
      "metadata": {
        "id": "dPhicaSa-wX2"
      },
      "source": [
        "import pandas as pd\n",
        "import numpy as np"
      ],
      "execution_count": null,
      "outputs": []
    },
    {
      "cell_type": "code",
      "metadata": {
        "id": "si5DfDnv-wX6",
        "outputId": "fda68ae6-efc9-4e2d-8feb-15c3296f4494"
      },
      "source": [
        "pd.__version__"
      ],
      "execution_count": null,
      "outputs": [
        {
          "data": {
            "text/plain": [
              "'1.1.3'"
            ]
          },
          "execution_count": 191,
          "metadata": {},
          "output_type": "execute_result"
        }
      ]
    },
    {
      "cell_type": "markdown",
      "metadata": {
        "id": "zySwqqc7o5kx"
      },
      "source": [
        "<b>0.1. Read csv, do primary analysis</b>"
      ]
    },
    {
      "cell_type": "code",
      "metadata": {
        "id": "yxHFc7VE-wX_"
      },
      "source": [
        "df = pd.read_csv('student-mat.csv', sep=';')"
      ],
      "execution_count": null,
      "outputs": []
    },
    {
      "cell_type": "code",
      "metadata": {
        "id": "1DKSKkXn-wYA"
      },
      "source": [
        "pd.set_option('display.max_columns', 100)"
      ],
      "execution_count": null,
      "outputs": []
    },
    {
      "cell_type": "code",
      "metadata": {
        "id": "yteky68o-wYB",
        "outputId": "98e0c7c5-3903-441e-9811-73e0bfb319a1"
      },
      "source": [
        "df.head()"
      ],
      "execution_count": null,
      "outputs": [
        {
          "data": {
            "text/html": [
              "<div>\n",
              "<style scoped>\n",
              "    .dataframe tbody tr th:only-of-type {\n",
              "        vertical-align: middle;\n",
              "    }\n",
              "\n",
              "    .dataframe tbody tr th {\n",
              "        vertical-align: top;\n",
              "    }\n",
              "\n",
              "    .dataframe thead th {\n",
              "        text-align: right;\n",
              "    }\n",
              "</style>\n",
              "<table border=\"1\" class=\"dataframe\">\n",
              "  <thead>\n",
              "    <tr style=\"text-align: right;\">\n",
              "      <th></th>\n",
              "      <th>school</th>\n",
              "      <th>sex</th>\n",
              "      <th>age</th>\n",
              "      <th>address</th>\n",
              "      <th>famsize</th>\n",
              "      <th>Pstatus</th>\n",
              "      <th>Medu</th>\n",
              "      <th>Fedu</th>\n",
              "      <th>Mjob</th>\n",
              "      <th>Fjob</th>\n",
              "      <th>reason</th>\n",
              "      <th>guardian</th>\n",
              "      <th>traveltime</th>\n",
              "      <th>studytime</th>\n",
              "      <th>failures</th>\n",
              "      <th>schoolsup</th>\n",
              "      <th>famsup</th>\n",
              "      <th>paid</th>\n",
              "      <th>activities</th>\n",
              "      <th>nursery</th>\n",
              "      <th>higher</th>\n",
              "      <th>internet</th>\n",
              "      <th>romantic</th>\n",
              "      <th>famrel</th>\n",
              "      <th>freetime</th>\n",
              "      <th>goout</th>\n",
              "      <th>Dalc</th>\n",
              "      <th>Walc</th>\n",
              "      <th>health</th>\n",
              "      <th>absences</th>\n",
              "      <th>G1</th>\n",
              "      <th>G2</th>\n",
              "      <th>G3</th>\n",
              "    </tr>\n",
              "  </thead>\n",
              "  <tbody>\n",
              "    <tr>\n",
              "      <th>0</th>\n",
              "      <td>GP</td>\n",
              "      <td>F</td>\n",
              "      <td>18</td>\n",
              "      <td>U</td>\n",
              "      <td>GT3</td>\n",
              "      <td>A</td>\n",
              "      <td>4</td>\n",
              "      <td>4</td>\n",
              "      <td>at_home</td>\n",
              "      <td>teacher</td>\n",
              "      <td>course</td>\n",
              "      <td>mother</td>\n",
              "      <td>2</td>\n",
              "      <td>2</td>\n",
              "      <td>0</td>\n",
              "      <td>yes</td>\n",
              "      <td>no</td>\n",
              "      <td>no</td>\n",
              "      <td>no</td>\n",
              "      <td>yes</td>\n",
              "      <td>yes</td>\n",
              "      <td>no</td>\n",
              "      <td>no</td>\n",
              "      <td>4</td>\n",
              "      <td>3</td>\n",
              "      <td>4</td>\n",
              "      <td>1</td>\n",
              "      <td>1</td>\n",
              "      <td>3</td>\n",
              "      <td>6</td>\n",
              "      <td>5</td>\n",
              "      <td>6</td>\n",
              "      <td>6</td>\n",
              "    </tr>\n",
              "    <tr>\n",
              "      <th>1</th>\n",
              "      <td>GP</td>\n",
              "      <td>F</td>\n",
              "      <td>17</td>\n",
              "      <td>U</td>\n",
              "      <td>GT3</td>\n",
              "      <td>T</td>\n",
              "      <td>1</td>\n",
              "      <td>1</td>\n",
              "      <td>at_home</td>\n",
              "      <td>other</td>\n",
              "      <td>course</td>\n",
              "      <td>father</td>\n",
              "      <td>1</td>\n",
              "      <td>2</td>\n",
              "      <td>0</td>\n",
              "      <td>no</td>\n",
              "      <td>yes</td>\n",
              "      <td>no</td>\n",
              "      <td>no</td>\n",
              "      <td>no</td>\n",
              "      <td>yes</td>\n",
              "      <td>yes</td>\n",
              "      <td>no</td>\n",
              "      <td>5</td>\n",
              "      <td>3</td>\n",
              "      <td>3</td>\n",
              "      <td>1</td>\n",
              "      <td>1</td>\n",
              "      <td>3</td>\n",
              "      <td>4</td>\n",
              "      <td>5</td>\n",
              "      <td>5</td>\n",
              "      <td>6</td>\n",
              "    </tr>\n",
              "    <tr>\n",
              "      <th>2</th>\n",
              "      <td>GP</td>\n",
              "      <td>F</td>\n",
              "      <td>15</td>\n",
              "      <td>U</td>\n",
              "      <td>LE3</td>\n",
              "      <td>T</td>\n",
              "      <td>1</td>\n",
              "      <td>1</td>\n",
              "      <td>at_home</td>\n",
              "      <td>other</td>\n",
              "      <td>other</td>\n",
              "      <td>mother</td>\n",
              "      <td>1</td>\n",
              "      <td>2</td>\n",
              "      <td>3</td>\n",
              "      <td>yes</td>\n",
              "      <td>no</td>\n",
              "      <td>yes</td>\n",
              "      <td>no</td>\n",
              "      <td>yes</td>\n",
              "      <td>yes</td>\n",
              "      <td>yes</td>\n",
              "      <td>no</td>\n",
              "      <td>4</td>\n",
              "      <td>3</td>\n",
              "      <td>2</td>\n",
              "      <td>2</td>\n",
              "      <td>3</td>\n",
              "      <td>3</td>\n",
              "      <td>10</td>\n",
              "      <td>7</td>\n",
              "      <td>8</td>\n",
              "      <td>10</td>\n",
              "    </tr>\n",
              "    <tr>\n",
              "      <th>3</th>\n",
              "      <td>GP</td>\n",
              "      <td>F</td>\n",
              "      <td>15</td>\n",
              "      <td>U</td>\n",
              "      <td>GT3</td>\n",
              "      <td>T</td>\n",
              "      <td>4</td>\n",
              "      <td>2</td>\n",
              "      <td>health</td>\n",
              "      <td>services</td>\n",
              "      <td>home</td>\n",
              "      <td>mother</td>\n",
              "      <td>1</td>\n",
              "      <td>3</td>\n",
              "      <td>0</td>\n",
              "      <td>no</td>\n",
              "      <td>yes</td>\n",
              "      <td>yes</td>\n",
              "      <td>yes</td>\n",
              "      <td>yes</td>\n",
              "      <td>yes</td>\n",
              "      <td>yes</td>\n",
              "      <td>yes</td>\n",
              "      <td>3</td>\n",
              "      <td>2</td>\n",
              "      <td>2</td>\n",
              "      <td>1</td>\n",
              "      <td>1</td>\n",
              "      <td>5</td>\n",
              "      <td>2</td>\n",
              "      <td>15</td>\n",
              "      <td>14</td>\n",
              "      <td>15</td>\n",
              "    </tr>\n",
              "    <tr>\n",
              "      <th>4</th>\n",
              "      <td>GP</td>\n",
              "      <td>F</td>\n",
              "      <td>16</td>\n",
              "      <td>U</td>\n",
              "      <td>GT3</td>\n",
              "      <td>T</td>\n",
              "      <td>3</td>\n",
              "      <td>3</td>\n",
              "      <td>other</td>\n",
              "      <td>other</td>\n",
              "      <td>home</td>\n",
              "      <td>father</td>\n",
              "      <td>1</td>\n",
              "      <td>2</td>\n",
              "      <td>0</td>\n",
              "      <td>no</td>\n",
              "      <td>yes</td>\n",
              "      <td>yes</td>\n",
              "      <td>no</td>\n",
              "      <td>yes</td>\n",
              "      <td>yes</td>\n",
              "      <td>no</td>\n",
              "      <td>no</td>\n",
              "      <td>4</td>\n",
              "      <td>3</td>\n",
              "      <td>2</td>\n",
              "      <td>1</td>\n",
              "      <td>2</td>\n",
              "      <td>5</td>\n",
              "      <td>4</td>\n",
              "      <td>6</td>\n",
              "      <td>10</td>\n",
              "      <td>10</td>\n",
              "    </tr>\n",
              "  </tbody>\n",
              "</table>\n",
              "</div>"
            ],
            "text/plain": [
              "  school sex  age address famsize Pstatus  Medu  Fedu     Mjob      Fjob  \\\n",
              "0     GP   F   18       U     GT3       A     4     4  at_home   teacher   \n",
              "1     GP   F   17       U     GT3       T     1     1  at_home     other   \n",
              "2     GP   F   15       U     LE3       T     1     1  at_home     other   \n",
              "3     GP   F   15       U     GT3       T     4     2   health  services   \n",
              "4     GP   F   16       U     GT3       T     3     3    other     other   \n",
              "\n",
              "   reason guardian  traveltime  studytime  failures schoolsup famsup paid  \\\n",
              "0  course   mother           2          2         0       yes     no   no   \n",
              "1  course   father           1          2         0        no    yes   no   \n",
              "2   other   mother           1          2         3       yes     no  yes   \n",
              "3    home   mother           1          3         0        no    yes  yes   \n",
              "4    home   father           1          2         0        no    yes  yes   \n",
              "\n",
              "  activities nursery higher internet romantic  famrel  freetime  goout  Dalc  \\\n",
              "0         no     yes    yes       no       no       4         3      4     1   \n",
              "1         no      no    yes      yes       no       5         3      3     1   \n",
              "2         no     yes    yes      yes       no       4         3      2     2   \n",
              "3        yes     yes    yes      yes      yes       3         2      2     1   \n",
              "4         no     yes    yes       no       no       4         3      2     1   \n",
              "\n",
              "   Walc  health  absences  G1  G2  G3  \n",
              "0     1       3         6   5   6   6  \n",
              "1     1       3         4   5   5   6  \n",
              "2     3       3        10   7   8  10  \n",
              "3     1       5         2  15  14  15  \n",
              "4     2       5         4   6  10  10  "
            ]
          },
          "execution_count": 194,
          "metadata": {},
          "output_type": "execute_result"
        }
      ]
    },
    {
      "cell_type": "code",
      "metadata": {
        "id": "QQ3qe1wM-wYD",
        "outputId": "e73cebca-097a-4e04-b35b-be519dacd983"
      },
      "source": [
        "df.shape"
      ],
      "execution_count": null,
      "outputs": [
        {
          "data": {
            "text/plain": [
              "(395, 33)"
            ]
          },
          "execution_count": 195,
          "metadata": {},
          "output_type": "execute_result"
        }
      ]
    },
    {
      "cell_type": "code",
      "metadata": {
        "id": "TtpmaLr9-wYE",
        "outputId": "958cc35e-1233-4395-da49-280b715236f0"
      },
      "source": [
        "df.describe(include='all')"
      ],
      "execution_count": null,
      "outputs": [
        {
          "data": {
            "text/html": [
              "<div>\n",
              "<style scoped>\n",
              "    .dataframe tbody tr th:only-of-type {\n",
              "        vertical-align: middle;\n",
              "    }\n",
              "\n",
              "    .dataframe tbody tr th {\n",
              "        vertical-align: top;\n",
              "    }\n",
              "\n",
              "    .dataframe thead th {\n",
              "        text-align: right;\n",
              "    }\n",
              "</style>\n",
              "<table border=\"1\" class=\"dataframe\">\n",
              "  <thead>\n",
              "    <tr style=\"text-align: right;\">\n",
              "      <th></th>\n",
              "      <th>school</th>\n",
              "      <th>sex</th>\n",
              "      <th>age</th>\n",
              "      <th>address</th>\n",
              "      <th>famsize</th>\n",
              "      <th>Pstatus</th>\n",
              "      <th>Medu</th>\n",
              "      <th>Fedu</th>\n",
              "      <th>Mjob</th>\n",
              "      <th>Fjob</th>\n",
              "      <th>reason</th>\n",
              "      <th>guardian</th>\n",
              "      <th>traveltime</th>\n",
              "      <th>studytime</th>\n",
              "      <th>failures</th>\n",
              "      <th>schoolsup</th>\n",
              "      <th>famsup</th>\n",
              "      <th>paid</th>\n",
              "      <th>activities</th>\n",
              "      <th>nursery</th>\n",
              "      <th>higher</th>\n",
              "      <th>internet</th>\n",
              "      <th>romantic</th>\n",
              "      <th>famrel</th>\n",
              "      <th>freetime</th>\n",
              "      <th>goout</th>\n",
              "      <th>Dalc</th>\n",
              "      <th>Walc</th>\n",
              "      <th>health</th>\n",
              "      <th>absences</th>\n",
              "      <th>G1</th>\n",
              "      <th>G2</th>\n",
              "      <th>G3</th>\n",
              "    </tr>\n",
              "  </thead>\n",
              "  <tbody>\n",
              "    <tr>\n",
              "      <th>count</th>\n",
              "      <td>395</td>\n",
              "      <td>395</td>\n",
              "      <td>395.000000</td>\n",
              "      <td>395</td>\n",
              "      <td>395</td>\n",
              "      <td>395</td>\n",
              "      <td>395.000000</td>\n",
              "      <td>395.000000</td>\n",
              "      <td>395</td>\n",
              "      <td>395</td>\n",
              "      <td>395</td>\n",
              "      <td>395</td>\n",
              "      <td>395.000000</td>\n",
              "      <td>395.000000</td>\n",
              "      <td>395.000000</td>\n",
              "      <td>395</td>\n",
              "      <td>395</td>\n",
              "      <td>395</td>\n",
              "      <td>395</td>\n",
              "      <td>395</td>\n",
              "      <td>395</td>\n",
              "      <td>395</td>\n",
              "      <td>395</td>\n",
              "      <td>395.000000</td>\n",
              "      <td>395.000000</td>\n",
              "      <td>395.000000</td>\n",
              "      <td>395.000000</td>\n",
              "      <td>395.000000</td>\n",
              "      <td>395.000000</td>\n",
              "      <td>395.000000</td>\n",
              "      <td>395.000000</td>\n",
              "      <td>395.000000</td>\n",
              "      <td>395.000000</td>\n",
              "    </tr>\n",
              "    <tr>\n",
              "      <th>unique</th>\n",
              "      <td>2</td>\n",
              "      <td>2</td>\n",
              "      <td>NaN</td>\n",
              "      <td>2</td>\n",
              "      <td>2</td>\n",
              "      <td>2</td>\n",
              "      <td>NaN</td>\n",
              "      <td>NaN</td>\n",
              "      <td>5</td>\n",
              "      <td>5</td>\n",
              "      <td>4</td>\n",
              "      <td>3</td>\n",
              "      <td>NaN</td>\n",
              "      <td>NaN</td>\n",
              "      <td>NaN</td>\n",
              "      <td>2</td>\n",
              "      <td>2</td>\n",
              "      <td>2</td>\n",
              "      <td>2</td>\n",
              "      <td>2</td>\n",
              "      <td>2</td>\n",
              "      <td>2</td>\n",
              "      <td>2</td>\n",
              "      <td>NaN</td>\n",
              "      <td>NaN</td>\n",
              "      <td>NaN</td>\n",
              "      <td>NaN</td>\n",
              "      <td>NaN</td>\n",
              "      <td>NaN</td>\n",
              "      <td>NaN</td>\n",
              "      <td>NaN</td>\n",
              "      <td>NaN</td>\n",
              "      <td>NaN</td>\n",
              "    </tr>\n",
              "    <tr>\n",
              "      <th>top</th>\n",
              "      <td>GP</td>\n",
              "      <td>F</td>\n",
              "      <td>NaN</td>\n",
              "      <td>U</td>\n",
              "      <td>GT3</td>\n",
              "      <td>T</td>\n",
              "      <td>NaN</td>\n",
              "      <td>NaN</td>\n",
              "      <td>other</td>\n",
              "      <td>other</td>\n",
              "      <td>course</td>\n",
              "      <td>mother</td>\n",
              "      <td>NaN</td>\n",
              "      <td>NaN</td>\n",
              "      <td>NaN</td>\n",
              "      <td>no</td>\n",
              "      <td>yes</td>\n",
              "      <td>no</td>\n",
              "      <td>yes</td>\n",
              "      <td>yes</td>\n",
              "      <td>yes</td>\n",
              "      <td>yes</td>\n",
              "      <td>no</td>\n",
              "      <td>NaN</td>\n",
              "      <td>NaN</td>\n",
              "      <td>NaN</td>\n",
              "      <td>NaN</td>\n",
              "      <td>NaN</td>\n",
              "      <td>NaN</td>\n",
              "      <td>NaN</td>\n",
              "      <td>NaN</td>\n",
              "      <td>NaN</td>\n",
              "      <td>NaN</td>\n",
              "    </tr>\n",
              "    <tr>\n",
              "      <th>freq</th>\n",
              "      <td>349</td>\n",
              "      <td>208</td>\n",
              "      <td>NaN</td>\n",
              "      <td>307</td>\n",
              "      <td>281</td>\n",
              "      <td>354</td>\n",
              "      <td>NaN</td>\n",
              "      <td>NaN</td>\n",
              "      <td>141</td>\n",
              "      <td>217</td>\n",
              "      <td>145</td>\n",
              "      <td>273</td>\n",
              "      <td>NaN</td>\n",
              "      <td>NaN</td>\n",
              "      <td>NaN</td>\n",
              "      <td>344</td>\n",
              "      <td>242</td>\n",
              "      <td>214</td>\n",
              "      <td>201</td>\n",
              "      <td>314</td>\n",
              "      <td>375</td>\n",
              "      <td>329</td>\n",
              "      <td>263</td>\n",
              "      <td>NaN</td>\n",
              "      <td>NaN</td>\n",
              "      <td>NaN</td>\n",
              "      <td>NaN</td>\n",
              "      <td>NaN</td>\n",
              "      <td>NaN</td>\n",
              "      <td>NaN</td>\n",
              "      <td>NaN</td>\n",
              "      <td>NaN</td>\n",
              "      <td>NaN</td>\n",
              "    </tr>\n",
              "    <tr>\n",
              "      <th>mean</th>\n",
              "      <td>NaN</td>\n",
              "      <td>NaN</td>\n",
              "      <td>16.696203</td>\n",
              "      <td>NaN</td>\n",
              "      <td>NaN</td>\n",
              "      <td>NaN</td>\n",
              "      <td>2.749367</td>\n",
              "      <td>2.521519</td>\n",
              "      <td>NaN</td>\n",
              "      <td>NaN</td>\n",
              "      <td>NaN</td>\n",
              "      <td>NaN</td>\n",
              "      <td>1.448101</td>\n",
              "      <td>2.035443</td>\n",
              "      <td>0.334177</td>\n",
              "      <td>NaN</td>\n",
              "      <td>NaN</td>\n",
              "      <td>NaN</td>\n",
              "      <td>NaN</td>\n",
              "      <td>NaN</td>\n",
              "      <td>NaN</td>\n",
              "      <td>NaN</td>\n",
              "      <td>NaN</td>\n",
              "      <td>3.944304</td>\n",
              "      <td>3.235443</td>\n",
              "      <td>3.108861</td>\n",
              "      <td>1.481013</td>\n",
              "      <td>2.291139</td>\n",
              "      <td>3.554430</td>\n",
              "      <td>5.708861</td>\n",
              "      <td>10.908861</td>\n",
              "      <td>10.713924</td>\n",
              "      <td>10.415190</td>\n",
              "    </tr>\n",
              "    <tr>\n",
              "      <th>std</th>\n",
              "      <td>NaN</td>\n",
              "      <td>NaN</td>\n",
              "      <td>1.276043</td>\n",
              "      <td>NaN</td>\n",
              "      <td>NaN</td>\n",
              "      <td>NaN</td>\n",
              "      <td>1.094735</td>\n",
              "      <td>1.088201</td>\n",
              "      <td>NaN</td>\n",
              "      <td>NaN</td>\n",
              "      <td>NaN</td>\n",
              "      <td>NaN</td>\n",
              "      <td>0.697505</td>\n",
              "      <td>0.839240</td>\n",
              "      <td>0.743651</td>\n",
              "      <td>NaN</td>\n",
              "      <td>NaN</td>\n",
              "      <td>NaN</td>\n",
              "      <td>NaN</td>\n",
              "      <td>NaN</td>\n",
              "      <td>NaN</td>\n",
              "      <td>NaN</td>\n",
              "      <td>NaN</td>\n",
              "      <td>0.896659</td>\n",
              "      <td>0.998862</td>\n",
              "      <td>1.113278</td>\n",
              "      <td>0.890741</td>\n",
              "      <td>1.287897</td>\n",
              "      <td>1.390303</td>\n",
              "      <td>8.003096</td>\n",
              "      <td>3.319195</td>\n",
              "      <td>3.761505</td>\n",
              "      <td>4.581443</td>\n",
              "    </tr>\n",
              "    <tr>\n",
              "      <th>min</th>\n",
              "      <td>NaN</td>\n",
              "      <td>NaN</td>\n",
              "      <td>15.000000</td>\n",
              "      <td>NaN</td>\n",
              "      <td>NaN</td>\n",
              "      <td>NaN</td>\n",
              "      <td>0.000000</td>\n",
              "      <td>0.000000</td>\n",
              "      <td>NaN</td>\n",
              "      <td>NaN</td>\n",
              "      <td>NaN</td>\n",
              "      <td>NaN</td>\n",
              "      <td>1.000000</td>\n",
              "      <td>1.000000</td>\n",
              "      <td>0.000000</td>\n",
              "      <td>NaN</td>\n",
              "      <td>NaN</td>\n",
              "      <td>NaN</td>\n",
              "      <td>NaN</td>\n",
              "      <td>NaN</td>\n",
              "      <td>NaN</td>\n",
              "      <td>NaN</td>\n",
              "      <td>NaN</td>\n",
              "      <td>1.000000</td>\n",
              "      <td>1.000000</td>\n",
              "      <td>1.000000</td>\n",
              "      <td>1.000000</td>\n",
              "      <td>1.000000</td>\n",
              "      <td>1.000000</td>\n",
              "      <td>0.000000</td>\n",
              "      <td>3.000000</td>\n",
              "      <td>0.000000</td>\n",
              "      <td>0.000000</td>\n",
              "    </tr>\n",
              "    <tr>\n",
              "      <th>25%</th>\n",
              "      <td>NaN</td>\n",
              "      <td>NaN</td>\n",
              "      <td>16.000000</td>\n",
              "      <td>NaN</td>\n",
              "      <td>NaN</td>\n",
              "      <td>NaN</td>\n",
              "      <td>2.000000</td>\n",
              "      <td>2.000000</td>\n",
              "      <td>NaN</td>\n",
              "      <td>NaN</td>\n",
              "      <td>NaN</td>\n",
              "      <td>NaN</td>\n",
              "      <td>1.000000</td>\n",
              "      <td>1.000000</td>\n",
              "      <td>0.000000</td>\n",
              "      <td>NaN</td>\n",
              "      <td>NaN</td>\n",
              "      <td>NaN</td>\n",
              "      <td>NaN</td>\n",
              "      <td>NaN</td>\n",
              "      <td>NaN</td>\n",
              "      <td>NaN</td>\n",
              "      <td>NaN</td>\n",
              "      <td>4.000000</td>\n",
              "      <td>3.000000</td>\n",
              "      <td>2.000000</td>\n",
              "      <td>1.000000</td>\n",
              "      <td>1.000000</td>\n",
              "      <td>3.000000</td>\n",
              "      <td>0.000000</td>\n",
              "      <td>8.000000</td>\n",
              "      <td>9.000000</td>\n",
              "      <td>8.000000</td>\n",
              "    </tr>\n",
              "    <tr>\n",
              "      <th>50%</th>\n",
              "      <td>NaN</td>\n",
              "      <td>NaN</td>\n",
              "      <td>17.000000</td>\n",
              "      <td>NaN</td>\n",
              "      <td>NaN</td>\n",
              "      <td>NaN</td>\n",
              "      <td>3.000000</td>\n",
              "      <td>2.000000</td>\n",
              "      <td>NaN</td>\n",
              "      <td>NaN</td>\n",
              "      <td>NaN</td>\n",
              "      <td>NaN</td>\n",
              "      <td>1.000000</td>\n",
              "      <td>2.000000</td>\n",
              "      <td>0.000000</td>\n",
              "      <td>NaN</td>\n",
              "      <td>NaN</td>\n",
              "      <td>NaN</td>\n",
              "      <td>NaN</td>\n",
              "      <td>NaN</td>\n",
              "      <td>NaN</td>\n",
              "      <td>NaN</td>\n",
              "      <td>NaN</td>\n",
              "      <td>4.000000</td>\n",
              "      <td>3.000000</td>\n",
              "      <td>3.000000</td>\n",
              "      <td>1.000000</td>\n",
              "      <td>2.000000</td>\n",
              "      <td>4.000000</td>\n",
              "      <td>4.000000</td>\n",
              "      <td>11.000000</td>\n",
              "      <td>11.000000</td>\n",
              "      <td>11.000000</td>\n",
              "    </tr>\n",
              "    <tr>\n",
              "      <th>75%</th>\n",
              "      <td>NaN</td>\n",
              "      <td>NaN</td>\n",
              "      <td>18.000000</td>\n",
              "      <td>NaN</td>\n",
              "      <td>NaN</td>\n",
              "      <td>NaN</td>\n",
              "      <td>4.000000</td>\n",
              "      <td>3.000000</td>\n",
              "      <td>NaN</td>\n",
              "      <td>NaN</td>\n",
              "      <td>NaN</td>\n",
              "      <td>NaN</td>\n",
              "      <td>2.000000</td>\n",
              "      <td>2.000000</td>\n",
              "      <td>0.000000</td>\n",
              "      <td>NaN</td>\n",
              "      <td>NaN</td>\n",
              "      <td>NaN</td>\n",
              "      <td>NaN</td>\n",
              "      <td>NaN</td>\n",
              "      <td>NaN</td>\n",
              "      <td>NaN</td>\n",
              "      <td>NaN</td>\n",
              "      <td>5.000000</td>\n",
              "      <td>4.000000</td>\n",
              "      <td>4.000000</td>\n",
              "      <td>2.000000</td>\n",
              "      <td>3.000000</td>\n",
              "      <td>5.000000</td>\n",
              "      <td>8.000000</td>\n",
              "      <td>13.000000</td>\n",
              "      <td>13.000000</td>\n",
              "      <td>14.000000</td>\n",
              "    </tr>\n",
              "    <tr>\n",
              "      <th>max</th>\n",
              "      <td>NaN</td>\n",
              "      <td>NaN</td>\n",
              "      <td>22.000000</td>\n",
              "      <td>NaN</td>\n",
              "      <td>NaN</td>\n",
              "      <td>NaN</td>\n",
              "      <td>4.000000</td>\n",
              "      <td>4.000000</td>\n",
              "      <td>NaN</td>\n",
              "      <td>NaN</td>\n",
              "      <td>NaN</td>\n",
              "      <td>NaN</td>\n",
              "      <td>4.000000</td>\n",
              "      <td>4.000000</td>\n",
              "      <td>3.000000</td>\n",
              "      <td>NaN</td>\n",
              "      <td>NaN</td>\n",
              "      <td>NaN</td>\n",
              "      <td>NaN</td>\n",
              "      <td>NaN</td>\n",
              "      <td>NaN</td>\n",
              "      <td>NaN</td>\n",
              "      <td>NaN</td>\n",
              "      <td>5.000000</td>\n",
              "      <td>5.000000</td>\n",
              "      <td>5.000000</td>\n",
              "      <td>5.000000</td>\n",
              "      <td>5.000000</td>\n",
              "      <td>5.000000</td>\n",
              "      <td>75.000000</td>\n",
              "      <td>19.000000</td>\n",
              "      <td>19.000000</td>\n",
              "      <td>20.000000</td>\n",
              "    </tr>\n",
              "  </tbody>\n",
              "</table>\n",
              "</div>"
            ],
            "text/plain": [
              "       school  sex         age address famsize Pstatus        Medu  \\\n",
              "count     395  395  395.000000     395     395     395  395.000000   \n",
              "unique      2    2         NaN       2       2       2         NaN   \n",
              "top        GP    F         NaN       U     GT3       T         NaN   \n",
              "freq      349  208         NaN     307     281     354         NaN   \n",
              "mean      NaN  NaN   16.696203     NaN     NaN     NaN    2.749367   \n",
              "std       NaN  NaN    1.276043     NaN     NaN     NaN    1.094735   \n",
              "min       NaN  NaN   15.000000     NaN     NaN     NaN    0.000000   \n",
              "25%       NaN  NaN   16.000000     NaN     NaN     NaN    2.000000   \n",
              "50%       NaN  NaN   17.000000     NaN     NaN     NaN    3.000000   \n",
              "75%       NaN  NaN   18.000000     NaN     NaN     NaN    4.000000   \n",
              "max       NaN  NaN   22.000000     NaN     NaN     NaN    4.000000   \n",
              "\n",
              "              Fedu   Mjob   Fjob  reason guardian  traveltime   studytime  \\\n",
              "count   395.000000    395    395     395      395  395.000000  395.000000   \n",
              "unique         NaN      5      5       4        3         NaN         NaN   \n",
              "top            NaN  other  other  course   mother         NaN         NaN   \n",
              "freq           NaN    141    217     145      273         NaN         NaN   \n",
              "mean      2.521519    NaN    NaN     NaN      NaN    1.448101    2.035443   \n",
              "std       1.088201    NaN    NaN     NaN      NaN    0.697505    0.839240   \n",
              "min       0.000000    NaN    NaN     NaN      NaN    1.000000    1.000000   \n",
              "25%       2.000000    NaN    NaN     NaN      NaN    1.000000    1.000000   \n",
              "50%       2.000000    NaN    NaN     NaN      NaN    1.000000    2.000000   \n",
              "75%       3.000000    NaN    NaN     NaN      NaN    2.000000    2.000000   \n",
              "max       4.000000    NaN    NaN     NaN      NaN    4.000000    4.000000   \n",
              "\n",
              "          failures schoolsup famsup paid activities nursery higher internet  \\\n",
              "count   395.000000       395    395  395        395     395    395      395   \n",
              "unique         NaN         2      2    2          2       2      2        2   \n",
              "top            NaN        no    yes   no        yes     yes    yes      yes   \n",
              "freq           NaN       344    242  214        201     314    375      329   \n",
              "mean      0.334177       NaN    NaN  NaN        NaN     NaN    NaN      NaN   \n",
              "std       0.743651       NaN    NaN  NaN        NaN     NaN    NaN      NaN   \n",
              "min       0.000000       NaN    NaN  NaN        NaN     NaN    NaN      NaN   \n",
              "25%       0.000000       NaN    NaN  NaN        NaN     NaN    NaN      NaN   \n",
              "50%       0.000000       NaN    NaN  NaN        NaN     NaN    NaN      NaN   \n",
              "75%       0.000000       NaN    NaN  NaN        NaN     NaN    NaN      NaN   \n",
              "max       3.000000       NaN    NaN  NaN        NaN     NaN    NaN      NaN   \n",
              "\n",
              "       romantic      famrel    freetime       goout        Dalc        Walc  \\\n",
              "count       395  395.000000  395.000000  395.000000  395.000000  395.000000   \n",
              "unique        2         NaN         NaN         NaN         NaN         NaN   \n",
              "top          no         NaN         NaN         NaN         NaN         NaN   \n",
              "freq        263         NaN         NaN         NaN         NaN         NaN   \n",
              "mean        NaN    3.944304    3.235443    3.108861    1.481013    2.291139   \n",
              "std         NaN    0.896659    0.998862    1.113278    0.890741    1.287897   \n",
              "min         NaN    1.000000    1.000000    1.000000    1.000000    1.000000   \n",
              "25%         NaN    4.000000    3.000000    2.000000    1.000000    1.000000   \n",
              "50%         NaN    4.000000    3.000000    3.000000    1.000000    2.000000   \n",
              "75%         NaN    5.000000    4.000000    4.000000    2.000000    3.000000   \n",
              "max         NaN    5.000000    5.000000    5.000000    5.000000    5.000000   \n",
              "\n",
              "            health    absences          G1          G2          G3  \n",
              "count   395.000000  395.000000  395.000000  395.000000  395.000000  \n",
              "unique         NaN         NaN         NaN         NaN         NaN  \n",
              "top            NaN         NaN         NaN         NaN         NaN  \n",
              "freq           NaN         NaN         NaN         NaN         NaN  \n",
              "mean      3.554430    5.708861   10.908861   10.713924   10.415190  \n",
              "std       1.390303    8.003096    3.319195    3.761505    4.581443  \n",
              "min       1.000000    0.000000    3.000000    0.000000    0.000000  \n",
              "25%       3.000000    0.000000    8.000000    9.000000    8.000000  \n",
              "50%       4.000000    4.000000   11.000000   11.000000   11.000000  \n",
              "75%       5.000000    8.000000   13.000000   13.000000   14.000000  \n",
              "max       5.000000   75.000000   19.000000   19.000000   20.000000  "
            ]
          },
          "execution_count": 196,
          "metadata": {},
          "output_type": "execute_result"
        }
      ]
    },
    {
      "cell_type": "markdown",
      "metadata": {
        "id": "sEKKhvc7o5ky"
      },
      "source": [
        "<b>1. How many variants of mother's job are in the dataset? (min 3 variants)</b>"
      ]
    },
    {
      "cell_type": "code",
      "metadata": {
        "id": "_3Vc8d0m-wYG",
        "outputId": "874ec4f1-4253-4cb5-ee3c-36ee3e5048ea"
      },
      "source": [
        "len(df.Mjob.unique())"
      ],
      "execution_count": null,
      "outputs": [
        {
          "data": {
            "text/plain": [
              "5"
            ]
          },
          "execution_count": 197,
          "metadata": {},
          "output_type": "execute_result"
        }
      ]
    },
    {
      "cell_type": "code",
      "metadata": {
        "id": "DxCr3-Qp-wYH",
        "outputId": "15bf249d-d6a0-444d-a7cc-b7f2194269c8"
      },
      "source": [
        "len(df.Mjob.drop_duplicates())"
      ],
      "execution_count": null,
      "outputs": [
        {
          "data": {
            "text/plain": [
              "5"
            ]
          },
          "execution_count": 198,
          "metadata": {},
          "output_type": "execute_result"
        }
      ]
    },
    {
      "cell_type": "code",
      "metadata": {
        "id": "71eGJjlP-wYJ",
        "outputId": "9783faf4-0feb-440f-c790-bb9ac24b16f5"
      },
      "source": [
        "len(df.Mjob.value_counts())"
      ],
      "execution_count": null,
      "outputs": [
        {
          "data": {
            "text/plain": [
              "5"
            ]
          },
          "execution_count": 199,
          "metadata": {},
          "output_type": "execute_result"
        }
      ]
    },
    {
      "cell_type": "markdown",
      "metadata": {
        "id": "EoOPDDbto5kz"
      },
      "source": [
        "<b>2. Find how many girls have good final grade (not less than 15) and have romantic relationship (number and percentage)</b>"
      ]
    },
    {
      "cell_type": "code",
      "metadata": {
        "id": "qZaPCtda-wYM",
        "outputId": "7391fb7c-eaf3-4f48-ab72-235cb8d07334"
      },
      "source": [
        "df_f = df[df.sex == 'F']\n",
        "df_f_group = df_f[(df_f.G3 >= 15) & (df_f.romantic == 'yes')]\n",
        "\n",
        "num = len(df_f_group)\n",
        "percentage = 100 * len(df_f_group) / len(df_f)\n",
        "\n",
        "print(f'{num} girls, which is {round(percentage, 2)}% of all girls')"
      ],
      "execution_count": null,
      "outputs": [
        {
          "name": "stdout",
          "output_type": "stream",
          "text": [
            "9 girls, which is 4.33% of all girls\n"
          ]
        }
      ]
    },
    {
      "cell_type": "markdown",
      "metadata": {
        "id": "_Rqqu7VBo5k0"
      },
      "source": [
        "<b>3. Is it better for student's academic performance if his/her parents work at the same job ('other' should be excluded)?</b>"
      ]
    },
    {
      "cell_type": "code",
      "metadata": {
        "id": "cfIggUjm-wYO",
        "outputId": "91743321-6338-462e-ec99-ab6836027793"
      },
      "source": [
        "df_ = df[(df.Mjob != 'other') & (df.Fjob != 'other')]\n",
        "\n",
        "same_jobs_mean_grade = df_[df_.Mjob == df_.Fjob].G3.mean()\n",
        "diff_jobs_mean_grade = df_[df_.Mjob != df_.Fjob].G3.mean()\n",
        "\n",
        "print(same_jobs_mean_grade, diff_jobs_mean_grade)"
      ],
      "execution_count": null,
      "outputs": [
        {
          "name": "stdout",
          "output_type": "stream",
          "text": [
            "11.573529411764707 10.26027397260274\n"
          ]
        }
      ]
    },
    {
      "cell_type": "markdown",
      "metadata": {
        "id": "CqkdchIo-wYP"
      },
      "source": [
        "As we can see, students with parents work at the same job show  better grades results on average."
      ]
    },
    {
      "cell_type": "markdown",
      "metadata": {
        "id": "YcEofEd9o5k0"
      },
      "source": [
        "<b>4. Who is more healthy: students with final grade not less than 15 or not?</b>"
      ]
    },
    {
      "cell_type": "code",
      "metadata": {
        "id": "siv1xD9k-wYQ",
        "outputId": "9110a9df-efdd-437b-84dc-19d7833e6207"
      },
      "source": [
        "best_grades_health = df[df.G3 >= 15].health.mean()\n",
        "others_health = df[df.G3 < 15].health.mean()\n",
        "print(best_grades_health, others_health)"
      ],
      "execution_count": null,
      "outputs": [
        {
          "name": "stdout",
          "output_type": "stream",
          "text": [
            "3.3972602739726026 3.590062111801242\n"
          ]
        }
      ]
    },
    {
      "cell_type": "markdown",
      "metadata": {
        "id": "7QDAOyCc-wYR"
      },
      "source": [
        "So, students with good final grades are slightly less healthy than others."
      ]
    },
    {
      "cell_type": "markdown",
      "metadata": {
        "id": "LqFt8mUvo5k1"
      },
      "source": [
        "<b>5. Is there a direct link between going out with friends and final grade?</b>"
      ]
    },
    {
      "cell_type": "code",
      "metadata": {
        "scrolled": true,
        "id": "vOJRvUWU-wYS",
        "outputId": "6da7e702-81c6-42c5-f4a9-b1587c899fa6"
      },
      "source": [
        "df.groupby('goout').G3.mean()"
      ],
      "execution_count": null,
      "outputs": [
        {
          "data": {
            "text/plain": [
              "goout\n",
              "1     9.869565\n",
              "2    11.194175\n",
              "3    10.961538\n",
              "4     9.651163\n",
              "5     9.037736\n",
              "Name: G3, dtype: float64"
            ]
          },
          "execution_count": 203,
          "metadata": {},
          "output_type": "execute_result"
        }
      ]
    },
    {
      "cell_type": "markdown",
      "metadata": {
        "id": "hJq3-HiQ-wYS"
      },
      "source": [
        "It seems like there's no direct link, but going out with friends sometimes sounds like a good idea."
      ]
    },
    {
      "cell_type": "markdown",
      "metadata": {
        "id": "DWf38gK9o5k1"
      },
      "source": [
        "<b>6. Is there a connection between Mother's education and desire to take higher education?</b>"
      ]
    },
    {
      "cell_type": "code",
      "metadata": {
        "scrolled": true,
        "id": "ArIpsTqF-wYT",
        "outputId": "f51963e3-f562-4fc1-99a0-a87244c81baf"
      },
      "source": [
        "df['higher_int'] = df.higher.map(lambda s: 1 if s == 'yes' else 0)\n",
        "df.groupby('Medu').higher_int.mean()"
      ],
      "execution_count": null,
      "outputs": [
        {
          "data": {
            "text/plain": [
              "Medu\n",
              "0    0.666667\n",
              "1    0.898305\n",
              "2    0.932039\n",
              "3    0.949495\n",
              "4    0.992366\n",
              "Name: higher_int, dtype: float64"
            ]
          },
          "execution_count": 204,
          "metadata": {},
          "output_type": "execute_result"
        }
      ]
    },
    {
      "cell_type": "markdown",
      "metadata": {
        "id": "xXPVqCVR-wYU"
      },
      "source": [
        "Thus, there's direct dependency between Mother's education level and desire to take higher education."
      ]
    },
    {
      "cell_type": "markdown",
      "metadata": {
        "id": "IDD9AtQzo5k2"
      },
      "source": [
        "<b>7. Could we say that girls have more failures when they have romantic relationship than boys?</b>"
      ]
    },
    {
      "cell_type": "code",
      "metadata": {
        "id": "UFJhGEh6-wYU",
        "outputId": "8e7e3e6b-151e-423b-d00f-4d5fdafcfd0a"
      },
      "source": [
        "df[df.romantic == 'yes'].groupby('sex').failures.mean()"
      ],
      "execution_count": null,
      "outputs": [
        {
          "data": {
            "text/plain": [
              "sex\n",
              "F    0.417722\n",
              "M    0.452830\n",
              "Name: failures, dtype: float64"
            ]
          },
          "execution_count": 205,
          "metadata": {},
          "output_type": "execute_result"
        }
      ]
    },
    {
      "cell_type": "markdown",
      "metadata": {
        "id": "2hBpJ1Eq-wYV"
      },
      "source": [
        "Boys have more failures when they have romantic relationship than girls."
      ]
    },
    {
      "cell_type": "markdown",
      "metadata": {
        "id": "S9RcU8PCo5k3"
      },
      "source": [
        "<b>8. Find pairs of jobs with the most and the least average of absences.</b>"
      ]
    },
    {
      "cell_type": "code",
      "metadata": {
        "id": "F9Fk48m3-wYW"
      },
      "source": [
        "# Let's consider only concrete professions\n",
        "df_ = df[(df.Mjob != 'other') & (df.Fjob != 'other')]"
      ],
      "execution_count": null,
      "outputs": []
    },
    {
      "cell_type": "code",
      "metadata": {
        "scrolled": true,
        "id": "cu6CVjg_-wYX",
        "outputId": "b5925119-1f0b-406e-fec9-60cbc15daec7"
      },
      "source": [
        "means = df_.groupby(['Fjob', 'Mjob']).absences.mean()\n",
        "print('Most average of absences: ', means.idxmax())\n",
        "print('Least average of absences: ', means.idxmin())"
      ],
      "execution_count": null,
      "outputs": [
        {
          "name": "stdout",
          "output_type": "stream",
          "text": [
            "Most average of absences:  ('health', 'at_home')\n",
            "Least average of absences:  ('at_home', 'at_home')\n"
          ]
        }
      ]
    },
    {
      "cell_type": "markdown",
      "metadata": {
        "id": "NcI8gZyX-wYX"
      },
      "source": [
        "So, parents sitting at home are more attentive to their children class attendance."
      ]
    },
    {
      "cell_type": "markdown",
      "metadata": {
        "id": "O9Dtjm0fo5k6"
      },
      "source": [
        "<b>9. Calculate the average final grade by romantic relationship and availability of Internet access for boys and girls. Who has the biggest rate?</b>"
      ]
    },
    {
      "cell_type": "code",
      "metadata": {
        "id": "5372uLPn-wYZ",
        "outputId": "c2fc37e8-ef80-4a80-b03d-2cd3f6e889c1"
      },
      "source": [
        "df.groupby(['sex', 'romantic', 'internet']).G3.mean()"
      ],
      "execution_count": null,
      "outputs": [
        {
          "data": {
            "text/plain": [
              "sex  romantic  internet\n",
              "F    no        no           9.464286\n",
              "               yes         10.851485\n",
              "     yes       no           8.400000\n",
              "               yes          9.101449\n",
              "M    no        no           9.681818\n",
              "               yes         11.392857\n",
              "     yes       no           9.833333\n",
              "               yes         10.489362\n",
              "Name: G3, dtype: float64"
            ]
          },
          "execution_count": 208,
          "metadata": {},
          "output_type": "execute_result"
        }
      ]
    },
    {
      "cell_type": "markdown",
      "metadata": {
        "id": "K7-TIFfK-wYa"
      },
      "source": [
        "No relationship and Internet access are the key of great grades for both boys and girls -_-"
      ]
    },
    {
      "cell_type": "markdown",
      "metadata": {
        "id": "nTGcN7mro5k6"
      },
      "source": [
        "<b>10. Print statistics for free time after school by Mother's and Father's job . Find combination with the biggest average rate. (one of the variants that I would like to see - using describe())</b>"
      ]
    },
    {
      "cell_type": "code",
      "metadata": {
        "scrolled": true,
        "id": "UJ5JBHJM-wYb",
        "outputId": "f46c147f-4226-4d9c-b02d-9f49713477a2"
      },
      "source": [
        "df.groupby(['Mjob', 'Fjob']).freetime.describe()"
      ],
      "execution_count": null,
      "outputs": [
        {
          "data": {
            "text/html": [
              "<div>\n",
              "<style scoped>\n",
              "    .dataframe tbody tr th:only-of-type {\n",
              "        vertical-align: middle;\n",
              "    }\n",
              "\n",
              "    .dataframe tbody tr th {\n",
              "        vertical-align: top;\n",
              "    }\n",
              "\n",
              "    .dataframe thead th {\n",
              "        text-align: right;\n",
              "    }\n",
              "</style>\n",
              "<table border=\"1\" class=\"dataframe\">\n",
              "  <thead>\n",
              "    <tr style=\"text-align: right;\">\n",
              "      <th></th>\n",
              "      <th></th>\n",
              "      <th>count</th>\n",
              "      <th>mean</th>\n",
              "      <th>std</th>\n",
              "      <th>min</th>\n",
              "      <th>25%</th>\n",
              "      <th>50%</th>\n",
              "      <th>75%</th>\n",
              "      <th>max</th>\n",
              "    </tr>\n",
              "    <tr>\n",
              "      <th>Mjob</th>\n",
              "      <th>Fjob</th>\n",
              "      <th></th>\n",
              "      <th></th>\n",
              "      <th></th>\n",
              "      <th></th>\n",
              "      <th></th>\n",
              "      <th></th>\n",
              "      <th></th>\n",
              "      <th></th>\n",
              "    </tr>\n",
              "  </thead>\n",
              "  <tbody>\n",
              "    <tr>\n",
              "      <th rowspan=\"5\" valign=\"top\">at_home</th>\n",
              "      <th>at_home</th>\n",
              "      <td>7.0</td>\n",
              "      <td>3.428571</td>\n",
              "      <td>0.786796</td>\n",
              "      <td>3.0</td>\n",
              "      <td>3.00</td>\n",
              "      <td>3.0</td>\n",
              "      <td>3.50</td>\n",
              "      <td>5.0</td>\n",
              "    </tr>\n",
              "    <tr>\n",
              "      <th>health</th>\n",
              "      <td>2.0</td>\n",
              "      <td>2.000000</td>\n",
              "      <td>1.414214</td>\n",
              "      <td>1.0</td>\n",
              "      <td>1.50</td>\n",
              "      <td>2.0</td>\n",
              "      <td>2.50</td>\n",
              "      <td>3.0</td>\n",
              "    </tr>\n",
              "    <tr>\n",
              "      <th>other</th>\n",
              "      <td>33.0</td>\n",
              "      <td>3.060606</td>\n",
              "      <td>0.933387</td>\n",
              "      <td>1.0</td>\n",
              "      <td>3.00</td>\n",
              "      <td>3.0</td>\n",
              "      <td>4.00</td>\n",
              "      <td>5.0</td>\n",
              "    </tr>\n",
              "    <tr>\n",
              "      <th>services</th>\n",
              "      <td>15.0</td>\n",
              "      <td>2.866667</td>\n",
              "      <td>0.833809</td>\n",
              "      <td>1.0</td>\n",
              "      <td>2.50</td>\n",
              "      <td>3.0</td>\n",
              "      <td>3.00</td>\n",
              "      <td>4.0</td>\n",
              "    </tr>\n",
              "    <tr>\n",
              "      <th>teacher</th>\n",
              "      <td>2.0</td>\n",
              "      <td>3.000000</td>\n",
              "      <td>0.000000</td>\n",
              "      <td>3.0</td>\n",
              "      <td>3.00</td>\n",
              "      <td>3.0</td>\n",
              "      <td>3.00</td>\n",
              "      <td>3.0</td>\n",
              "    </tr>\n",
              "    <tr>\n",
              "      <th rowspan=\"4\" valign=\"top\">health</th>\n",
              "      <th>health</th>\n",
              "      <td>6.0</td>\n",
              "      <td>3.833333</td>\n",
              "      <td>0.983192</td>\n",
              "      <td>2.0</td>\n",
              "      <td>4.00</td>\n",
              "      <td>4.0</td>\n",
              "      <td>4.00</td>\n",
              "      <td>5.0</td>\n",
              "    </tr>\n",
              "    <tr>\n",
              "      <th>other</th>\n",
              "      <td>17.0</td>\n",
              "      <td>3.352941</td>\n",
              "      <td>1.114741</td>\n",
              "      <td>1.0</td>\n",
              "      <td>3.00</td>\n",
              "      <td>4.0</td>\n",
              "      <td>4.00</td>\n",
              "      <td>5.0</td>\n",
              "    </tr>\n",
              "    <tr>\n",
              "      <th>services</th>\n",
              "      <td>10.0</td>\n",
              "      <td>2.500000</td>\n",
              "      <td>0.971825</td>\n",
              "      <td>1.0</td>\n",
              "      <td>2.00</td>\n",
              "      <td>2.0</td>\n",
              "      <td>3.00</td>\n",
              "      <td>4.0</td>\n",
              "    </tr>\n",
              "    <tr>\n",
              "      <th>teacher</th>\n",
              "      <td>1.0</td>\n",
              "      <td>4.000000</td>\n",
              "      <td>NaN</td>\n",
              "      <td>4.0</td>\n",
              "      <td>4.00</td>\n",
              "      <td>4.0</td>\n",
              "      <td>4.00</td>\n",
              "      <td>4.0</td>\n",
              "    </tr>\n",
              "    <tr>\n",
              "      <th rowspan=\"5\" valign=\"top\">other</th>\n",
              "      <th>at_home</th>\n",
              "      <td>5.0</td>\n",
              "      <td>3.000000</td>\n",
              "      <td>0.707107</td>\n",
              "      <td>2.0</td>\n",
              "      <td>3.00</td>\n",
              "      <td>3.0</td>\n",
              "      <td>3.00</td>\n",
              "      <td>4.0</td>\n",
              "    </tr>\n",
              "    <tr>\n",
              "      <th>health</th>\n",
              "      <td>2.0</td>\n",
              "      <td>2.500000</td>\n",
              "      <td>0.707107</td>\n",
              "      <td>2.0</td>\n",
              "      <td>2.25</td>\n",
              "      <td>2.5</td>\n",
              "      <td>2.75</td>\n",
              "      <td>3.0</td>\n",
              "    </tr>\n",
              "    <tr>\n",
              "      <th>other</th>\n",
              "      <td>104.0</td>\n",
              "      <td>3.240385</td>\n",
              "      <td>0.970389</td>\n",
              "      <td>1.0</td>\n",
              "      <td>3.00</td>\n",
              "      <td>3.0</td>\n",
              "      <td>4.00</td>\n",
              "      <td>5.0</td>\n",
              "    </tr>\n",
              "    <tr>\n",
              "      <th>services</th>\n",
              "      <td>24.0</td>\n",
              "      <td>3.458333</td>\n",
              "      <td>1.102533</td>\n",
              "      <td>1.0</td>\n",
              "      <td>3.00</td>\n",
              "      <td>3.0</td>\n",
              "      <td>4.00</td>\n",
              "      <td>5.0</td>\n",
              "    </tr>\n",
              "    <tr>\n",
              "      <th>teacher</th>\n",
              "      <td>6.0</td>\n",
              "      <td>2.333333</td>\n",
              "      <td>1.366260</td>\n",
              "      <td>1.0</td>\n",
              "      <td>1.25</td>\n",
              "      <td>2.0</td>\n",
              "      <td>3.50</td>\n",
              "      <td>4.0</td>\n",
              "    </tr>\n",
              "    <tr>\n",
              "      <th rowspan=\"5\" valign=\"top\">services</th>\n",
              "      <th>at_home</th>\n",
              "      <td>6.0</td>\n",
              "      <td>3.833333</td>\n",
              "      <td>0.752773</td>\n",
              "      <td>3.0</td>\n",
              "      <td>3.25</td>\n",
              "      <td>4.0</td>\n",
              "      <td>4.00</td>\n",
              "      <td>5.0</td>\n",
              "    </tr>\n",
              "    <tr>\n",
              "      <th>health</th>\n",
              "      <td>4.0</td>\n",
              "      <td>2.750000</td>\n",
              "      <td>0.500000</td>\n",
              "      <td>2.0</td>\n",
              "      <td>2.75</td>\n",
              "      <td>3.0</td>\n",
              "      <td>3.00</td>\n",
              "      <td>3.0</td>\n",
              "    </tr>\n",
              "    <tr>\n",
              "      <th>other</th>\n",
              "      <td>42.0</td>\n",
              "      <td>3.261905</td>\n",
              "      <td>1.127473</td>\n",
              "      <td>1.0</td>\n",
              "      <td>2.25</td>\n",
              "      <td>3.0</td>\n",
              "      <td>4.00</td>\n",
              "      <td>5.0</td>\n",
              "    </tr>\n",
              "    <tr>\n",
              "      <th>services</th>\n",
              "      <td>43.0</td>\n",
              "      <td>3.325581</td>\n",
              "      <td>0.969068</td>\n",
              "      <td>2.0</td>\n",
              "      <td>3.00</td>\n",
              "      <td>3.0</td>\n",
              "      <td>4.00</td>\n",
              "      <td>5.0</td>\n",
              "    </tr>\n",
              "    <tr>\n",
              "      <th>teacher</th>\n",
              "      <td>8.0</td>\n",
              "      <td>2.875000</td>\n",
              "      <td>0.834523</td>\n",
              "      <td>2.0</td>\n",
              "      <td>2.00</td>\n",
              "      <td>3.0</td>\n",
              "      <td>3.25</td>\n",
              "      <td>4.0</td>\n",
              "    </tr>\n",
              "    <tr>\n",
              "      <th rowspan=\"5\" valign=\"top\">teacher</th>\n",
              "      <th>at_home</th>\n",
              "      <td>2.0</td>\n",
              "      <td>4.500000</td>\n",
              "      <td>0.707107</td>\n",
              "      <td>4.0</td>\n",
              "      <td>4.25</td>\n",
              "      <td>4.5</td>\n",
              "      <td>4.75</td>\n",
              "      <td>5.0</td>\n",
              "    </tr>\n",
              "    <tr>\n",
              "      <th>health</th>\n",
              "      <td>4.0</td>\n",
              "      <td>2.500000</td>\n",
              "      <td>1.290994</td>\n",
              "      <td>1.0</td>\n",
              "      <td>1.75</td>\n",
              "      <td>2.5</td>\n",
              "      <td>3.25</td>\n",
              "      <td>4.0</td>\n",
              "    </tr>\n",
              "    <tr>\n",
              "      <th>other</th>\n",
              "      <td>21.0</td>\n",
              "      <td>3.714286</td>\n",
              "      <td>0.643650</td>\n",
              "      <td>3.0</td>\n",
              "      <td>3.00</td>\n",
              "      <td>4.0</td>\n",
              "      <td>4.00</td>\n",
              "      <td>5.0</td>\n",
              "    </tr>\n",
              "    <tr>\n",
              "      <th>services</th>\n",
              "      <td>19.0</td>\n",
              "      <td>2.947368</td>\n",
              "      <td>0.779864</td>\n",
              "      <td>2.0</td>\n",
              "      <td>2.00</td>\n",
              "      <td>3.0</td>\n",
              "      <td>3.50</td>\n",
              "      <td>4.0</td>\n",
              "    </tr>\n",
              "    <tr>\n",
              "      <th>teacher</th>\n",
              "      <td>12.0</td>\n",
              "      <td>3.916667</td>\n",
              "      <td>0.996205</td>\n",
              "      <td>2.0</td>\n",
              "      <td>3.00</td>\n",
              "      <td>4.0</td>\n",
              "      <td>5.00</td>\n",
              "      <td>5.0</td>\n",
              "    </tr>\n",
              "  </tbody>\n",
              "</table>\n",
              "</div>"
            ],
            "text/plain": [
              "                   count      mean       std  min   25%  50%   75%  max\n",
              "Mjob     Fjob                                                          \n",
              "at_home  at_home     7.0  3.428571  0.786796  3.0  3.00  3.0  3.50  5.0\n",
              "         health      2.0  2.000000  1.414214  1.0  1.50  2.0  2.50  3.0\n",
              "         other      33.0  3.060606  0.933387  1.0  3.00  3.0  4.00  5.0\n",
              "         services   15.0  2.866667  0.833809  1.0  2.50  3.0  3.00  4.0\n",
              "         teacher     2.0  3.000000  0.000000  3.0  3.00  3.0  3.00  3.0\n",
              "health   health      6.0  3.833333  0.983192  2.0  4.00  4.0  4.00  5.0\n",
              "         other      17.0  3.352941  1.114741  1.0  3.00  4.0  4.00  5.0\n",
              "         services   10.0  2.500000  0.971825  1.0  2.00  2.0  3.00  4.0\n",
              "         teacher     1.0  4.000000       NaN  4.0  4.00  4.0  4.00  4.0\n",
              "other    at_home     5.0  3.000000  0.707107  2.0  3.00  3.0  3.00  4.0\n",
              "         health      2.0  2.500000  0.707107  2.0  2.25  2.5  2.75  3.0\n",
              "         other     104.0  3.240385  0.970389  1.0  3.00  3.0  4.00  5.0\n",
              "         services   24.0  3.458333  1.102533  1.0  3.00  3.0  4.00  5.0\n",
              "         teacher     6.0  2.333333  1.366260  1.0  1.25  2.0  3.50  4.0\n",
              "services at_home     6.0  3.833333  0.752773  3.0  3.25  4.0  4.00  5.0\n",
              "         health      4.0  2.750000  0.500000  2.0  2.75  3.0  3.00  3.0\n",
              "         other      42.0  3.261905  1.127473  1.0  2.25  3.0  4.00  5.0\n",
              "         services   43.0  3.325581  0.969068  2.0  3.00  3.0  4.00  5.0\n",
              "         teacher     8.0  2.875000  0.834523  2.0  2.00  3.0  3.25  4.0\n",
              "teacher  at_home     2.0  4.500000  0.707107  4.0  4.25  4.5  4.75  5.0\n",
              "         health      4.0  2.500000  1.290994  1.0  1.75  2.5  3.25  4.0\n",
              "         other      21.0  3.714286  0.643650  3.0  3.00  4.0  4.00  5.0\n",
              "         services   19.0  2.947368  0.779864  2.0  2.00  3.0  3.50  4.0\n",
              "         teacher    12.0  3.916667  0.996205  2.0  3.00  4.0  5.00  5.0"
            ]
          },
          "execution_count": 209,
          "metadata": {},
          "output_type": "execute_result"
        }
      ]
    },
    {
      "cell_type": "code",
      "metadata": {
        "id": "A-kYQsPU-wYb",
        "outputId": "85947e8e-ece5-4558-cfd2-27283bd93588"
      },
      "source": [
        "df.groupby(['Mjob', 'Fjob']).freetime.mean().idxmax()"
      ],
      "execution_count": null,
      "outputs": [
        {
          "data": {
            "text/plain": [
              "('teacher', 'at_home')"
            ]
          },
          "execution_count": 210,
          "metadata": {},
          "output_type": "execute_result"
        }
      ]
    },
    {
      "cell_type": "markdown",
      "metadata": {
        "id": "eQ3qyxOAo5k7"
      },
      "source": [
        "<b>11. Calculate average rate of education for each job for Father for different family sizes.</b>"
      ]
    },
    {
      "cell_type": "code",
      "metadata": {
        "scrolled": true,
        "id": "41si6EW7-wYc",
        "outputId": "34341364-a01a-43e4-a935-e8382a576072"
      },
      "source": [
        "df.groupby(['Fjob', 'famsize']).G3.mean()"
      ],
      "execution_count": null,
      "outputs": [
        {
          "data": {
            "text/plain": [
              "Fjob      famsize\n",
              "at_home   GT3         9.083333\n",
              "          LE3        11.750000\n",
              "health    GT3        11.750000\n",
              "          LE3        11.333333\n",
              "other     GT3         9.954248\n",
              "          LE3        10.765625\n",
              "services  GT3        10.125000\n",
              "          LE3        10.741935\n",
              "teacher   GT3        11.541667\n",
              "          LE3        14.000000\n",
              "Name: G3, dtype: float64"
            ]
          },
          "execution_count": 211,
          "metadata": {},
          "output_type": "execute_result"
        }
      ]
    },
    {
      "cell_type": "markdown",
      "metadata": {
        "id": "E2weBLgx-wYc"
      },
      "source": [
        "Сhildren from small families are more likely to perform well at school, especially when their parents are teachers."
      ]
    },
    {
      "cell_type": "markdown",
      "metadata": {
        "id": "Nbkli9eqo5k7"
      },
      "source": [
        "<b>12. Calculate average final grade by quality of family relationship and parent's cohabitation status. Which case has the biggest average grade?</b>"
      ]
    },
    {
      "cell_type": "code",
      "metadata": {
        "scrolled": true,
        "id": "cjoQm3bX-wYd",
        "outputId": "1ef301e1-0326-4eec-d1bc-9590840d8ba3"
      },
      "source": [
        "means = df.groupby(['famrel', 'Pstatus']).G3.mean()\n",
        "means"
      ],
      "execution_count": null,
      "outputs": [
        {
          "data": {
            "text/plain": [
              "famrel  Pstatus\n",
              "1       A          11.500000\n",
              "        T          10.333333\n",
              "2       A          11.000000\n",
              "        T           9.666667\n",
              "3       A           9.666667\n",
              "        T          10.080645\n",
              "4       A          10.529412\n",
              "        T          10.342697\n",
              "5       A          12.769231\n",
              "        T          10.559140\n",
              "Name: G3, dtype: float64"
            ]
          },
          "execution_count": 212,
          "metadata": {},
          "output_type": "execute_result"
        }
      ]
    },
    {
      "cell_type": "code",
      "metadata": {
        "id": "Dw_5xhY8-wYe",
        "outputId": "1db8375c-3bd9-4492-c7b0-a4703d9ffc95"
      },
      "source": [
        "means.idxmax()"
      ],
      "execution_count": null,
      "outputs": [
        {
          "data": {
            "text/plain": [
              "(5, 'A')"
            ]
          },
          "execution_count": 213,
          "metadata": {},
          "output_type": "execute_result"
        }
      ]
    },
    {
      "cell_type": "markdown",
      "metadata": {
        "id": "veKdB0K0o5k8"
      },
      "source": [
        "<b>13. What is the smallest age in a dataset? How many students of this age? What is the percentage of students with final grade not less than 15? What is the percentage of boys and girls from this slice?</b>"
      ]
    },
    {
      "cell_type": "code",
      "metadata": {
        "id": "cVxgp4NS-wYe",
        "outputId": "9e3cf2c0-efff-4691-e18f-3a47299ba5f6"
      },
      "source": [
        "df.age.min()"
      ],
      "execution_count": null,
      "outputs": [
        {
          "data": {
            "text/plain": [
              "15"
            ]
          },
          "execution_count": 214,
          "metadata": {},
          "output_type": "execute_result"
        }
      ]
    },
    {
      "cell_type": "code",
      "metadata": {
        "id": "DzpOZvYr-wYf",
        "outputId": "0ee48b53-aab8-4b83-bcd7-c2bc314e00c3"
      },
      "source": [
        "len(df[df.age == df.age.min()])"
      ],
      "execution_count": null,
      "outputs": [
        {
          "data": {
            "text/plain": [
              "82"
            ]
          },
          "execution_count": 215,
          "metadata": {},
          "output_type": "execute_result"
        }
      ]
    },
    {
      "cell_type": "code",
      "metadata": {
        "id": "XFVFwmNM-wYg"
      },
      "source": [
        "df_ = df[df.G3 >= 15]\n",
        "percentage = round(len(df_) / len(df) * 100, 2)"
      ],
      "execution_count": null,
      "outputs": []
    },
    {
      "cell_type": "code",
      "metadata": {
        "id": "qVDwJDpL-wYg",
        "outputId": "eb55acde-5a5a-4f23-e6a1-c925de872e13"
      },
      "source": [
        "boys_perc = round(len(df_[df_.sex == 'M']) / len(df_) * 100, 2)\n",
        "print(f'{percentage}% students with grade >= 15, {boys_perc}% of them are boys.')"
      ],
      "execution_count": null,
      "outputs": [
        {
          "name": "stdout",
          "output_type": "stream",
          "text": [
            "18.48% students with grade >= 15, 56.16% of them are boys.\n"
          ]
        }
      ]
    }
  ]
}
