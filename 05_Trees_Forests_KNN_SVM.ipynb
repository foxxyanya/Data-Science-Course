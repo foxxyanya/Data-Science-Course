{
 "cells": [
  {
   "cell_type": "markdown",
   "metadata": {},
   "source": [
    "# Домашняя работа. Решающие деревья и леса. kNN. SVM\n",
    "\n",
    "## Общая информация\n",
    "\n",
    "Дата выдачи: 22.08.2021\n",
    "\n",
    "Срок сдачи: 05.09.2021 09:00MSK\n",
    "\n",
    "\n",
    "### Оценивание и штрафы\n",
    "Каждая из задач имеет определенную «стоимость» (указана в скобках). Максимально допустимая оценка за работу — 10 баллов. Обратите внимание, что только за реализацию функций без подтверждения их корректной работы оценка выставляться не будет.\n",
    "\n",
    "Задание выполняется САМОСТОЯТЕЛЬНО. «Похожие» решения считаются плагиатом и все задействованные студенты (в том числе те, у кого списали) не могут получить за него больше 4 баллов.\n",
    "\n",
    "При сдаче после указанного срока сдачи от выставленной оценки за работу будет отниматься 0.5 балла за каждые 24 часа просрочки.\n",
    "\n",
    "### Формат сдачи\n",
    "Для сдачи задания переименуйте получившийся файл *.ipynb в соответствии со следующим форматом: Username_hw9.ipynb, где Username — ваша фамилия на латинице (например, Kozlova_hw9.ipynb). Далее отправьте этот файл на почту pfilipovich@ibagroup.eu с темой письма \"homework_09.%FULL_NAME%\" с указанными выше условиями."
   ]
  },
  {
   "cell_type": "markdown",
   "metadata": {},
   "source": [
    "Заимпортим нужные библиотеки:"
   ]
  },
  {
   "cell_type": "code",
   "execution_count": 1,
   "metadata": {},
   "outputs": [],
   "source": [
    "import pandas as pd\n",
    "import numpy as np\n",
    "from IPython.display import Image\n",
    "from sklearn.model_selection import KFold, cross_val_score\n",
    "from sklearn.ensemble import RandomForestClassifier\n",
    "from sklearn.neighbors import KNeighborsClassifier\n",
    "from sklearn.svm import SVC\n",
    "from sklearn.tree import DecisionTreeClassifier, export_graphviz\n",
    "from sklearn.metrics import roc_auc_score\n",
    "import pydotplus\n",
    "# import pydot\n",
    "# from sklearn import tree"
   ]
  },
  {
   "cell_type": "markdown",
   "metadata": {},
   "source": [
    "## Постановка задачи\n",
    "\n",
    "Давайте рассмотрим следующую задачу: зная информацию о пациенте попробуем предсказать есть ли у него сердечное заболевание. Каждый пациент будет описываться 13 признаками, включающими в себя возраст, пол, информацию из электрокардиограммы и т.д."
   ]
  },
  {
   "cell_type": "markdown",
   "metadata": {},
   "source": [
    "Загрузите данные из файла *heart.dat.txt*, используя пандас, в переменную *data* (разделитель полей — пробел). Значение целевой переменной находится в последней колонке (*Absence_(1)_or_presence_(2)_of_heart_disease*). "
   ]
  },
  {
   "cell_type": "code",
   "execution_count": 2,
   "metadata": {
    "tags": []
   },
   "outputs": [
    {
     "data": {
      "text/html": [
       "<div>\n",
       "<style scoped>\n",
       "    .dataframe tbody tr th:only-of-type {\n",
       "        vertical-align: middle;\n",
       "    }\n",
       "\n",
       "    .dataframe tbody tr th {\n",
       "        vertical-align: top;\n",
       "    }\n",
       "\n",
       "    .dataframe thead th {\n",
       "        text-align: right;\n",
       "    }\n",
       "</style>\n",
       "<table border=\"1\" class=\"dataframe\">\n",
       "  <thead>\n",
       "    <tr style=\"text-align: right;\">\n",
       "      <th></th>\n",
       "      <th>age</th>\n",
       "      <th>sex</th>\n",
       "      <th>chest_pain_type</th>\n",
       "      <th>resting_blood_pressure</th>\n",
       "      <th>serum_cholestoral_in_mg/dl</th>\n",
       "      <th>fasting_blood_sugar</th>\n",
       "      <th>resting_electrocardiographic_results</th>\n",
       "      <th>maximum_heart_rate_achieved</th>\n",
       "      <th>exercise_induced_angina</th>\n",
       "      <th>oldpeak</th>\n",
       "      <th>the_slope_of_the_peak_exercise</th>\n",
       "      <th>number_of_major_vessels</th>\n",
       "      <th>thal</th>\n",
       "      <th>Absence_(1)_or_presence_(2)_of_heart_disease</th>\n",
       "    </tr>\n",
       "  </thead>\n",
       "  <tbody>\n",
       "    <tr>\n",
       "      <th>0</th>\n",
       "      <td>70.0</td>\n",
       "      <td>1.0</td>\n",
       "      <td>4.0</td>\n",
       "      <td>130.0</td>\n",
       "      <td>322.0</td>\n",
       "      <td>0.0</td>\n",
       "      <td>2.0</td>\n",
       "      <td>109.0</td>\n",
       "      <td>0.0</td>\n",
       "      <td>2.4</td>\n",
       "      <td>2.0</td>\n",
       "      <td>3.0</td>\n",
       "      <td>3.0</td>\n",
       "      <td>0</td>\n",
       "    </tr>\n",
       "    <tr>\n",
       "      <th>1</th>\n",
       "      <td>67.0</td>\n",
       "      <td>0.0</td>\n",
       "      <td>3.0</td>\n",
       "      <td>115.0</td>\n",
       "      <td>564.0</td>\n",
       "      <td>0.0</td>\n",
       "      <td>2.0</td>\n",
       "      <td>160.0</td>\n",
       "      <td>0.0</td>\n",
       "      <td>1.6</td>\n",
       "      <td>2.0</td>\n",
       "      <td>0.0</td>\n",
       "      <td>7.0</td>\n",
       "      <td>1</td>\n",
       "    </tr>\n",
       "    <tr>\n",
       "      <th>2</th>\n",
       "      <td>57.0</td>\n",
       "      <td>1.0</td>\n",
       "      <td>2.0</td>\n",
       "      <td>124.0</td>\n",
       "      <td>261.0</td>\n",
       "      <td>0.0</td>\n",
       "      <td>0.0</td>\n",
       "      <td>141.0</td>\n",
       "      <td>0.0</td>\n",
       "      <td>0.3</td>\n",
       "      <td>1.0</td>\n",
       "      <td>0.0</td>\n",
       "      <td>7.0</td>\n",
       "      <td>0</td>\n",
       "    </tr>\n",
       "    <tr>\n",
       "      <th>3</th>\n",
       "      <td>64.0</td>\n",
       "      <td>1.0</td>\n",
       "      <td>4.0</td>\n",
       "      <td>128.0</td>\n",
       "      <td>263.0</td>\n",
       "      <td>0.0</td>\n",
       "      <td>0.0</td>\n",
       "      <td>105.0</td>\n",
       "      <td>1.0</td>\n",
       "      <td>0.2</td>\n",
       "      <td>2.0</td>\n",
       "      <td>1.0</td>\n",
       "      <td>7.0</td>\n",
       "      <td>1</td>\n",
       "    </tr>\n",
       "    <tr>\n",
       "      <th>4</th>\n",
       "      <td>74.0</td>\n",
       "      <td>0.0</td>\n",
       "      <td>2.0</td>\n",
       "      <td>120.0</td>\n",
       "      <td>269.0</td>\n",
       "      <td>0.0</td>\n",
       "      <td>2.0</td>\n",
       "      <td>121.0</td>\n",
       "      <td>1.0</td>\n",
       "      <td>0.2</td>\n",
       "      <td>1.0</td>\n",
       "      <td>1.0</td>\n",
       "      <td>3.0</td>\n",
       "      <td>1</td>\n",
       "    </tr>\n",
       "  </tbody>\n",
       "</table>\n",
       "</div>"
      ],
      "text/plain": [
       "    age  sex  chest_pain_type  resting_blood_pressure  \\\n",
       "0  70.0  1.0              4.0                   130.0   \n",
       "1  67.0  0.0              3.0                   115.0   \n",
       "2  57.0  1.0              2.0                   124.0   \n",
       "3  64.0  1.0              4.0                   128.0   \n",
       "4  74.0  0.0              2.0                   120.0   \n",
       "\n",
       "   serum_cholestoral_in_mg/dl  fasting_blood_sugar  \\\n",
       "0                       322.0                  0.0   \n",
       "1                       564.0                  0.0   \n",
       "2                       261.0                  0.0   \n",
       "3                       263.0                  0.0   \n",
       "4                       269.0                  0.0   \n",
       "\n",
       "   resting_electrocardiographic_results  maximum_heart_rate_achieved  \\\n",
       "0                                   2.0                        109.0   \n",
       "1                                   2.0                        160.0   \n",
       "2                                   0.0                        141.0   \n",
       "3                                   0.0                        105.0   \n",
       "4                                   2.0                        121.0   \n",
       "\n",
       "   exercise_induced_angina  oldpeak  the_slope_of_the_peak_exercise  \\\n",
       "0                      0.0      2.4                             2.0   \n",
       "1                      0.0      1.6                             2.0   \n",
       "2                      0.0      0.3                             1.0   \n",
       "3                      1.0      0.2                             2.0   \n",
       "4                      1.0      0.2                             1.0   \n",
       "\n",
       "   number_of_major_vessels  thal  Absence_(1)_or_presence_(2)_of_heart_disease  \n",
       "0                      3.0   3.0                                             0  \n",
       "1                      0.0   7.0                                             1  \n",
       "2                      0.0   7.0                                             0  \n",
       "3                      1.0   7.0                                             1  \n",
       "4                      1.0   3.0                                             1  "
      ]
     },
     "execution_count": 2,
     "metadata": {},
     "output_type": "execute_result"
    }
   ],
   "source": [
    "data = pd.read_csv('heart.dat.txt', sep=' ')\n",
    "data.head()"
   ]
  },
  {
   "cell_type": "markdown",
   "metadata": {},
   "source": [
    "Выделите признаки в переменную *X*, а целевую зависимость — в *y*."
   ]
  },
  {
   "cell_type": "code",
   "execution_count": 3,
   "metadata": {
    "tags": []
   },
   "outputs": [],
   "source": [
    "target = 'Absence_(1)_or_presence_(2)_of_heart_disease'\n",
    "X, y = data.drop(columns=[target]), data[target]"
   ]
  },
  {
   "cell_type": "markdown",
   "metadata": {},
   "source": [
    "В начале рассмотрим решающее дерево. Как известно, одно дерево обладает плохой обобщающей сопособностью, поэтому стоит подбирать параметры, такие как высота дерева и минимальное число объектов в листе, для уменьшения этого явления.\n",
    "\n",
    "Для оценки качества будем использовать 5-Fold кросс-валидацию с метрикой *AUC-ROC*. Создайте объект [KFold](http://scikit-learn.org/stable/modules/generated/sklearn.cross_validation.KFold.html) со следующими параметрами:\n",
    " - первым параметром нужно передать количество объектов в выборке\n",
    " - *n_folds* равно 5\n",
    " - установить *shuffle=True*, чтобы объекты были перемешаны перед разбиением\n",
    " - зафиксировать *random_state*"
   ]
  },
  {
   "cell_type": "code",
   "execution_count": 4,
   "metadata": {
    "tags": []
   },
   "outputs": [],
   "source": [
    "kfold = KFold(n_splits=5, shuffle=True, random_state=1)"
   ]
  },
  {
   "cell_type": "markdown",
   "metadata": {},
   "source": [
    "Теперь воспользуемся функцией [cross_val_score](https://scikit-learn.org/stable/modules/generated/sklearn.model_selection.cross_val_score.html) для оценки качества. Она принимает следующие параметры:\n",
    " - *estimator* — в данном случае им будет решающее дерево [DecisionTreeClassifier](http://scikit-learn.org/stable/modules/generated/sklearn.tree.DecisionTreeClassifier.html). Здесь и далее фиксируйте параметр *random_state* у решающего дерева, чтобы результат был воспроизводим. В этом пункте ограничения на другие параметры не накладываются\n",
    " - *X* и *y* — матрица \"объект-признак\" и значение целевой переменной соответственно\n",
    " - *scoring* просто указать *roc_auc_score*\n",
    " - *cv* — передать созданный ранее kfold\n",
    " \n",
    "Эта функция возвращает массив значений качества на каждом разбиении. \n",
    "\n",
    "Опционарно использовать [GridSearchCV](https://scikit-learn.org/stable/modules/generated/sklearn.model_selection.GridSearchCV.html) для перебора признаков - в дополнение к перебору комбинаций признаков руками.\n",
    "\n",
    "**(1 балл)** Посчитайте среднее, минимальное и максимальное качество, которое получатеся с помощью решающего дерева."
   ]
  },
  {
   "cell_type": "code",
   "execution_count": 5,
   "metadata": {
    "tags": []
   },
   "outputs": [
    {
     "name": "stdout",
     "output_type": "stream",
     "text": [
      "min = 0.697054698457223 \n",
      "max = 0.798076923076923 \n",
      "mean = 0.7679706213890573\n"
     ]
    }
   ],
   "source": [
    "results = cross_val_score(DecisionTreeClassifier(random_state=1), X, y, scoring='roc_auc', cv=kfold)\n",
    "print('min =', results.min(), '\\nmax =', results.max(), '\\nmean =', results.mean())"
   ]
  },
  {
   "cell_type": "markdown",
   "metadata": {},
   "source": [
    "**(0.5 балла)** Теперь попробуем посмотреть изменится ли оно, если ограничить высоту дерева. Зафиксируйте высоту дерева равной 3 и повторите аналогичные действия. Увеличились ли показания качества по сравнению с прошлым разом?\n",
    "\n",
    "**Дополнительно: отобразите дерево с помощью graphviz. Можно использовать `pydot` или, например, [онлайн-сервис](https://www.coolutils.com/ru/online/DOT-to-PNG) dot2png.**"
   ]
  },
  {
   "cell_type": "code",
   "execution_count": 6,
   "metadata": {
    "scrolled": true,
    "tags": []
   },
   "outputs": [
    {
     "name": "stdout",
     "output_type": "stream",
     "text": [
      "min = 0.7328190743338008 \n",
      "max = 0.9017857142857142 \n",
      "mean = 0.8322307131026239\n"
     ]
    }
   ],
   "source": [
    "tree3 = DecisionTreeClassifier(random_state=1, max_depth=3)\n",
    "results = cross_val_score(tree3, X, y, scoring='roc_auc', cv=kfold)\n",
    "print('min =', results.min(), '\\nmax =', results.max(), '\\nmean =', results.mean())"
   ]
  },
  {
   "cell_type": "markdown",
   "metadata": {},
   "source": [
    "Ограничение высоты дерева повысила качество предсказаний!"
   ]
  },
  {
   "cell_type": "code",
   "execution_count": 7,
   "metadata": {},
   "outputs": [],
   "source": [
    "def visualize_tree(tree_model, X, y):\n",
    "    tree_model.fit(X, y)\n",
    "    out_file = export_graphviz(\n",
    "        tree_model,\n",
    "        feature_names=X.columns,\n",
    "        filled=True,\n",
    "        rounded=True\n",
    "    )\n",
    "    graph = pydotplus.graph_from_dot_data(out_file)\n",
    "    return Image(graph.create_png())"
   ]
  },
  {
   "cell_type": "code",
   "execution_count": 8,
   "metadata": {
    "scrolled": true
   },
   "outputs": [
    {
     "data": {
      "image/png": "[encoded data removed]",
      "text/plain": [
       "<IPython.core.display.Image object>"
      ]
     },
     "execution_count": 8,
     "metadata": {},
     "output_type": "execute_result"
    }
   ],
   "source": [
    "visualize_tree(tree3, X, y)"
   ]
  },
  {
   "cell_type": "markdown",
   "metadata": {},
   "source": [
    "**(0.5 балла)** А принесет ли улучшение, если ограничить высоту дерева 1? \n",
    "\n",
    "**Дополнительно: отобразите дерево с помощью graphviz. Можно использовать `pydot` или, например, [онлайн-сервис](https://www.coolutils.com/ru/online/DOT-to-PNG) dot2png.**"
   ]
  },
  {
   "cell_type": "code",
   "execution_count": 9,
   "metadata": {
    "tags": []
   },
   "outputs": [
    {
     "name": "stdout",
     "output_type": "stream",
     "text": [
      "min = 0.6430575035063113 \n",
      "max = 0.7710344827586206 \n",
      "mean = 0.7141744664711247\n"
     ]
    }
   ],
   "source": [
    "tree1 = DecisionTreeClassifier(random_state=1, max_depth=1)\n",
    "results = cross_val_score(tree1, X, y, scoring='roc_auc', cv=kfold)\n",
    "print('min =', results.min(), '\\nmax =', results.max(), '\\nmean =', results.mean())"
   ]
  },
  {
   "cell_type": "markdown",
   "metadata": {},
   "source": [
    "А вот пень показывает худший результат среди этих трех моделей."
   ]
  },
  {
   "cell_type": "code",
   "execution_count": 10,
   "metadata": {},
   "outputs": [
    {
     "data": {
      "image/png": "[encoded data removed]",
      "text/plain": [
       "<IPython.core.display.Image object>"
      ]
     },
     "execution_count": 10,
     "metadata": {},
     "output_type": "execute_result"
    }
   ],
   "source": [
    "visualize_tree(tree1, X, y)"
   ]
  },
  {
   "cell_type": "markdown",
   "metadata": {},
   "source": [
    "**(1 балл)** Напишите почему наложение ограничения на высоту дерева влияет на его обобщающую способность. Почему деревья глубиной 1 по одиночке могут быть неэффективны?"
   ]
  },
  {
   "cell_type": "markdown",
   "metadata": {
    "tags": []
   },
   "source": [
    "Без ограничений на высоту дерево делает split'ы до тех пор, пока мера неоднородности не даст значение 0. Но в таком случае оно подстраивается под каждый выброс и сильно переобучается. Наложение ограничения на высоту позволяет не учитывать отдельные выбросы, поэтому модель будет лучше обобщать и будет показывать лучшие результаты на тестовой выборке (но может так получиться, что в листе неоднородность будет слишком большой и дерево не доучится). Дерево глубиной 1 по сути принимает решение, исходя лишь из одного признака и одного threshold'a, поэтому оно может быть неэффективно."
   ]
  },
  {
   "cell_type": "markdown",
   "metadata": {},
   "source": [
    "**(2 балла)** Теперь попробуем провести аналогичные эксперименты для случая решающего леса [RandomForestClassifier](http://scikit-learn.org/stable/modules/generated/sklearn.ensemble.RandomForestClassifier.html). Рассмотрите 10, 50 и 100 деревьев в случайном лесу (поле *n_estimators*) для высоты деревьев по умолчанию, 3 и 1 (поле *max_depth*). Не забудьте зафиксировать *random_state*. Улучшается ли качество при увеличении количества деревьев в лесу? Сильно ли влияет ограничение на высоту деревьев при построении леса?"
   ]
  },
  {
   "cell_type": "code",
   "execution_count": 11,
   "metadata": {},
   "outputs": [
    {
     "name": "stdout",
     "output_type": "stream",
     "text": [
      "Зависимость качества RandomForestClassifier от высоты(колонки) и числа деревьев(строки).\n"
     ]
    },
    {
     "data": {
      "text/html": [
       "<div>\n",
       "<style scoped>\n",
       "    .dataframe tbody tr th:only-of-type {\n",
       "        vertical-align: middle;\n",
       "    }\n",
       "\n",
       "    .dataframe tbody tr th {\n",
       "        vertical-align: top;\n",
       "    }\n",
       "\n",
       "    .dataframe thead th {\n",
       "        text-align: right;\n",
       "    }\n",
       "</style>\n",
       "<table border=\"1\" class=\"dataframe\">\n",
       "  <thead>\n",
       "    <tr style=\"text-align: right;\">\n",
       "      <th></th>\n",
       "      <th>1</th>\n",
       "      <th>3</th>\n",
       "      <th>No limit</th>\n",
       "    </tr>\n",
       "  </thead>\n",
       "  <tbody>\n",
       "    <tr>\n",
       "      <th>10</th>\n",
       "      <td>0.853394</td>\n",
       "      <td>0.907802</td>\n",
       "      <td>0.884197</td>\n",
       "    </tr>\n",
       "    <tr>\n",
       "      <th>50</th>\n",
       "      <td>0.900808</td>\n",
       "      <td>0.912705</td>\n",
       "      <td>0.911652</td>\n",
       "    </tr>\n",
       "    <tr>\n",
       "      <th>100</th>\n",
       "      <td>0.902312</td>\n",
       "      <td>0.917144</td>\n",
       "      <td>0.916541</td>\n",
       "    </tr>\n",
       "  </tbody>\n",
       "</table>\n",
       "</div>"
      ],
      "text/plain": [
       "            1         3  No limit\n",
       "10   0.853394  0.907802  0.884197\n",
       "50   0.900808  0.912705  0.911652\n",
       "100  0.902312  0.917144  0.916541"
      ]
     },
     "execution_count": 11,
     "metadata": {},
     "output_type": "execute_result"
    }
   ],
   "source": [
    "n_ests = [10, 50, 100]\n",
    "depths = [1, 3, None]\n",
    "rf_table = pd.DataFrame(np.ones(shape=[3, 3]), columns=depths, index=n_ests)\n",
    "\n",
    "for n_est in n_ests:\n",
    "    for depth in depths:\n",
    "        model = RandomForestClassifier(random_state=1, n_estimators=n_est, max_depth=depth)\n",
    "        results = cross_val_score(model, X, y, scoring='roc_auc', cv=kfold)\n",
    "        rf_table.loc[n_est, depth] = results.mean()\n",
    "rf_table.columns = ['1', '3', 'No limit']\n",
    "        \n",
    "print('Зависимость качества RandomForestClassifier от высоты(колонки) и числа деревьев(строки).')\n",
    "rf_table"
   ]
  },
  {
   "cell_type": "markdown",
   "metadata": {},
   "source": [
    "Как видно из таблицы, качество модели повышается при увеличении количества деревьев. \n",
    "Без ограничений на высоту качество модели понизилось, но совсем не сильно (RandomForest реализует бэггинг, и поэтому достаточно устойчив к переобучению деревьев, ведь переобученные деревья дают наименее скоррелированные ошибки, а в основе доказательства улучшенной оценки семейства деревьев по сравнению с одиночными как раз и лежит предположение, что ошибки деревьев независимы)."
   ]
  },
  {
   "cell_type": "markdown",
   "metadata": {},
   "source": [
    "**(1 балл)** И напоследок посмотрим, какие признаки являются наиболее *важными*. Обучите решающий лес с оптимальными на ваш взгляд параметрами (можете опираться на эксперименты ранее) на всей выборке и посмотрите на поле *feature\\_importances\\_* у обученного леса. Выпишите названия наиболее и наименее важных признаков с точки зрения случайного леса. "
   ]
  },
  {
   "cell_type": "code",
   "execution_count": 12,
   "metadata": {
    "scrolled": true,
    "tags": []
   },
   "outputs": [
    {
     "data": {
      "text/plain": [
       "thal                                    0.215216\n",
       "chest_pain_type                         0.187060\n",
       "number_of_major_vessels                 0.145033\n",
       "maximum_heart_rate_achieved             0.107710\n",
       "oldpeak                                 0.087640\n",
       "the_slope_of_the_peak_exercise          0.061885\n",
       "exercise_induced_angina                 0.050343\n",
       "age                                     0.041035\n",
       "resting_blood_pressure                  0.033559\n",
       "serum_cholestoral_in_mg/dl              0.032127\n",
       "sex                                     0.027490\n",
       "resting_electrocardiographic_results    0.008916\n",
       "fasting_blood_sugar                     0.001986\n",
       "dtype: float64"
      ]
     },
     "execution_count": 12,
     "metadata": {},
     "output_type": "execute_result"
    }
   ],
   "source": [
    "optimal_tree = RandomForestClassifier(random_state=1, n_estimators=100, max_depth=3)\n",
    "optimal_tree.fit(X, y)\n",
    "importences = pd.Series(optimal_tree.feature_importances_, index=X.columns).sort_values(ascending=False)\n",
    "importences"
   ]
  },
  {
   "cell_type": "markdown",
   "metadata": {},
   "source": [
    "Наиболее значимыми признаками является thal рейтинг и тип боли в груди, наименее - fasting_blood_sugar, resting_electrocardiographic_results."
   ]
  },
  {
   "cell_type": "markdown",
   "metadata": {},
   "source": [
    "**(2 балла)** Попробуем провести аналогичные эксперименты для kNN [KNeighborsClassifier](https://scikit-learn.org/stable/modules/generated/sklearn.neighbors.KNeighborsClassifier.html). Рассмотрите не менее 5-х различных N (поле *n_neighbors*, обязательно включая [1, 5, 21]), попробуйте изменять функцию (не менее 3-х) для определения расстояния в пространстве (поле *metric*). Как влияет количество соседей на получаемый результат? Каким образом подбирали остальные величины количества соседей? Как влияние функции определения расстояния в пространстве?"
   ]
  },
  {
   "cell_type": "code",
   "execution_count": 13,
   "metadata": {},
   "outputs": [
    {
     "name": "stdout",
     "output_type": "stream",
     "text": [
      "Зависимость качества KNeighborsClassifier от метрики(колонки) и k(строки).\n"
     ]
    },
    {
     "data": {
      "text/html": [
       "<div>\n",
       "<style scoped>\n",
       "    .dataframe tbody tr th:only-of-type {\n",
       "        vertical-align: middle;\n",
       "    }\n",
       "\n",
       "    .dataframe tbody tr th {\n",
       "        vertical-align: top;\n",
       "    }\n",
       "\n",
       "    .dataframe thead th {\n",
       "        text-align: right;\n",
       "    }\n",
       "</style>\n",
       "<table border=\"1\" class=\"dataframe\">\n",
       "  <thead>\n",
       "    <tr style=\"text-align: right;\">\n",
       "      <th></th>\n",
       "      <th>euclidean</th>\n",
       "      <th>manhattan</th>\n",
       "      <th>chebyshev</th>\n",
       "    </tr>\n",
       "  </thead>\n",
       "  <tbody>\n",
       "    <tr>\n",
       "      <th>1</th>\n",
       "      <td>0.585584</td>\n",
       "      <td>0.649704</td>\n",
       "      <td>0.589724</td>\n",
       "    </tr>\n",
       "    <tr>\n",
       "      <th>5</th>\n",
       "      <td>0.724068</td>\n",
       "      <td>0.768398</td>\n",
       "      <td>0.707851</td>\n",
       "    </tr>\n",
       "    <tr>\n",
       "      <th>21</th>\n",
       "      <td>0.757950</td>\n",
       "      <td>0.807877</td>\n",
       "      <td>0.714650</td>\n",
       "    </tr>\n",
       "    <tr>\n",
       "      <th>23</th>\n",
       "      <td>0.751163</td>\n",
       "      <td>0.810021</td>\n",
       "      <td>0.717349</td>\n",
       "    </tr>\n",
       "    <tr>\n",
       "      <th>27</th>\n",
       "      <td>0.752593</td>\n",
       "      <td>0.797687</td>\n",
       "      <td>0.725297</td>\n",
       "    </tr>\n",
       "  </tbody>\n",
       "</table>\n",
       "</div>"
      ],
      "text/plain": [
       "    euclidean  manhattan  chebyshev\n",
       "1    0.585584   0.649704   0.589724\n",
       "5    0.724068   0.768398   0.707851\n",
       "21   0.757950   0.807877   0.714650\n",
       "23   0.751163   0.810021   0.717349\n",
       "27   0.752593   0.797687   0.725297"
      ]
     },
     "execution_count": 13,
     "metadata": {},
     "output_type": "execute_result"
    }
   ],
   "source": [
    "ks = [1, 5, 21, 23, 27]\n",
    "metrics = ['euclidean', 'manhattan', 'chebyshev']\n",
    "knn_table = pd.DataFrame(np.ones([len(ks), len(metrics)]), columns=metrics, index=ks)\n",
    "\n",
    "for k in ks:\n",
    "    for metric in metrics:\n",
    "        knc = KNeighborsClassifier(n_neighbors=k, metric=metric)\n",
    "        results = cross_val_score(knc, X, y, scoring='roc_auc', cv=kfold)\n",
    "        knn_table.loc[k, metric] = results.mean()\n",
    "        # print(f'k={k}, metric={metric}: {results.mean()}')\n",
    "  \n",
    "print('Зависимость качества KNeighborsClassifier от метрики(колонки) и k(строки).')\n",
    "knn_table"
   ]
  },
  {
   "cell_type": "markdown",
   "metadata": {},
   "source": [
    "Слишком большой k будет предсказывать слишком обобщенно, а модель со слишком маленьким k будет чувствительна к выбросам.\n",
    "В данном случае модель показала лучшие результаты среди [1, 5, 21] на k=21 на всех метриках, а 23 и 27 рассматривались, т.к. при k=23 модель для большинства метрик показывает лучшие результаты по сравнению с 21, а вот k=27 в большинстве случаев уже проигрывает k=21. Для данной задачи Manhattan metric подошла лучше остальных."
   ]
  },
  {
   "cell_type": "markdown",
   "metadata": {},
   "source": [
    "**(2 балла)** Попробуем провести аналогичные эксперименты для SVM [SVC (Support Vector Classifier)](https://scikit-learn.org/stable/modules/generated/sklearn.svm.SVC.html). Рассмотрите различные ядра (поле *kernel*, [linear, poly, rbf, sigmoid]), для [poly] попробуйте разные степени полинома, не менее 4 (поле *degree*, обязательно попробуйте [1,3]). Как влияют разные ядра на получаемый результат? Как влияет степень полинома на результат?"
   ]
  },
  {
   "cell_type": "code",
   "execution_count": 14,
   "metadata": {
    "scrolled": true,
    "tags": []
   },
   "outputs": [
    {
     "name": "stdout",
     "output_type": "stream",
     "text": [
      "kernel=linear: 0.9130928399678219\n",
      "kernel=rbf: 0.7637118859334364\n",
      "kernel=sigmoid: 0.7062215384095735\n",
      "kernel=poly, degree=1: 0.7596356557039925\n",
      "kernel=poly, degree=3: 0.7628874311514926\n",
      "kernel=poly, degree=10: 0.8143796243789957\n",
      "kernel=poly, degree=15: 0.802841817895259\n",
      "kernel=poly, degree=20: 0.7957134372078996\n"
     ]
    }
   ],
   "source": [
    "kernels = ['linear', 'rbf', 'sigmoid']\n",
    "for kernel in kernels:\n",
    "    svc = SVC(kernel=kernel)\n",
    "    results = cross_val_score(svc, X, y, scoring='roc_auc', cv=kfold)\n",
    "    print(f'kernel={kernel}: {results.mean()}')\n",
    "\n",
    "poly_degrees = [1, 3, 10, 15, 20]\n",
    "for degree in poly_degrees:\n",
    "    svc = SVC(kernel='poly', degree=degree)\n",
    "    results = cross_val_score(svc, X, y, scoring='roc_auc', cv=kfold)\n",
    "    print(f'kernel=poly, degree={degree}: {results.mean()}')"
   ]
  },
  {
   "cell_type": "markdown",
   "metadata": {},
   "source": [
    "В нашем случае наиболее высокие результаты показало ядро  linear. В случае poly, сначала с повышением степени точность предсказания сначала повышается (при 10 максимальна для данного набора степеней), а затем снижается."
   ]
  },
  {
   "cell_type": "markdown",
   "metadata": {},
   "source": [
    "### Бонусная задача"
   ]
  },
  {
   "cell_type": "markdown",
   "metadata": {},
   "source": [
    "Самостоятельно реализуйте DecisionTree с некоторыми ограничениями (перечислены ниже). Задание может быть оценено частично."
   ]
  },
  {
   "cell_type": "markdown",
   "metadata": {},
   "source": [
    "Он должен получать на вход матрицу объект-признак и целевую переменную. На каждом этапе должен производить определение оптимальной пары признак-величина (для создания разделения данных, поступавших в вершину). Ограничение обучения реализуйте через ограничение допустимой максимальной глубины дерева - остальные опционарно."
   ]
  },
  {
   "cell_type": "markdown",
   "metadata": {},
   "source": [
    "В качестве данных предлагается использовать игрушечный датасет из курса ODS.\n",
    "\n",
    "**Рассмотрим игрушечную задачу бинарной классификации: поедет ли с Вами новый знакомый из бара? Это будет зависеть от Вашей внешности и красноречия, крепости предлагаемых напитков и, как это ни меркантильно, от количества потраченных в баре денег.**"
   ]
  },
  {
   "cell_type": "markdown",
   "metadata": {},
   "source": [
    "### Создание набора данных"
   ]
  },
  {
   "cell_type": "code",
   "execution_count": 15,
   "metadata": {},
   "outputs": [],
   "source": [
    "from sklearn.preprocessing import LabelEncoder\n",
    "\n",
    "# Создание датафрейма с dummy variables\n",
    "def create_df(dic, feature_list):\n",
    "    out = pd.DataFrame(dic)\n",
    "    out = pd.concat([out, pd.get_dummies(out[feature_list])], axis = 1)\n",
    "    out.drop(feature_list, axis = 1, inplace = True)\n",
    "    return out\n",
    "\n",
    "# Некоторые значения признаков есть в тесте, но нет в трейне и наоборот\n",
    "def intersect_features(train, test):\n",
    "    common_feat = list( set(train.keys()) & set(test.keys()))\n",
    "    return train[common_feat], test[common_feat]"
   ]
  },
  {
   "cell_type": "code",
   "execution_count": 16,
   "metadata": {},
   "outputs": [],
   "source": [
    "features = ['Внешность', 'Алкоголь_в_напитке',\n",
    "            'Уровень_красноречия', 'Потраченные_деньги']\n",
    "target = ['Поедет']"
   ]
  },
  {
   "cell_type": "markdown",
   "metadata": {},
   "source": [
    "**Обучающая выборка**"
   ]
  },
  {
   "cell_type": "code",
   "execution_count": 17,
   "metadata": {},
   "outputs": [
    {
     "data": {
      "text/html": [
       "<div>\n",
       "<style scoped>\n",
       "    .dataframe tbody tr th:only-of-type {\n",
       "        vertical-align: middle;\n",
       "    }\n",
       "\n",
       "    .dataframe tbody tr th {\n",
       "        vertical-align: top;\n",
       "    }\n",
       "\n",
       "    .dataframe thead th {\n",
       "        text-align: right;\n",
       "    }\n",
       "</style>\n",
       "<table border=\"1\" class=\"dataframe\">\n",
       "  <thead>\n",
       "    <tr style=\"text-align: right;\">\n",
       "      <th></th>\n",
       "      <th>Поедет</th>\n",
       "      <th>Внешность_отталкивающая</th>\n",
       "      <th>Внешность_приятная</th>\n",
       "      <th>Алкоголь_в_напитке_да</th>\n",
       "      <th>Алкоголь_в_напитке_нет</th>\n",
       "      <th>Уровень_красноречия_высокий</th>\n",
       "      <th>Уровень_красноречия_низкий</th>\n",
       "      <th>Уровень_красноречия_средний</th>\n",
       "      <th>Потраченные_деньги_мало</th>\n",
       "      <th>Потраченные_деньги_много</th>\n",
       "    </tr>\n",
       "  </thead>\n",
       "  <tbody>\n",
       "    <tr>\n",
       "      <th>0</th>\n",
       "      <td>0</td>\n",
       "      <td>0</td>\n",
       "      <td>1</td>\n",
       "      <td>1</td>\n",
       "      <td>0</td>\n",
       "      <td>1</td>\n",
       "      <td>0</td>\n",
       "      <td>0</td>\n",
       "      <td>0</td>\n",
       "      <td>1</td>\n",
       "    </tr>\n",
       "    <tr>\n",
       "      <th>1</th>\n",
       "      <td>1</td>\n",
       "      <td>0</td>\n",
       "      <td>1</td>\n",
       "      <td>1</td>\n",
       "      <td>0</td>\n",
       "      <td>0</td>\n",
       "      <td>1</td>\n",
       "      <td>0</td>\n",
       "      <td>1</td>\n",
       "      <td>0</td>\n",
       "    </tr>\n",
       "    <tr>\n",
       "      <th>2</th>\n",
       "      <td>0</td>\n",
       "      <td>0</td>\n",
       "      <td>1</td>\n",
       "      <td>0</td>\n",
       "      <td>1</td>\n",
       "      <td>0</td>\n",
       "      <td>0</td>\n",
       "      <td>1</td>\n",
       "      <td>0</td>\n",
       "      <td>1</td>\n",
       "    </tr>\n",
       "    <tr>\n",
       "      <th>3</th>\n",
       "      <td>1</td>\n",
       "      <td>1</td>\n",
       "      <td>0</td>\n",
       "      <td>0</td>\n",
       "      <td>1</td>\n",
       "      <td>0</td>\n",
       "      <td>0</td>\n",
       "      <td>1</td>\n",
       "      <td>1</td>\n",
       "      <td>0</td>\n",
       "    </tr>\n",
       "    <tr>\n",
       "      <th>4</th>\n",
       "      <td>1</td>\n",
       "      <td>1</td>\n",
       "      <td>0</td>\n",
       "      <td>1</td>\n",
       "      <td>0</td>\n",
       "      <td>0</td>\n",
       "      <td>1</td>\n",
       "      <td>0</td>\n",
       "      <td>0</td>\n",
       "      <td>1</td>\n",
       "    </tr>\n",
       "    <tr>\n",
       "      <th>5</th>\n",
       "      <td>0</td>\n",
       "      <td>1</td>\n",
       "      <td>0</td>\n",
       "      <td>1</td>\n",
       "      <td>0</td>\n",
       "      <td>1</td>\n",
       "      <td>0</td>\n",
       "      <td>0</td>\n",
       "      <td>0</td>\n",
       "      <td>1</td>\n",
       "    </tr>\n",
       "    <tr>\n",
       "      <th>6</th>\n",
       "      <td>0</td>\n",
       "      <td>0</td>\n",
       "      <td>1</td>\n",
       "      <td>1</td>\n",
       "      <td>0</td>\n",
       "      <td>0</td>\n",
       "      <td>0</td>\n",
       "      <td>1</td>\n",
       "      <td>0</td>\n",
       "      <td>1</td>\n",
       "    </tr>\n",
       "  </tbody>\n",
       "</table>\n",
       "</div>"
      ],
      "text/plain": [
       "   Поедет  Внешность_отталкивающая  Внешность_приятная  Алкоголь_в_напитке_да  \\\n",
       "0       0                        0                   1                      1   \n",
       "1       1                        0                   1                      1   \n",
       "2       0                        0                   1                      0   \n",
       "3       1                        1                   0                      0   \n",
       "4       1                        1                   0                      1   \n",
       "5       0                        1                   0                      1   \n",
       "6       0                        0                   1                      1   \n",
       "\n",
       "   Алкоголь_в_напитке_нет  Уровень_красноречия_высокий  \\\n",
       "0                       0                            1   \n",
       "1                       0                            0   \n",
       "2                       1                            0   \n",
       "3                       1                            0   \n",
       "4                       0                            0   \n",
       "5                       0                            1   \n",
       "6                       0                            0   \n",
       "\n",
       "   Уровень_красноречия_низкий  Уровень_красноречия_средний  \\\n",
       "0                           0                            0   \n",
       "1                           1                            0   \n",
       "2                           0                            1   \n",
       "3                           0                            1   \n",
       "4                           1                            0   \n",
       "5                           0                            0   \n",
       "6                           0                            1   \n",
       "\n",
       "   Потраченные_деньги_мало  Потраченные_деньги_много  \n",
       "0                        0                         1  \n",
       "1                        1                         0  \n",
       "2                        0                         1  \n",
       "3                        1                         0  \n",
       "4                        0                         1  \n",
       "5                        0                         1  \n",
       "6                        0                         1  "
      ]
     },
     "execution_count": 17,
     "metadata": {},
     "output_type": "execute_result"
    }
   ],
   "source": [
    "df_train = {}\n",
    "df_train['Внешность'] = ['приятная', 'приятная', 'приятная', 'отталкивающая',\n",
    "                         'отталкивающая', 'отталкивающая', 'приятная'] \n",
    "df_train['Алкоголь_в_напитке'] = ['да', 'да', 'нет', 'нет', 'да', 'да', 'да']\n",
    "df_train['Уровень_красноречия'] = ['высокий', 'низкий', 'средний', 'средний', 'низкий',\n",
    "                                   'высокий', 'средний']\n",
    "df_train['Потраченные_деньги'] = ['много', 'мало', 'много', 'мало', 'много',\n",
    "                                  'много', 'много']\n",
    "df_train['Поедет'] = LabelEncoder().fit_transform(['+', '-', '+', '-', '-', '+', '+'])\n",
    "\n",
    "df_train = create_df(df_train, features)\n",
    "df_train"
   ]
  },
  {
   "cell_type": "markdown",
   "metadata": {},
   "source": [
    "**Тестовая выборка**"
   ]
  },
  {
   "cell_type": "code",
   "execution_count": 18,
   "metadata": {},
   "outputs": [
    {
     "data": {
      "text/html": [
       "<div>\n",
       "<style scoped>\n",
       "    .dataframe tbody tr th:only-of-type {\n",
       "        vertical-align: middle;\n",
       "    }\n",
       "\n",
       "    .dataframe tbody tr th {\n",
       "        vertical-align: top;\n",
       "    }\n",
       "\n",
       "    .dataframe thead th {\n",
       "        text-align: right;\n",
       "    }\n",
       "</style>\n",
       "<table border=\"1\" class=\"dataframe\">\n",
       "  <thead>\n",
       "    <tr style=\"text-align: right;\">\n",
       "      <th></th>\n",
       "      <th>Внешность_отталкивающая</th>\n",
       "      <th>Внешность_приятная</th>\n",
       "      <th>Алкоголь_в_напитке_да</th>\n",
       "      <th>Алкоголь_в_напитке_нет</th>\n",
       "      <th>Уровень_красноречия_высокий</th>\n",
       "      <th>Уровень_красноречия_средний</th>\n",
       "      <th>Потраченные_деньги_мало</th>\n",
       "      <th>Потраченные_деньги_много</th>\n",
       "    </tr>\n",
       "  </thead>\n",
       "  <tbody>\n",
       "    <tr>\n",
       "      <th>0</th>\n",
       "      <td>0</td>\n",
       "      <td>1</td>\n",
       "      <td>0</td>\n",
       "      <td>1</td>\n",
       "      <td>0</td>\n",
       "      <td>1</td>\n",
       "      <td>0</td>\n",
       "      <td>1</td>\n",
       "    </tr>\n",
       "    <tr>\n",
       "      <th>1</th>\n",
       "      <td>0</td>\n",
       "      <td>1</td>\n",
       "      <td>1</td>\n",
       "      <td>0</td>\n",
       "      <td>1</td>\n",
       "      <td>0</td>\n",
       "      <td>1</td>\n",
       "      <td>0</td>\n",
       "    </tr>\n",
       "    <tr>\n",
       "      <th>2</th>\n",
       "      <td>1</td>\n",
       "      <td>0</td>\n",
       "      <td>1</td>\n",
       "      <td>0</td>\n",
       "      <td>0</td>\n",
       "      <td>1</td>\n",
       "      <td>0</td>\n",
       "      <td>1</td>\n",
       "    </tr>\n",
       "  </tbody>\n",
       "</table>\n",
       "</div>"
      ],
      "text/plain": [
       "   Внешность_отталкивающая  Внешность_приятная  Алкоголь_в_напитке_да  \\\n",
       "0                        0                   1                      0   \n",
       "1                        0                   1                      1   \n",
       "2                        1                   0                      1   \n",
       "\n",
       "   Алкоголь_в_напитке_нет  Уровень_красноречия_высокий  \\\n",
       "0                       1                            0   \n",
       "1                       0                            1   \n",
       "2                       0                            0   \n",
       "\n",
       "   Уровень_красноречия_средний  Потраченные_деньги_мало  \\\n",
       "0                            1                        0   \n",
       "1                            0                        1   \n",
       "2                            1                        0   \n",
       "\n",
       "   Потраченные_деньги_много  \n",
       "0                         1  \n",
       "1                         0  \n",
       "2                         1  "
      ]
     },
     "execution_count": 18,
     "metadata": {},
     "output_type": "execute_result"
    }
   ],
   "source": [
    "df_test = {}\n",
    "df_test['Внешность'] = ['приятная', 'приятная', 'отталкивающая'] \n",
    "df_test['Алкоголь_в_напитке'] = ['нет', 'да', 'да']\n",
    "df_test['Уровень_красноречия'] = ['средний', 'высокий', 'средний']\n",
    "df_test['Потраченные_деньги'] = ['много', 'мало', 'много']\n",
    "df_test = create_df(df_test, features)\n",
    "df_test"
   ]
  },
  {
   "cell_type": "code",
   "execution_count": 19,
   "metadata": {},
   "outputs": [
    {
     "data": {
      "text/html": [
       "<div>\n",
       "<style scoped>\n",
       "    .dataframe tbody tr th:only-of-type {\n",
       "        vertical-align: middle;\n",
       "    }\n",
       "\n",
       "    .dataframe tbody tr th {\n",
       "        vertical-align: top;\n",
       "    }\n",
       "\n",
       "    .dataframe thead th {\n",
       "        text-align: right;\n",
       "    }\n",
       "</style>\n",
       "<table border=\"1\" class=\"dataframe\">\n",
       "  <thead>\n",
       "    <tr style=\"text-align: right;\">\n",
       "      <th></th>\n",
       "      <th>Потраченные_деньги_мало</th>\n",
       "      <th>Алкоголь_в_напитке_нет</th>\n",
       "      <th>Потраченные_деньги_много</th>\n",
       "      <th>Уровень_красноречия_средний</th>\n",
       "      <th>Внешность_приятная</th>\n",
       "      <th>Внешность_отталкивающая</th>\n",
       "      <th>Уровень_красноречия_высокий</th>\n",
       "      <th>Алкоголь_в_напитке_да</th>\n",
       "    </tr>\n",
       "  </thead>\n",
       "  <tbody>\n",
       "    <tr>\n",
       "      <th>0</th>\n",
       "      <td>0</td>\n",
       "      <td>0</td>\n",
       "      <td>1</td>\n",
       "      <td>0</td>\n",
       "      <td>1</td>\n",
       "      <td>0</td>\n",
       "      <td>1</td>\n",
       "      <td>1</td>\n",
       "    </tr>\n",
       "    <tr>\n",
       "      <th>1</th>\n",
       "      <td>1</td>\n",
       "      <td>0</td>\n",
       "      <td>0</td>\n",
       "      <td>0</td>\n",
       "      <td>1</td>\n",
       "      <td>0</td>\n",
       "      <td>0</td>\n",
       "      <td>1</td>\n",
       "    </tr>\n",
       "    <tr>\n",
       "      <th>2</th>\n",
       "      <td>0</td>\n",
       "      <td>1</td>\n",
       "      <td>1</td>\n",
       "      <td>1</td>\n",
       "      <td>1</td>\n",
       "      <td>0</td>\n",
       "      <td>0</td>\n",
       "      <td>0</td>\n",
       "    </tr>\n",
       "    <tr>\n",
       "      <th>3</th>\n",
       "      <td>1</td>\n",
       "      <td>1</td>\n",
       "      <td>0</td>\n",
       "      <td>1</td>\n",
       "      <td>0</td>\n",
       "      <td>1</td>\n",
       "      <td>0</td>\n",
       "      <td>0</td>\n",
       "    </tr>\n",
       "    <tr>\n",
       "      <th>4</th>\n",
       "      <td>0</td>\n",
       "      <td>0</td>\n",
       "      <td>1</td>\n",
       "      <td>0</td>\n",
       "      <td>0</td>\n",
       "      <td>1</td>\n",
       "      <td>0</td>\n",
       "      <td>1</td>\n",
       "    </tr>\n",
       "    <tr>\n",
       "      <th>5</th>\n",
       "      <td>0</td>\n",
       "      <td>0</td>\n",
       "      <td>1</td>\n",
       "      <td>0</td>\n",
       "      <td>0</td>\n",
       "      <td>1</td>\n",
       "      <td>1</td>\n",
       "      <td>1</td>\n",
       "    </tr>\n",
       "    <tr>\n",
       "      <th>6</th>\n",
       "      <td>0</td>\n",
       "      <td>0</td>\n",
       "      <td>1</td>\n",
       "      <td>1</td>\n",
       "      <td>1</td>\n",
       "      <td>0</td>\n",
       "      <td>0</td>\n",
       "      <td>1</td>\n",
       "    </tr>\n",
       "  </tbody>\n",
       "</table>\n",
       "</div>"
      ],
      "text/plain": [
       "   Потраченные_деньги_мало  Алкоголь_в_напитке_нет  Потраченные_деньги_много  \\\n",
       "0                        0                       0                         1   \n",
       "1                        1                       0                         0   \n",
       "2                        0                       1                         1   \n",
       "3                        1                       1                         0   \n",
       "4                        0                       0                         1   \n",
       "5                        0                       0                         1   \n",
       "6                        0                       0                         1   \n",
       "\n",
       "   Уровень_красноречия_средний  Внешность_приятная  Внешность_отталкивающая  \\\n",
       "0                            0                   1                        0   \n",
       "1                            0                   1                        0   \n",
       "2                            1                   1                        0   \n",
       "3                            1                   0                        1   \n",
       "4                            0                   0                        1   \n",
       "5                            0                   0                        1   \n",
       "6                            1                   1                        0   \n",
       "\n",
       "   Уровень_красноречия_высокий  Алкоголь_в_напитке_да  \n",
       "0                            1                      1  \n",
       "1                            0                      1  \n",
       "2                            0                      0  \n",
       "3                            0                      0  \n",
       "4                            0                      1  \n",
       "5                            1                      1  \n",
       "6                            0                      1  "
      ]
     },
     "execution_count": 19,
     "metadata": {},
     "output_type": "execute_result"
    }
   ],
   "source": [
    "# Некоторые значения признаков есть в тесте, но нет в трейне и наоборот\n",
    "y = df_train['Поедет']\n",
    "df_train, df_test = intersect_features(train=df_train, test=df_test)\n",
    "\n",
    "df_train"
   ]
  },
  {
   "cell_type": "code",
   "execution_count": 20,
   "metadata": {},
   "outputs": [
    {
     "data": {
      "text/html": [
       "<div>\n",
       "<style scoped>\n",
       "    .dataframe tbody tr th:only-of-type {\n",
       "        vertical-align: middle;\n",
       "    }\n",
       "\n",
       "    .dataframe tbody tr th {\n",
       "        vertical-align: top;\n",
       "    }\n",
       "\n",
       "    .dataframe thead th {\n",
       "        text-align: right;\n",
       "    }\n",
       "</style>\n",
       "<table border=\"1\" class=\"dataframe\">\n",
       "  <thead>\n",
       "    <tr style=\"text-align: right;\">\n",
       "      <th></th>\n",
       "      <th>Потраченные_деньги_мало</th>\n",
       "      <th>Алкоголь_в_напитке_нет</th>\n",
       "      <th>Потраченные_деньги_много</th>\n",
       "      <th>Уровень_красноречия_средний</th>\n",
       "      <th>Внешность_приятная</th>\n",
       "      <th>Внешность_отталкивающая</th>\n",
       "      <th>Уровень_красноречия_высокий</th>\n",
       "      <th>Алкоголь_в_напитке_да</th>\n",
       "    </tr>\n",
       "  </thead>\n",
       "  <tbody>\n",
       "    <tr>\n",
       "      <th>0</th>\n",
       "      <td>0</td>\n",
       "      <td>1</td>\n",
       "      <td>1</td>\n",
       "      <td>1</td>\n",
       "      <td>1</td>\n",
       "      <td>0</td>\n",
       "      <td>0</td>\n",
       "      <td>0</td>\n",
       "    </tr>\n",
       "    <tr>\n",
       "      <th>1</th>\n",
       "      <td>1</td>\n",
       "      <td>0</td>\n",
       "      <td>0</td>\n",
       "      <td>0</td>\n",
       "      <td>1</td>\n",
       "      <td>0</td>\n",
       "      <td>1</td>\n",
       "      <td>1</td>\n",
       "    </tr>\n",
       "    <tr>\n",
       "      <th>2</th>\n",
       "      <td>0</td>\n",
       "      <td>0</td>\n",
       "      <td>1</td>\n",
       "      <td>1</td>\n",
       "      <td>0</td>\n",
       "      <td>1</td>\n",
       "      <td>0</td>\n",
       "      <td>1</td>\n",
       "    </tr>\n",
       "  </tbody>\n",
       "</table>\n",
       "</div>"
      ],
      "text/plain": [
       "   Потраченные_деньги_мало  Алкоголь_в_напитке_нет  Потраченные_деньги_много  \\\n",
       "0                        0                       1                         1   \n",
       "1                        1                       0                         0   \n",
       "2                        0                       0                         1   \n",
       "\n",
       "   Уровень_красноречия_средний  Внешность_приятная  Внешность_отталкивающая  \\\n",
       "0                            1                   1                        0   \n",
       "1                            0                   1                        0   \n",
       "2                            1                   0                        1   \n",
       "\n",
       "   Уровень_красноречия_высокий  Алкоголь_в_напитке_да  \n",
       "0                            0                      0  \n",
       "1                            1                      1  \n",
       "2                            0                      1  "
      ]
     },
     "execution_count": 20,
     "metadata": {},
     "output_type": "execute_result"
    }
   ],
   "source": [
    "df_test"
   ]
  },
  {
   "cell_type": "markdown",
   "metadata": {},
   "source": [
    "Для облегчения рекомендуется использовать (и реализовать) функции приведённые ниже."
   ]
  },
  {
   "cell_type": "code",
   "execution_count": 21,
   "metadata": {},
   "outputs": [],
   "source": [
    "# расчёт энтропии множества\n",
    "\n",
    "def entropy(a_list):\n",
    "    '''Return Entropy of the list.'''\n",
    "    arr, n = np.array(a_list), len(a_list)\n",
    "    entr = 0\n",
    "    for _, freq in zip(*(np.unique(arr, return_counts=True))):\n",
    "        p = freq / n\n",
    "        entr += p * np.log(p) \n",
    "    return -entr"
   ]
  },
  {
   "cell_type": "code",
   "execution_count": 22,
   "metadata": {},
   "outputs": [],
   "source": [
    "# расчет прироста информации\n",
    "\n",
    "def information_gain(root, left, right):\n",
    "    ''' root - изначальный набор данных, left и right два разбиения изначального набора'''\n",
    "    n, l, r = len(root), len(left), len(right)\n",
    "    return entropy(root) - ((l/n)*entropy(left) + (r/n)*entropy(right))"
   ]
  },
  {
   "cell_type": "code",
   "execution_count": 23,
   "metadata": {},
   "outputs": [],
   "source": [
    "# определение оптимального разбиения с точки зрения прироста информации\n",
    "\n",
    "def best_feature_to_split(X, y):\n",
    "    '''Return best feature to split by.'''\n",
    "    max_gain = -np.inf\n",
    "    best_feature = None\n",
    "    for feature in X.columns:\n",
    "        gain = information_gain(y, y[X[feature] == 1], y[X[feature] == 0])\n",
    "        if gain > max_gain:\n",
    "            max_gain = gain\n",
    "            best_feature = feature\n",
    "    return best_feature"
   ]
  },
  {
   "cell_type": "code",
   "execution_count": 24,
   "metadata": {},
   "outputs": [],
   "source": [
    "\n",
    "def count_leaf_value(y):\n",
    "    y_ = y[y == 1]\n",
    "    sum_ = y_.sum() if (len(y_) > 0) else 0\n",
    "    return round(sum_ / len(y))\n",
    "\n",
    "def build(i, X, y, nodes): \n",
    "    '''\n",
    "    Build a decision tree recursively.\n",
    "    \n",
    "    Parameters\n",
    "    ----------\n",
    "    i : int\n",
    "        Current nodes' index\n",
    "    X : pd.DataFrame\n",
    "    y : pd.Series\n",
    "        Target column for X\n",
    "    nodes : list\n",
    "        List of tree's nodes\n",
    "    '''\n",
    "    \n",
    "    # if i is not a leaf\n",
    "    if i < (len(nodes)//2):\n",
    "        feature = best_feature_to_split(X, y)\n",
    "        mask = (X[feature] == 1)\n",
    "        \n",
    "        # if Entropy is not zero\n",
    "        if not ((mask.sum() == len(mask)) | (mask.sum() == 0)):\n",
    "            nodes[i] = [False, feature] # 'False' means not a leaf\n",
    "            build(2*i+1, X[mask], y[mask], nodes)\n",
    "            build(2*i+2, X[(~mask)], y[(~mask)], nodes)\n",
    "            \n",
    "        # Entropy is zero - can stop splitting\n",
    "        else: \n",
    "            nodes[i] = [True, count_leaf_value(y)]\n",
    "        \n",
    "    # max_depth reached\n",
    "    else:\n",
    "        nodes[i] = [True, count_leaf_value(y)]\n",
    "\n",
    "\n",
    "def pred(row, i, nodes):\n",
    "    '''\n",
    "    Search for a prediction in a tree recursively.\n",
    "    \n",
    "    Parameters\n",
    "    ----------\n",
    "    row : pd.Series\n",
    "        Row to make a prediction to\n",
    "    i : int\n",
    "        Current nodes' index\n",
    "    nodes : list\n",
    "        List of fitted tree's nodes\n",
    "    '''\n",
    "    # if we can split\n",
    "    if not nodes[i][0]:\n",
    "        feature = nodes[i][1]\n",
    "        if row[feature]:\n",
    "            return pred(row, 2*i+1, nodes)\n",
    "        else:\n",
    "            return pred(row, 2*i+2, nodes)\n",
    "        \n",
    "    # if the node is a leaf\n",
    "    else:\n",
    "        return nodes[i][1]"
   ]
  },
  {
   "cell_type": "code",
   "execution_count": 25,
   "metadata": {},
   "outputs": [],
   "source": [
    "class DecisionTree:\n",
    "    \n",
    "    def __init__(self, max_depth=3):\n",
    "        self.max_depth=max_depth\n",
    "        # tree nodes are stored in an array\n",
    "        # (i)'s children are (2i) and (2i+1)\n",
    "        self.nodes = [0 for _ in range(2**(max_depth+1) - 1)]\n",
    "    \n",
    "    def fit(self, X, y):\n",
    "        build(0, X, y, self.nodes)\n",
    "    \n",
    "    def predict(self, X):\n",
    "        return X.apply(lambda row: pred(row, 0, self.nodes), axis=1)"
   ]
  },
  {
   "cell_type": "code",
   "execution_count": 26,
   "metadata": {},
   "outputs": [],
   "source": [
    "tree_object = DecisionTree()"
   ]
  },
  {
   "cell_type": "code",
   "execution_count": 27,
   "metadata": {},
   "outputs": [],
   "source": [
    "tree_object.fit(df_train, y)"
   ]
  },
  {
   "cell_type": "code",
   "execution_count": 28,
   "metadata": {
    "scrolled": true
   },
   "outputs": [
    {
     "data": {
      "text/plain": [
       "0    0\n",
       "1    1\n",
       "2    1\n",
       "dtype: int64"
      ]
     },
     "execution_count": 28,
     "metadata": {},
     "output_type": "execute_result"
    }
   ],
   "source": [
    "tree_object.predict(df_test)"
   ]
  },
  {
   "cell_type": "markdown",
   "metadata": {},
   "source": [
    "Посмотрим, что предскажет эта же модель из библиотеки sklearn:"
   ]
  },
  {
   "cell_type": "code",
   "execution_count": 29,
   "metadata": {},
   "outputs": [
    {
     "data": {
      "text/plain": [
       "array([0, 1, 1], dtype=int64)"
      ]
     },
     "execution_count": 29,
     "metadata": {},
     "output_type": "execute_result"
    }
   ],
   "source": [
    "dtree = DecisionTreeClassifier(max_depth=3)\n",
    "dtree.fit(df_train, y)\n",
    "dtree.predict(df_test)"
   ]
  },
  {
   "cell_type": "markdown",
   "metadata": {},
   "source": [
    "Вау, да это же то же самое, что и моя!"
   ]
  }
 ],
 "metadata": {
  "kernelspec": {
   "display_name": "Python 3",
   "language": "python",
   "name": "python3"
  },
  "language_info": {
   "codemirror_mode": {
    "name": "ipython",
    "version": 3
   },
   "file_extension": ".py",
   "mimetype": "text/x-python",
   "name": "python",
   "nbconvert_exporter": "python",
   "pygments_lexer": "ipython3",
   "version": "3.8.5"
  }
 },
 "nbformat": 4,
 "nbformat_minor": 4
}
