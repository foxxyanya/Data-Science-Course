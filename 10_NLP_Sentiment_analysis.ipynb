{
  "nbformat": 4,
  "nbformat_minor": 0,
  "metadata": {
    "colab": {
      "name": "Sentiment_analysis_home_assign.ipynb",
      "provenance": [],
      "collapsed_sections": []
    },
    "kernelspec": {
      "display_name": "Python 3",
      "language": "python",
      "name": "python3"
    },
    "language_info": {
      "codemirror_mode": {
        "name": "ipython",
        "version": 3
      },
      "file_extension": ".py",
      "mimetype": "text/x-python",
      "name": "python",
      "nbconvert_exporter": "python",
      "pygments_lexer": "ipython3",
      "version": "3.7.1"
    }
  },
  "cells": [
    {
      "cell_type": "markdown",
      "metadata": {
        "id": "o4fOzmyTitZD"
      },
      "source": [
        "# Home Work: Sentiment analysis"
      ]
    },
    {
      "cell_type": "markdown",
      "metadata": {
        "id": "iDZiyr8_itZk"
      },
      "source": [
        "You will deal with the movies reviews. 12500 rows sample for training; 0 - negative sentiment, 1 - positive. \n",
        "\n",
        "__Task: predict movie review sentiment__"
      ]
    },
    {
      "cell_type": "code",
      "metadata": {
        "colab": {
          "base_uri": "https://localhost:8080/"
        },
        "id": "cmVCi1cTitZm",
        "outputId": "d0b0e5d9-fd5a-4225-a5e3-0e571481997d"
      },
      "source": [
        "import pandas as pd\n",
        "pd.set_option('display.max_colwidth', -1)"
      ],
      "execution_count": null,
      "outputs": [
        {
          "output_type": "stream",
          "name": "stderr",
          "text": [
            "/usr/local/lib/python3.7/dist-packages/ipykernel_launcher.py:2: FutureWarning: Passing a negative integer is deprecated in version 1.0 and will not be supported in future version. Instead, use None to not limit the column width.\n",
            "  \n"
          ]
        }
      ]
    },
    {
      "cell_type": "markdown",
      "metadata": {
        "id": "YMvJum-EitZw"
      },
      "source": [
        "__data__ - for training & testing, __data_validation__ - to be filled in with your best classifier's  predictions and send for evaluation along with the notebook."
      ]
    },
    {
      "cell_type": "code",
      "metadata": {
        "id": "ZH4Hv14BitZy"
      },
      "source": [
        "data = pd.read_csv(\"reviews.csv\")\n",
        "data_validation = pd.read_csv(\"validation_preds.csv\")"
      ],
      "execution_count": null,
      "outputs": []
    },
    {
      "cell_type": "code",
      "metadata": {
        "colab": {
          "base_uri": "https://localhost:8080/"
        },
        "id": "q89dk5MtitZz",
        "outputId": "38354909-539e-49b0-f6f9-6c586821266f"
      },
      "source": [
        "data.groupby([\"Sentiment\"]).size()"
      ],
      "execution_count": null,
      "outputs": [
        {
          "output_type": "execute_result",
          "data": {
            "text/plain": [
              "Sentiment\n",
              "0    5058\n",
              "1    4942\n",
              "dtype: int64"
            ]
          },
          "metadata": {},
          "execution_count": 3
        }
      ]
    },
    {
      "cell_type": "code",
      "metadata": {
        "colab": {
          "base_uri": "https://localhost:8080/",
          "height": 380
        },
        "id": "V1M8PyxditZ1",
        "outputId": "6b0a9b6c-dca9-4270-dcd8-7bed7fee6613"
      },
      "source": [
        "data.head(3) "
      ],
      "execution_count": null,
      "outputs": [
        {
          "output_type": "execute_result",
          "data": {
            "text/html": [
              "<div>\n",
              "<style scoped>\n",
              "    .dataframe tbody tr th:only-of-type {\n",
              "        vertical-align: middle;\n",
              "    }\n",
              "\n",
              "    .dataframe tbody tr th {\n",
              "        vertical-align: top;\n",
              "    }\n",
              "\n",
              "    .dataframe thead th {\n",
              "        text-align: right;\n",
              "    }\n",
              "</style>\n",
              "<table border=\"1\" class=\"dataframe\">\n",
              "  <thead>\n",
              "    <tr style=\"text-align: right;\">\n",
              "      <th></th>\n",
              "      <th>SentimentText</th>\n",
              "      <th>Sentiment</th>\n",
              "    </tr>\n",
              "  </thead>\n",
              "  <tbody>\n",
              "    <tr>\n",
              "      <th>0</th>\n",
              "      <td>Actually I'm surprised many comments movie. saw part Slavic film festival major American University. nobody USA heard it, real shame! dynamics people makes funny sad. stuck together long bus trip--someplace us been!! never one like this!! &lt;br /&gt;&lt;br /&gt;My favorite scene one stop funeral. man &amp; woman sneak Lovemaking forest everybody follows watch without knowing! raises skirt enters way--the consumptive starts hacking &amp; realize everybody watching!! Talk surprised! But...you really feel even hilariously funny! see ending sort ironic enjoyed did! Serb humor it's best!</td>\n",
              "      <td>1</td>\n",
              "    </tr>\n",
              "    <tr>\n",
              "      <th>1</th>\n",
              "      <td>someone lives near Buffalo, New York, movie scored points even saw it, since story based here. even bit parts real-life news-TV anchor people Buffalo..and, once, doesn't knock area. Hallelujah!&lt;br /&gt;&lt;br /&gt;Theology-wise, puh-leeze!!! God still made look think like humans...and, course, bit liberal side. lightweight comedy is, it's nothing win awards still entertaining pleasant way kill 102 minutes. &lt;br /&gt;&lt;br /&gt;There laugh-out-loud slapstick comedy scenes and, hopefully, audiences - Christians atheists.- got something besides laughs, prayer really about. Kudos writers least getting theology correct giving good message.&lt;br /&gt;&lt;br /&gt;Overall, it's good-hearted film offend few.</td>\n",
              "      <td>1</td>\n",
              "    </tr>\n",
              "    <tr>\n",
              "      <th>2</th>\n",
              "      <td>first half hour movie liked. obvious budding romance Ingrid Bergman Mel Ferrer cute watch wanted see inevitable happen them. However, action switched home Ingrid's fiancГ©, completely fell apart. Instead romance charm, see excruciatingly dopey parallel characters emerge ruin film. fiancГ©'s boorish son military attachГ©'s vying maid's attention looked stupid--sort like subplot old Love Boat episode. charm elegance first portion film give way dopiness beyond me. film obvious attempt Renoir recapture success RULES GAME, movie similar action switches country estate (just film). huge fan RULES GAME, ELENA MEN appreciating artistry nuances original film.</td>\n",
              "      <td>0</td>\n",
              "    </tr>\n",
              "  </tbody>\n",
              "</table>\n",
              "</div>"
            ],
            "text/plain": [
              "                                                                                                                                                                                                                                                                                                                                                                                                                                                                                                                                                                                                                                                                                             SentimentText  Sentiment\n",
              "0  Actually I'm surprised many comments movie. saw part Slavic film festival major American University. nobody USA heard it, real shame! dynamics people makes funny sad. stuck together long bus trip--someplace us been!! never one like this!! <br /><br />My favorite scene one stop funeral. man & woman sneak Lovemaking forest everybody follows watch without knowing! raises skirt enters way--the consumptive starts hacking & realize everybody watching!! Talk surprised! But...you really feel even hilariously funny! see ending sort ironic enjoyed did! Serb humor it's best!                                                                                                               1        \n",
              "1  someone lives near Buffalo, New York, movie scored points even saw it, since story based here. even bit parts real-life news-TV anchor people Buffalo..and, once, doesn't knock area. Hallelujah!<br /><br />Theology-wise, puh-leeze!!! God still made look think like humans...and, course, bit liberal side. lightweight comedy is, it's nothing win awards still entertaining pleasant way kill 102 minutes. <br /><br />There laugh-out-loud slapstick comedy scenes and, hopefully, audiences - Christians atheists.- got something besides laughs, prayer really about. Kudos writers least getting theology correct giving good message.<br /><br />Overall, it's good-hearted film offend few.  1        \n",
              "2  first half hour movie liked. obvious budding romance Ingrid Bergman Mel Ferrer cute watch wanted see inevitable happen them. However, action switched home Ingrid's fiancГ©, completely fell apart. Instead romance charm, see excruciatingly dopey parallel characters emerge ruin film. fiancГ©'s boorish son military attachГ©'s vying maid's attention looked stupid--sort like subplot old Love Boat episode. charm elegance first portion film give way dopiness beyond me. film obvious attempt Renoir recapture success RULES GAME, movie similar action switches country estate (just film). huge fan RULES GAME, ELENA MEN appreciating artistry nuances original film.                        0        "
            ]
          },
          "metadata": {},
          "execution_count": 4
        }
      ]
    },
    {
      "cell_type": "code",
      "metadata": {
        "colab": {
          "base_uri": "https://localhost:8080/",
          "height": 363
        },
        "id": "Xe5YWgwtitZ5",
        "outputId": "963233d9-61f6-44fa-a122-4a8b110eb768"
      },
      "source": [
        "data_validation.head(3)"
      ],
      "execution_count": null,
      "outputs": [
        {
          "output_type": "execute_result",
          "data": {
            "text/html": [
              "<div>\n",
              "<style scoped>\n",
              "    .dataframe tbody tr th:only-of-type {\n",
              "        vertical-align: middle;\n",
              "    }\n",
              "\n",
              "    .dataframe tbody tr th {\n",
              "        vertical-align: top;\n",
              "    }\n",
              "\n",
              "    .dataframe thead th {\n",
              "        text-align: right;\n",
              "    }\n",
              "</style>\n",
              "<table border=\"1\" class=\"dataframe\">\n",
              "  <thead>\n",
              "    <tr style=\"text-align: right;\">\n",
              "      <th></th>\n",
              "      <th>SentimentText</th>\n",
              "      <th>Sentiment</th>\n",
              "    </tr>\n",
              "  </thead>\n",
              "  <tbody>\n",
              "    <tr>\n",
              "      <th>0</th>\n",
              "      <td>one best films seen years! Gwyneth Paltrow fan, excellent Emma Woodhouse. Alan Cumming superb Reverand Elton, Emma Thompson's sister, Sophie, hysterical Miss Bates. check gorgeous Jeremy Northam Mr. Knightley; gentleman! Whoever said need sex violence movie make good never seen Emma. think separates many others--it's classy.&lt;br /&gt;&lt;br /&gt;If you're looking film watch whole family, looking romance yourself, look further. Emma movie. beautiful setting, wonderful costumes, outstanding cast (have mentioned gorgeous Jeremy Northam?), Emma perfect ten!</td>\n",
              "      <td>NaN</td>\n",
              "    </tr>\n",
              "    <tr>\n",
              "      <th>1</th>\n",
              "      <td>excellent, fast paced thriller Wes Craven (Nightmare Elm Street), 85 minutes leaves aside supernatural presents us something even terrifying - evil human beings. far likely encounter benign evil Jackson Rippner Freddy Kruger, Cillian Murphy (Batman Begins) excellent job presenting sociable, friendly, even charismatic killer. performances Murphy Rachel McAdams (Claire, Wedding Crashers)are brilliant. film takes place intimate level, two people, eyes, faces. action small scale, broad sweep canvas, less compelling limitations. cinematography nothing special, though course one much camera confines passenger jet, dialog excellent, story taut. distractions, subplots confuse issue heart battle main characters. keeping focus avoiding distractions, Wes Craven able take minimal plot turning exciting, fast-paced action thriller.</td>\n",
              "      <td>NaN</td>\n",
              "    </tr>\n",
              "    <tr>\n",
              "      <th>2</th>\n",
              "      <td>don't ruin you, I'll brief. There's great acting funny lines attractive cast. young graduate Harvard Med School (Brian White) finds doesn't know much thinks people. goes small hospital Florida internship girlfriend (Mya) left job TV Producer. Senior Resident (Wood Harris), helped marvelously 'creative collaborator'(Zoe Saldana) bring speed. help protect career show wider possibilities come compassionate doctor instead player wants make money (as seems true many pre-med friends).</td>\n",
              "      <td>NaN</td>\n",
              "    </tr>\n",
              "  </tbody>\n",
              "</table>\n",
              "</div>"
            ],
            "text/plain": [
              "                                                                                                                                                                                                                                                                                                                                                                                                                                                                                                                                                                                                                                                                                                                                                                                                                                                   SentimentText  Sentiment\n",
              "0  one best films seen years! Gwyneth Paltrow fan, excellent Emma Woodhouse. Alan Cumming superb Reverand Elton, Emma Thompson's sister, Sophie, hysterical Miss Bates. check gorgeous Jeremy Northam Mr. Knightley; gentleman! Whoever said need sex violence movie make good never seen Emma. think separates many others--it's classy.<br /><br />If you're looking film watch whole family, looking romance yourself, look further. Emma movie. beautiful setting, wonderful costumes, outstanding cast (have mentioned gorgeous Jeremy Northam?), Emma perfect ten!                                                                                                                                                                                                                                                                                         NaN       \n",
              "1  excellent, fast paced thriller Wes Craven (Nightmare Elm Street), 85 minutes leaves aside supernatural presents us something even terrifying - evil human beings. far likely encounter benign evil Jackson Rippner Freddy Kruger, Cillian Murphy (Batman Begins) excellent job presenting sociable, friendly, even charismatic killer. performances Murphy Rachel McAdams (Claire, Wedding Crashers)are brilliant. film takes place intimate level, two people, eyes, faces. action small scale, broad sweep canvas, less compelling limitations. cinematography nothing special, though course one much camera confines passenger jet, dialog excellent, story taut. distractions, subplots confuse issue heart battle main characters. keeping focus avoiding distractions, Wes Craven able take minimal plot turning exciting, fast-paced action thriller. NaN       \n",
              "2  don't ruin you, I'll brief. There's great acting funny lines attractive cast. young graduate Harvard Med School (Brian White) finds doesn't know much thinks people. goes small hospital Florida internship girlfriend (Mya) left job TV Producer. Senior Resident (Wood Harris), helped marvelously 'creative collaborator'(Zoe Saldana) bring speed. help protect career show wider possibilities come compassionate doctor instead player wants make money (as seems true many pre-med friends).                                                                                                                                                                                                                                                                                                                                                           NaN       "
            ]
          },
          "metadata": {},
          "execution_count": 5
        }
      ]
    },
    {
      "cell_type": "markdown",
      "metadata": {
        "id": "nieJpxxOitaE"
      },
      "source": [
        "## Apply text normalization for train & validation sets\n"
      ]
    },
    {
      "cell_type": "code",
      "metadata": {
        "id": "8jVUB2FfitaG"
      },
      "source": [
        "import pickle\n",
        "import re\n",
        "from nltk.tokenize import WordPunctTokenizer\n",
        "from tqdm import tqdm\n",
        "tqdm.pandas(desc=\"progress-bar\")"
      ],
      "execution_count": null,
      "outputs": []
    },
    {
      "cell_type": "markdown",
      "metadata": {
        "id": "ZS-UvMAvitaH"
      },
      "source": [
        "Load dictionary with negations contractions:"
      ]
    },
    {
      "cell_type": "code",
      "metadata": {
        "id": "lFxbx-XZitaI"
      },
      "source": [
        "with open('negations_contractions.pickle', 'rb') as f:\n",
        "     negations = pickle.load(f)"
      ],
      "execution_count": null,
      "outputs": []
    },
    {
      "cell_type": "markdown",
      "metadata": {
        "id": "OI3jj5-citaK"
      },
      "source": [
        "Compile patterns for html tags and web hyperlinks. \n",
        "\n",
        "re.I - for ignoring case of the letters (e.g. no need to trat upper & lower case separately, re will take care of it)\n",
        "\n",
        "use __r__ in pattern strings to ensure correct slashes processing"
      ]
    },
    {
      "cell_type": "code",
      "metadata": {
        "id": "kNVRT4ScitaL"
      },
      "source": [
        "pattern_1 =re.compile( r'(<[^>]+>)|((www\\.[^ ]+)\\b)|((https?://)\\S+)', re.I)\n",
        "negation_pattern = re.compile(r'\\b(' + '|'.join(negations.keys()) + r')\\b', re.I)"
      ],
      "execution_count": null,
      "outputs": []
    },
    {
      "cell_type": "markdown",
      "metadata": {
        "id": "ZkJGnQD3itaQ"
      },
      "source": [
        "Handy way to deal with regexps search results & contractions dictionary. Function group() returns matching group, example below just for illustration purposes:"
      ]
    },
    {
      "cell_type": "code",
      "metadata": {
        "id": "GvFzmngvitaR",
        "colab": {
          "base_uri": "https://localhost:8080/",
          "height": 35
        },
        "outputId": "374f335f-3d0a-45b3-819f-4189afa83a6c"
      },
      "source": [
        "negation_pattern.sub(lambda x: negations[x.group()], \"ain't|aren't|can't\")"
      ],
      "execution_count": null,
      "outputs": [
        {
          "output_type": "execute_result",
          "data": {
            "application/vnd.google.colaboratory.intrinsic+json": {
              "type": "string"
            },
            "text/plain": [
              "'is not|are not|cannot'"
            ]
          },
          "metadata": {},
          "execution_count": 9
        }
      ]
    },
    {
      "cell_type": "code",
      "metadata": {
        "id": "MGGXf0aJitaV"
      },
      "source": [
        "def data_cleaner(text):\n",
        "    \"\"\"Function for text normalization\"\"\"\n",
        "    lower_case = text.lower()\n",
        "    preprocessed_1 = re.sub(pattern_1, '', lower_case)\n",
        "    w_o_negations = negation_pattern.sub(lambda x: negations[x.group()], preprocessed_1)\n",
        "    letters_only = re.sub(\"[^a-zA-Z]\", \" \", w_o_negations)\n",
        "    tokens = tokenizer.tokenize(letters_only)\n",
        "    return (\" \".join(tokens)).strip()   "
      ],
      "execution_count": null,
      "outputs": []
    },
    {
      "cell_type": "code",
      "metadata": {
        "id": "wKOPJ1X1itaY"
      },
      "source": [
        "def post_process(data, tokenizer):\n",
        "    \"\"\"Function for applying text normalization to the all corpus\"\"\"\n",
        "    data['SentimentText'] = data['SentimentText'].progress_map(data_cleaner)  \n",
        "    data.reset_index(inplace=True)\n",
        "    data.drop('index', inplace=True, axis=1)\n",
        "    return data"
      ],
      "execution_count": null,
      "outputs": []
    },
    {
      "cell_type": "code",
      "metadata": {
        "id": "O-bOo1Fcitad",
        "colab": {
          "base_uri": "https://localhost:8080/"
        },
        "outputId": "0e683762-3c2e-4ab2-bc42-fac0a724307e"
      },
      "source": [
        "tokenizer = WordPunctTokenizer()\n",
        "data_processed = post_process(data, tokenizer)"
      ],
      "execution_count": null,
      "outputs": [
        {
          "output_type": "stream",
          "name": "stderr",
          "text": [
            "progress-bar: 100%|██████████| 10000/10000 [00:07<00:00, 1423.80it/s]\n"
          ]
        }
      ]
    },
    {
      "cell_type": "markdown",
      "metadata": {
        "id": "VkwdzBHmitae"
      },
      "source": [
        "Validation data should be also normalized:"
      ]
    },
    {
      "cell_type": "code",
      "metadata": {
        "id": "O0-8_RVsitah",
        "colab": {
          "base_uri": "https://localhost:8080/"
        },
        "outputId": "8fbec1ca-e99f-4dae-804a-9423c6cc48ba"
      },
      "source": [
        "validation_processed = post_process(data_validation, tokenizer)"
      ],
      "execution_count": null,
      "outputs": [
        {
          "output_type": "stream",
          "name": "stderr",
          "text": [
            "progress-bar: 100%|██████████| 2500/2500 [00:01<00:00, 1371.27it/s]\n"
          ]
        }
      ]
    },
    {
      "cell_type": "code",
      "metadata": {
        "id": "1I4Od06Xitak",
        "colab": {
          "base_uri": "https://localhost:8080/",
          "height": 363
        },
        "outputId": "6da0c146-b8f0-4a49-fbeb-ee2420590e92"
      },
      "source": [
        "validation_processed.head(3)"
      ],
      "execution_count": null,
      "outputs": [
        {
          "output_type": "execute_result",
          "data": {
            "text/html": [
              "<div>\n",
              "<style scoped>\n",
              "    .dataframe tbody tr th:only-of-type {\n",
              "        vertical-align: middle;\n",
              "    }\n",
              "\n",
              "    .dataframe tbody tr th {\n",
              "        vertical-align: top;\n",
              "    }\n",
              "\n",
              "    .dataframe thead th {\n",
              "        text-align: right;\n",
              "    }\n",
              "</style>\n",
              "<table border=\"1\" class=\"dataframe\">\n",
              "  <thead>\n",
              "    <tr style=\"text-align: right;\">\n",
              "      <th></th>\n",
              "      <th>SentimentText</th>\n",
              "      <th>Sentiment</th>\n",
              "    </tr>\n",
              "  </thead>\n",
              "  <tbody>\n",
              "    <tr>\n",
              "      <th>0</th>\n",
              "      <td>one best films seen years gwyneth paltrow fan excellent emma woodhouse alan cumming superb reverand elton emma thompson s sister sophie hysterical miss bates check gorgeous jeremy northam mr knightley gentleman whoever said need sex violence movie make good never seen emma think separates many others it is classy if you are looking film watch whole family looking romance yourself look further emma movie beautiful setting wonderful costumes outstanding cast have mentioned gorgeous jeremy northam emma perfect ten</td>\n",
              "      <td>NaN</td>\n",
              "    </tr>\n",
              "    <tr>\n",
              "      <th>1</th>\n",
              "      <td>excellent fast paced thriller wes craven nightmare elm street minutes leaves aside supernatural presents us something even terrifying evil human beings far likely encounter benign evil jackson rippner freddy kruger cillian murphy batman begins excellent job presenting sociable friendly even charismatic killer performances murphy rachel mcadams claire wedding crashers are brilliant film takes place intimate level two people eyes faces action small scale broad sweep canvas less compelling limitations cinematography nothing special though course one much camera confines passenger jet dialog excellent story taut distractions subplots confuse issue heart battle main characters keeping focus avoiding distractions wes craven able take minimal plot turning exciting fast paced action thriller</td>\n",
              "      <td>NaN</td>\n",
              "    </tr>\n",
              "    <tr>\n",
              "      <th>2</th>\n",
              "      <td>do not ruin you i will brief there is great acting funny lines attractive cast young graduate harvard med school brian white finds does not know much thinks people goes small hospital florida internship girlfriend mya left job tv producer senior resident wood harris helped marvelously creative collaborator zoe saldana bring speed help protect career show wider possibilities come compassionate doctor instead player wants make money as seems true many pre med friends</td>\n",
              "      <td>NaN</td>\n",
              "    </tr>\n",
              "  </tbody>\n",
              "</table>\n",
              "</div>"
            ],
            "text/plain": [
              "                                                                                                                                                                                                                                                                                                                                                                                                                                                                                                                                                                                                                                                                                                                                                                                                                SentimentText  Sentiment\n",
              "0  one best films seen years gwyneth paltrow fan excellent emma woodhouse alan cumming superb reverand elton emma thompson s sister sophie hysterical miss bates check gorgeous jeremy northam mr knightley gentleman whoever said need sex violence movie make good never seen emma think separates many others it is classy if you are looking film watch whole family looking romance yourself look further emma movie beautiful setting wonderful costumes outstanding cast have mentioned gorgeous jeremy northam emma perfect ten                                                                                                                                                                                                                                                                                       NaN       \n",
              "1  excellent fast paced thriller wes craven nightmare elm street minutes leaves aside supernatural presents us something even terrifying evil human beings far likely encounter benign evil jackson rippner freddy kruger cillian murphy batman begins excellent job presenting sociable friendly even charismatic killer performances murphy rachel mcadams claire wedding crashers are brilliant film takes place intimate level two people eyes faces action small scale broad sweep canvas less compelling limitations cinematography nothing special though course one much camera confines passenger jet dialog excellent story taut distractions subplots confuse issue heart battle main characters keeping focus avoiding distractions wes craven able take minimal plot turning exciting fast paced action thriller NaN       \n",
              "2  do not ruin you i will brief there is great acting funny lines attractive cast young graduate harvard med school brian white finds does not know much thinks people goes small hospital florida internship girlfriend mya left job tv producer senior resident wood harris helped marvelously creative collaborator zoe saldana bring speed help protect career show wider possibilities come compassionate doctor instead player wants make money as seems true many pre med friends                                                                                                                                                                                                                                                                                                                                      NaN       "
            ]
          },
          "metadata": {},
          "execution_count": 14
        }
      ]
    },
    {
      "cell_type": "markdown",
      "metadata": {
        "id": "tKURcBVqitap"
      },
      "source": [
        "## Prepare train/test sets"
      ]
    },
    {
      "cell_type": "code",
      "metadata": {
        "id": "LiOpbzAEitaq"
      },
      "source": [
        "from sklearn.model_selection import train_test_split"
      ],
      "execution_count": null,
      "outputs": []
    },
    {
      "cell_type": "code",
      "metadata": {
        "id": "TFBMtwPqitar"
      },
      "source": [
        "SEED = 42\n",
        "x_train, x_validation, y_train, y_validation = train_test_split(data_processed.SentimentText, data_processed.Sentiment,\\\n",
        "                                                                test_size=.2, random_state=SEED)"
      ],
      "execution_count": null,
      "outputs": []
    },
    {
      "cell_type": "code",
      "metadata": {
        "id": "QLVqhZkZD6uA"
      },
      "source": [
        "from google.colab import drive\n",
        "drive.mount('/content/drive')"
      ],
      "execution_count": null,
      "outputs": []
    },
    {
      "cell_type": "markdown",
      "metadata": {
        "id": "e_-GQseIitas"
      },
      "source": [
        "## Sentiment Prediction & Real Challenge"
      ]
    },
    {
      "cell_type": "markdown",
      "metadata": {
        "id": "LRgrEGuEitas"
      },
      "source": [
        "Use your knowledge to create machine learning pipeline for the most accurate sentiment predictions. Metric for maximization - ROC AUC.\n",
        "\n",
        "Some variants to try:\n",
        "\n",
        " * tune tfidf (max_features, max_df, min_df, n_grams...) You may want to test CountVectorizer :)\n",
        " * test some classifiers\n",
        " * tune classifiers parameters\n",
        " * word embeddinds??\n",
        " * topics models??\n",
        " \n",
        " __Do not forget to make predictions for the validation set \"validation_processed\" we created above, save predictions in validation_preds.csv and send it to me along with the notebook.__  \n",
        " \n",
        " Final score of your work will be assessed on validation_pred.csv."
      ]
    },
    {
      "cell_type": "code",
      "metadata": {
        "id": "hD_q1VdRSU_e"
      },
      "source": [
        "from sklearn.base import BaseEstimator, TransformerMixin\n",
        "from sklearn.pipeline import Pipeline"
      ],
      "execution_count": null,
      "outputs": []
    },
    {
      "cell_type": "code",
      "metadata": {
        "id": "xBqUsvDcSIRZ"
      },
      "source": [
        "from tensorflow.keras.preprocessing.text import Tokenizer\n",
        "\n",
        "class Tokenizer_(BaseEstimator, TransformerMixin):\n",
        "    def __init__(self, num_words):\n",
        "        BaseEstimator.__init__(self)\n",
        "        TransformerMixin.__init__(self)\n",
        "        self.tokenizer = Tokenizer(num_words=num_words)\n",
        "        \n",
        "    def fit(self, X, y=None):\n",
        "        self.tokenizer.fit_on_texts(X.values)\n",
        "        return self\n",
        "    \n",
        "    def transform(self, X, y=None):\n",
        "        X = self.tokenizer.texts_to_sequences(X.values)\n",
        "        return X"
      ],
      "execution_count": null,
      "outputs": []
    },
    {
      "cell_type": "code",
      "metadata": {
        "id": "dsD_SiPpTHdv"
      },
      "source": [
        "from tensorflow.keras.preprocessing.sequence import pad_sequences\n",
        "\n",
        "class Padder(BaseEstimator, TransformerMixin):\n",
        "    def __init__(self, maxlen):\n",
        "        BaseEstimator.__init__(self)\n",
        "        TransformerMixin.__init__(self)\n",
        "        self.maxlen = maxlen\n",
        "        \n",
        "    def fit(self, X, y=None):\n",
        "        return self\n",
        "    \n",
        "    def transform(self, X, y=None):\n",
        "        X = pad_sequences(X, self.maxlen)\n",
        "        return X"
      ],
      "execution_count": null,
      "outputs": []
    },
    {
      "cell_type": "code",
      "metadata": {
        "id": "En4GOSSBW2Kq"
      },
      "source": [
        "import tensorflow\n",
        "from tensorflow.keras.models import Sequential\n",
        "from tensorflow.keras.layers import LSTM, Dense, Dropout, SpatialDropout1D\n",
        "from tensorflow.keras.layers import Embedding\n",
        "\n",
        "class Embedding_LSTM(BaseEstimator, TransformerMixin):\n",
        "    def __init__(self, num_words=5000, maxlen=1000):\n",
        "        BaseEstimator.__init__(self)\n",
        "        TransformerMixin.__init__(self)\n",
        "\n",
        "        self.model = Sequential()\n",
        "        self.model.add(Embedding(num_words, 32, input_length=maxlen))\n",
        "        self.model.add(SpatialDropout1D(0.25))\n",
        "        self.model.add(LSTM(50, dropout=0.5, recurrent_dropout=0.5))\n",
        "        self.model.add(Dropout(0.2))\n",
        "        self.model.add(Dense(1, activation='sigmoid'))\n",
        "        self.model.compile(loss='binary_crossentropy',optimizer='adam', \n",
        "                    metrics=[tensorflow.keras.metrics.AUC()])\n",
        "        \n",
        "    def fit(self, X, y=None):\n",
        "        self.model.fit(X, y, validation_split=0.2, epochs=3, batch_size=32)\n",
        "        return self\n",
        "    \n",
        "    def transform(self, X, y=None):\n",
        "        y_predicted = [1 if (x >= 0.5) else 0 for x in self.model.predict(X)]\n",
        "        return y_predicted"
      ],
      "execution_count": null,
      "outputs": []
    },
    {
      "cell_type": "code",
      "metadata": {
        "colab": {
          "base_uri": "https://localhost:8080/"
        },
        "id": "IbXa5yMpUY8C",
        "outputId": "1a486bf2-1964-4fa7-9bd0-93ef48488816"
      },
      "source": [
        "words_num = 5000\n",
        "max_len = 1000\n",
        "\n",
        "pipeline = Pipeline(steps = [\n",
        "                             ('tokenization ', Tokenizer_(words_num)), \n",
        "                             ('padding', Padder(max_len)),\n",
        "                             ('embedding+NN', Embedding_LSTM(words_num, max_len))\n",
        "                             ]\n",
        "                    )\n",
        "\n",
        "pipeline.fit(x_train, y_train)"
      ],
      "execution_count": null,
      "outputs": [
        {
          "output_type": "stream",
          "name": "stdout",
          "text": [
            "Epoch 1/3\n",
            "200/200 [==============================] - 222s 1s/step - loss: 0.5768 - auc_2: 0.7712 - val_loss: 0.4239 - val_auc_2: 0.9038\n",
            "Epoch 2/3\n",
            "200/200 [==============================] - 221s 1s/step - loss: 0.3457 - auc_2: 0.9269 - val_loss: 0.3798 - val_auc_2: 0.9249\n",
            "Epoch 3/3\n",
            "200/200 [==============================] - 221s 1s/step - loss: 0.2399 - auc_2: 0.9634 - val_loss: 0.3671 - val_auc_2: 0.9288\n"
          ]
        },
        {
          "output_type": "stream",
          "name": "stderr",
          "text": [
            "/usr/local/lib/python3.7/dist-packages/sklearn/base.py:197: FutureWarning: From version 0.24, get_params will raise an AttributeError if a parameter cannot be retrieved as an instance attribute. Previously it would return None.\n",
            "  FutureWarning)\n"
          ]
        },
        {
          "output_type": "execute_result",
          "data": {
            "text/plain": [
              "Pipeline(memory=None,\n",
              "         steps=[('1', Tokenizer_(num_words=None)), ('2', Padder(maxlen=1000)),\n",
              "                ('3', Embedding_LSTM(maxlen=None, num_words=None))],\n",
              "         verbose=False)"
            ]
          },
          "metadata": {},
          "execution_count": 26
        }
      ]
    },
    {
      "cell_type": "code",
      "metadata": {
        "id": "uQnxaZOgroPl",
        "colab": {
          "base_uri": "https://localhost:8080/"
        },
        "outputId": "5df83e94-fe8b-41a6-8259-f31edd54eeb8"
      },
      "source": [
        "from sklearn.metrics import roc_auc_score\n",
        "\n",
        "roc_auc_score(pipeline.transform(x_validation), y_validation)"
      ],
      "execution_count": null,
      "outputs": [
        {
          "output_type": "execute_result",
          "data": {
            "text/plain": [
              "0.8582843365001043"
            ]
          },
          "metadata": {},
          "execution_count": 27
        }
      ]
    },
    {
      "cell_type": "code",
      "metadata": {
        "id": "-exL6x00c5yX"
      },
      "source": [
        "validation_preds = pipeline.transform(validation_processed.SentimentText)\n",
        "data_validation['Sentiment'] = validation_preds\n",
        "data_validation.to_csv('validation_preds.csv')"
      ],
      "execution_count": null,
      "outputs": []
    }
  ]
}