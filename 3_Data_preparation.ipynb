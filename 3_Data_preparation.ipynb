{
 "cells": [
  {
   "cell_type": "markdown",
   "metadata": {
    "id": "nyMqjNGWY7oI"
   },
   "source": [
    "##  Data preparation "
   ]
  },
  {
   "cell_type": "markdown",
   "metadata": {
    "id": "wJwf8Il3wy5p"
   },
   "source": [
    "### Necessary imports"
   ]
  },
  {
   "cell_type": "code",
   "execution_count": 1,
   "metadata": {
    "id": "rLs6ubuRSTIh"
   },
   "outputs": [],
   "source": [
    "import pandas as pd\n",
    "import numpy as np\n",
    "from sklearn.base import BaseEstimator, TransformerMixin\n",
    "from sklearn.pipeline import Pipeline, FeatureUnion\n",
    "from sklearn.preprocessing import OrdinalEncoder, OneHotEncoder, StandardScaler, FunctionTransformer\n",
    "from sklearn.impute import SimpleImputer\n",
    "from sklearn.linear_model import LinearRegression\n",
    "from sklearn.model_selection import train_test_split\n",
    "from sklearn.metrics import mean_squared_error\n",
    "from sklearn.neighbors import KNeighborsRegressor\n",
    "\n",
    "import warnings\n",
    "warnings.simplefilter('ignore')"
   ]
  },
  {
   "cell_type": "markdown",
   "metadata": {},
   "source": [
    "### Loading dataset"
   ]
  },
  {
   "cell_type": "code",
   "execution_count": 2,
   "metadata": {
    "id": "_obWXtroSTIh"
   },
   "outputs": [],
   "source": [
    "pd.set_option(\"display.max_columns\", 25)\n",
    "df = pd.read_csv('IT Salary Survey EU  2020.csv')"
   ]
  },
  {
   "cell_type": "markdown",
   "metadata": {},
   "source": [
    "There are too many features in the dataset, let's choose some of them."
   ]
  },
  {
   "cell_type": "code",
   "execution_count": 3,
   "metadata": {
    "colab": {
     "base_uri": "https://localhost:8080/",
     "height": 358
    },
    "id": "OiMaGPC4STIh",
    "outputId": "9b1205c8-5878-4dbc-97ef-125095744d83",
    "scrolled": true
   },
   "outputs": [
    {
     "data": {
      "text/html": [
       "<div>\n",
       "<style scoped>\n",
       "    .dataframe tbody tr th:only-of-type {\n",
       "        vertical-align: middle;\n",
       "    }\n",
       "\n",
       "    .dataframe tbody tr th {\n",
       "        vertical-align: top;\n",
       "    }\n",
       "\n",
       "    .dataframe thead th {\n",
       "        text-align: right;\n",
       "    }\n",
       "</style>\n",
       "<table border=\"1\" class=\"dataframe\">\n",
       "  <thead>\n",
       "    <tr style=\"text-align: right;\">\n",
       "      <th></th>\n",
       "      <th>Age</th>\n",
       "      <th>Gender</th>\n",
       "      <th>City</th>\n",
       "      <th>Position</th>\n",
       "      <th>Exp</th>\n",
       "      <th>Level</th>\n",
       "      <th>Salary</th>\n",
       "      <th>Empl_status</th>\n",
       "      <th>Contract_duration</th>\n",
       "      <th>Company_size</th>\n",
       "    </tr>\n",
       "  </thead>\n",
       "  <tbody>\n",
       "    <tr>\n",
       "      <th>0</th>\n",
       "      <td>26.0</td>\n",
       "      <td>Male</td>\n",
       "      <td>Munich</td>\n",
       "      <td>Software Engineer</td>\n",
       "      <td>5</td>\n",
       "      <td>Senior</td>\n",
       "      <td>80000.0</td>\n",
       "      <td>Full-time employee</td>\n",
       "      <td>Unlimited contract</td>\n",
       "      <td>51-100</td>\n",
       "    </tr>\n",
       "    <tr>\n",
       "      <th>1</th>\n",
       "      <td>26.0</td>\n",
       "      <td>Male</td>\n",
       "      <td>Berlin</td>\n",
       "      <td>Backend Developer</td>\n",
       "      <td>7</td>\n",
       "      <td>Senior</td>\n",
       "      <td>80000.0</td>\n",
       "      <td>Full-time employee</td>\n",
       "      <td>Unlimited contract</td>\n",
       "      <td>101-1000</td>\n",
       "    </tr>\n",
       "    <tr>\n",
       "      <th>2</th>\n",
       "      <td>29.0</td>\n",
       "      <td>Male</td>\n",
       "      <td>Berlin</td>\n",
       "      <td>Software Engineer</td>\n",
       "      <td>12</td>\n",
       "      <td>Lead</td>\n",
       "      <td>120000.0</td>\n",
       "      <td>Self-employed (freelancer)</td>\n",
       "      <td>Temporary contract</td>\n",
       "      <td>101-1000</td>\n",
       "    </tr>\n",
       "    <tr>\n",
       "      <th>3</th>\n",
       "      <td>28.0</td>\n",
       "      <td>Male</td>\n",
       "      <td>Berlin</td>\n",
       "      <td>Frontend Developer</td>\n",
       "      <td>4</td>\n",
       "      <td>Junior</td>\n",
       "      <td>54000.0</td>\n",
       "      <td>Full-time employee</td>\n",
       "      <td>Unlimited contract</td>\n",
       "      <td>51-100</td>\n",
       "    </tr>\n",
       "    <tr>\n",
       "      <th>4</th>\n",
       "      <td>37.0</td>\n",
       "      <td>Male</td>\n",
       "      <td>Berlin</td>\n",
       "      <td>Backend Developer</td>\n",
       "      <td>17</td>\n",
       "      <td>Senior</td>\n",
       "      <td>62000.0</td>\n",
       "      <td>Full-time employee</td>\n",
       "      <td>Unlimited contract</td>\n",
       "      <td>101-1000</td>\n",
       "    </tr>\n",
       "  </tbody>\n",
       "</table>\n",
       "</div>"
      ],
      "text/plain": [
       "    Age Gender    City            Position Exp   Level    Salary  \\\n",
       "0  26.0   Male  Munich   Software Engineer   5  Senior   80000.0   \n",
       "1  26.0   Male  Berlin   Backend Developer   7  Senior   80000.0   \n",
       "2  29.0   Male  Berlin   Software Engineer  12    Lead  120000.0   \n",
       "3  28.0   Male  Berlin  Frontend Developer   4  Junior   54000.0   \n",
       "4  37.0   Male  Berlin   Backend Developer  17  Senior   62000.0   \n",
       "\n",
       "                  Empl_status   Contract_duration Company_size  \n",
       "0          Full-time employee  Unlimited contract       51-100  \n",
       "1          Full-time employee  Unlimited contract     101-1000  \n",
       "2  Self-employed (freelancer)  Temporary contract     101-1000  \n",
       "3          Full-time employee  Unlimited contract       51-100  \n",
       "4          Full-time employee  Unlimited contract     101-1000  "
      ]
     },
     "execution_count": 3,
     "metadata": {},
     "output_type": "execute_result"
    }
   ],
   "source": [
    "features = ['Age', 'Gender', 'City', 'Position', 'Exp', 'Level',\n",
    "            'Salary', 'Empl_status', 'Contract_duration', 'Company_size']\n",
    "df = df[features]\n",
    "df.head()"
   ]
  },
  {
   "cell_type": "markdown",
   "metadata": {},
   "source": [
    "We'll predict salary of IT specialists:"
   ]
  },
  {
   "cell_type": "code",
   "execution_count": 4,
   "metadata": {
    "colab": {
     "base_uri": "https://localhost:8080/"
    },
    "id": "HBucMmMaSTIi",
    "outputId": "7610e060-a9be-482f-a83a-083851aaecc8"
   },
   "outputs": [],
   "source": [
    "target = df.Salary\n",
    "df.drop(columns=['Salary'])\n",
    "df, df_test, target, target_test = train_test_split(df, target, test_size=0.2, random_state=1)"
   ]
  },
  {
   "cell_type": "markdown",
   "metadata": {},
   "source": [
    "### Defining custom classes for pipelines"
   ]
  },
  {
   "cell_type": "code",
   "execution_count": 5,
   "metadata": {
    "id": "pQFUYr1VSTIi"
   },
   "outputs": [],
   "source": [
    "class FeatureSelector(BaseEstimator, TransformerMixin):\n",
    "    \"\"\"\n",
    "    The class provides basic functionality for retrieving\n",
    "    a subset of columns from the dataset.\n",
    "    \"\"\"\n",
    "    \n",
    "    def __init__(self, feature_names):\n",
    "        \"\"\"\n",
    "        Initialize class instance by setting\n",
    "        a list of columns to retrieve from the dataset.\n",
    "        \"\"\"\n",
    "        BaseEstimator.__init__(self)\n",
    "        TransformerMixin.__init__(self)\n",
    "        self.feature_names = feature_names\n",
    "        \n",
    "    def fit(self, X, y=None):\n",
    "        \"\"\"\n",
    "        Fit FeatureSelector to X, but really do nothing.\n",
    "        Return self.\n",
    "        \"\"\"\n",
    "        return self\n",
    "    \n",
    "    def transform(self, X, y=None):\n",
    "        \"\"\"\n",
    "        Transform X using feature selection. \n",
    "        Return column-subset of X.\n",
    "        \"\"\"\n",
    "        return X[self.feature_names]"
   ]
  },
  {
   "cell_type": "code",
   "execution_count": 6,
   "metadata": {
    "id": "7gV4qxQ9STIi"
   },
   "outputs": [],
   "source": [
    "\n",
    "class ColumnTranslation:\n",
    "    \"\"\"\n",
    "    The class is used to store information about the conversion of a single column.\n",
    "    \"\"\"\n",
    "    \n",
    "    def __init__(self, column_name, to_save, default='Other'):\n",
    "        \"\"\"\n",
    "        Initialize ColumnTranslation instance.\n",
    "        \n",
    "        Parameters\n",
    "        ----------\n",
    "        column_name: str, \n",
    "            name of column to translate.\n",
    "        to_save: list, \n",
    "            list of values whose translation is not required.\n",
    "        default: str, \n",
    "            value to be written to the column if it is not in the to_save list.\n",
    "        \"\"\"\n",
    "        self.column_name = column_name\n",
    "        self.to_save = to_save\n",
    "        self.default = default"
   ]
  },
  {
   "cell_type": "code",
   "execution_count": 7,
   "metadata": {
    "id": "4iMFnjW-STIj"
   },
   "outputs": [],
   "source": [
    "class Translator(BaseEstimator, TransformerMixin):\n",
    "    \"\"\"\n",
    "    The class provides functionality for translating column values \n",
    "    to a defined range of values.\n",
    "    \"\"\"\n",
    "    \n",
    "    def __init__(self, translations):\n",
    "        \"\"\"\n",
    "        Initialize class instance.\n",
    "        \n",
    "        Parameters\n",
    "        ----------\n",
    "        translations: list of ColumnTranslation's, \n",
    "            object that provides column_name, to_save and default properties.\n",
    "        \"\"\"\n",
    "        BaseEstimator.__init__(self)\n",
    "        TransformerMixin.__init__(self)\n",
    "        self.translations = translations\n",
    "        \n",
    "    def fit(self, X, y=None):\n",
    "        \"\"\"\n",
    "        Fit Translator to X, but really does nothing.\n",
    "        Return self.\n",
    "        \"\"\"\n",
    "        return self\n",
    "    \n",
    "    def transform(self, X, y=None):\n",
    "        \"\"\"\n",
    "        Transform X.\n",
    "        For each column from the list `translations`: \n",
    "        the values from the `to_save` list are kept intact;\n",
    "        default values are written in the remaining rows.\n",
    "        Return X.\n",
    "        \"\"\"\n",
    "        for tr in self.translations:\n",
    "            X[tr.column_name] = X[tr.column_name].fillna(tr.default)\n",
    "            X[tr.column_name] = X[tr.column_name].astype(str).map(lambda x: x if (x in tr.to_save) else tr.default)\n",
    "        return X"
   ]
  },
  {
   "cell_type": "code",
   "execution_count": 8,
   "metadata": {
    "id": "2i04Wr0x7NMZ"
   },
   "outputs": [],
   "source": [
    "class ColumnOrder:\n",
    "    \"\"\"\n",
    "    The class is used to store information about the conversion of a single column\n",
    "    to ordinal column.\n",
    "    \"\"\"\n",
    "    \n",
    "    def __init__(self, col_name, order):\n",
    "        \"\"\"\n",
    "        Initialize ColumnTranslation instance.\n",
    "        \n",
    "        Parameters\n",
    "        ----------\n",
    "        col_name: str, \n",
    "            name of column to converte to ordinal.\n",
    "        order: list, \n",
    "            list of unique values of the column in custom order. \n",
    "        \"\"\"\n",
    "        self.col_name = col_name\n",
    "        self.order = order"
   ]
  },
  {
   "cell_type": "code",
   "execution_count": 9,
   "metadata": {
    "id": "8Qki3CkB4Om_"
   },
   "outputs": [],
   "source": [
    "# Since I haven't found the way to pass to OrdinalEncoder custom order for \n",
    "# string values (not alphabet order) I've defined my own encoder.\n",
    "\n",
    "class OrdinalTransformer(BaseEstimator, TransformerMixin):\n",
    "    \"\"\"\n",
    "    The class provides functionality for conversion columns into ordinal columns.\n",
    "    \"\"\"\n",
    "    def __init__(self, col_orders):\n",
    "        \"\"\"\n",
    "        Initialize class instance.\n",
    "        \n",
    "        Parameters\n",
    "        ----------\n",
    "        col_orders: list of ColumnOrder's, \n",
    "            object that provides column_name and column values' order properties.\n",
    "        \"\"\"\n",
    "        BaseEstimator.__init__(self)\n",
    "        TransformerMixin.__init__(self)\n",
    "        self.col_orders = col_orders\n",
    "        \n",
    "    def fit(self, X, y=None):\n",
    "        \"\"\"\n",
    "        Fit Translator to X, but really does nothing.\n",
    "        Return self.\n",
    "        \"\"\"\n",
    "        return self\n",
    "    \n",
    "    def transform(self, X, y=None):\n",
    "        \"\"\"\n",
    "        Transform X.\n",
    "        For each column from the list 'col_orders': \n",
    "        converts each value of the column to the value of \n",
    "        its index in list 'order'.\n",
    "        Return X.\n",
    "        \"\"\"\n",
    "        for col_order in self.col_orders:\n",
    "            X[col_order.col_name] = X[col_order.col_name].map(lambda s: col_order.order.index(s))\n",
    "        return X"
   ]
  },
  {
   "cell_type": "code",
   "execution_count": 10,
   "metadata": {
    "id": "TWwNSnmQSTIj"
   },
   "outputs": [],
   "source": [
    "class ImputerByCategorialColumn(BaseEstimator, TransformerMixin):\n",
    "    \"\"\"\n",
    "    The class provides functionality for filling missing values of target column \n",
    "    using another categorial column without missings. Each missing of\n",
    "    target column fills with mean of values of the same category.\n",
    "    \"\"\"\n",
    "    def __init__(self, col, cat_col):\n",
    "        \"\"\"\n",
    "        Initialize class instance.\n",
    "        \n",
    "        Parameters\n",
    "        ----------\n",
    "        col: name of column with missing values.\n",
    "        cat_col: name of categorial column without missings.\n",
    "        \"\"\"\n",
    "        BaseEstimator.__init__(self)\n",
    "        TransformerMixin.__init__(self)\n",
    "        self.col = col\n",
    "        self.cat_col = cat_col\n",
    "        \n",
    "    def fit(self, X, y=None):\n",
    "        \"\"\"\n",
    "        Save mean value of target column for each category of categorial column\n",
    "        in dictionary 'map_'.\n",
    "        Return self.\n",
    "        \"\"\"\n",
    "        X[self.col] = X[self.col].map(lambda s: str(s).replace(',', '.')).astype(float)\n",
    "        self.map_ = {category: X[X[self.cat_col] == category][self.col].mean() \\\n",
    "                     for category in X[self.cat_col].unique()}\n",
    "        return self\n",
    "    \n",
    "    def transform(self, X, y=None):\n",
    "        \"\"\"\n",
    "        Transform X.\n",
    "        Each missing of column 'col' fills with mean of values of the \n",
    "        same category.\n",
    "        Return X.\n",
    "        \"\"\"\n",
    "        X[self.col] = X[self.col].map(lambda s: str(s).replace(',', '.')).astype(float)\n",
    "        for ind in X.index:\n",
    "            entry = X.loc[ind, self.col]\n",
    "            is_na = np.isnan(entry)\n",
    "            X.loc[ind, self.col] = entry if (not is_na) else self.map_[X.loc[ind, self.cat_col]]\n",
    "        return X"
   ]
  },
  {
   "cell_type": "code",
   "execution_count": 11,
   "metadata": {
    "id": "CvTttxRXEU22"
   },
   "outputs": [],
   "source": [
    "class RegressionImputer(BaseEstimator, TransformerMixin):\n",
    "    \"\"\"\n",
    "    The class provides functionality for filling missing values of target column \n",
    "    predicting them using regression model and columns without missings.\n",
    "    \"\"\"\n",
    "    def __init__(self, target_col, cols):\n",
    "        \"\"\"\n",
    "        Initialize class instance.\n",
    "        \n",
    "        Parameters\n",
    "        ----------\n",
    "        target_col: name of column with missing values.\n",
    "        cols: list of names of columns without missings.\n",
    "        \"\"\"\n",
    "        BaseEstimator.__init__(self)\n",
    "        TransformerMixin.__init__(self)\n",
    "        self.target_col = target_col\n",
    "        self.cols = cols\n",
    "        \n",
    "    def fit(self, X, y=None):\n",
    "        \"\"\"\n",
    "        Fit regression model with features 'cols' and target 'target_col'.\n",
    "        Return self.\n",
    "        \"\"\"\n",
    "        self.model = LinearRegression()\n",
    "        X = X[X[self.target_col].notna()]\n",
    "        self.model.fit(X[self.cols], X[self.target_col])\n",
    "        return self\n",
    "    \n",
    "    def transform(self, X, y=None):\n",
    "        \"\"\"\n",
    "        Transform X.\n",
    "        Each missing in target column fills with predicted value.\n",
    "        Return X.\n",
    "        \"\"\"\n",
    "        for ind in X.index:\n",
    "            X.loc[ind, self.target_col] = X.loc[ind, self.target_col] \\\n",
    "            if (not np.isnan(X.loc[ind, self.target_col])) \\\n",
    "            else self.model.predict([X.loc[ind, self.cols]])\n",
    "        return X"
   ]
  },
  {
   "cell_type": "markdown",
   "metadata": {
    "id": "iuBKWRVNSTIj"
   },
   "source": [
    "### Constructing pipelines"
   ]
  },
  {
   "cell_type": "markdown",
   "metadata": {},
   "source": [
    "As we use KNN as a model, all pipelines will scale values."
   ]
  },
  {
   "cell_type": "markdown",
   "metadata": {},
   "source": [
    "First pipeline imputes columns with most frequent value, as these columns are more than 90% filled with one value and there are very few of missings. As number of categories is small (less than 3) it's reasonable to use OneHotEncoder."
   ]
  },
  {
   "cell_type": "code",
   "execution_count": 12,
   "metadata": {
    "id": "TKrIssQhSTIk"
   },
   "outputs": [],
   "source": [
    "translate_impute_ohe_pipeline = Pipeline(\n",
    "    steps=[\n",
    "        ('feature_selector', FeatureSelector(['Gender', 'Empl_status', 'Contract_duration'])),\n",
    "        ('imputer', SimpleImputer(strategy='most_frequent')),\n",
    "        ('pandarizer', FunctionTransformer(\n",
    "            lambda x: pd.DataFrame(x, columns = ['Gender', 'Empl_status', 'Contract_duration']))),\n",
    "        ('translator', Translator([\n",
    "                          ColumnTranslation(column_name='Gender', \n",
    "                                            to_save=['Male', 'Female'], \n",
    "                                            default='Male'),\n",
    "                          ColumnTranslation(column_name='Empl_status', \n",
    "                                            to_save=['Full-time employee']),\n",
    "                          ColumnTranslation(column_name='Contract_duration', \n",
    "                                            to_save=['Unlimited contract'])\n",
    "                        ])),\n",
    "         ('encoder', OneHotEncoder(sparse=False)),\n",
    "         ('scaler', StandardScaler())\n",
    "    ]\n",
    ")"
   ]
  },
  {
   "cell_type": "markdown",
   "metadata": {},
   "source": [
    "Second pipeline encodes column with companies' sizes categories to ordinal values."
   ]
  },
  {
   "cell_type": "code",
   "execution_count": 13,
   "metadata": {
    "id": "qeGXImocv8DN"
   },
   "outputs": [],
   "source": [
    "translate_ord_pipeline = Pipeline(\n",
    "    steps=[\n",
    "           ('feature_selector', FeatureSelector(['Company_size'])),\n",
    "           ('translator', Translator([ColumnTranslation(column_name='Company_size', \n",
    "                                               to_save=['up to 10', '11-50', \n",
    "                                                        '51-100', '101-1000', \n",
    "                                                        '1000+'], \n",
    "                                               default='101-1000')])),\n",
    "           ('to_ordinal_transformer', OrdinalTransformer(\n",
    "               col_orders=[\n",
    "                           ColumnOrder(col_name='Company_size',\n",
    "                                       order=['up to 10', '11-50', '51-100',\n",
    "                                              '101-1000', '1000+'])\n",
    "                          ])),\n",
    "           ('scaler', StandardScaler())\n",
    "           ]\n",
    ")"
   ]
  },
  {
   "cell_type": "markdown",
   "metadata": {},
   "source": [
    "Third pipeline is similar to first, but it doesn't impute values (number of categories is also small)."
   ]
  },
  {
   "cell_type": "code",
   "execution_count": 14,
   "metadata": {
    "id": "6be385_X3SIy"
   },
   "outputs": [],
   "source": [
    "translate_ohe_pipeline = Pipeline(\n",
    "    steps=[\n",
    "           ('feature_selector', FeatureSelector(['City', 'Position'])),\n",
    "           ('translator', Translator([ColumnTranslation(column_name='City', \n",
    "                                               to_save=['Berlin', 'Munich']),\n",
    "                             ColumnTranslation(column_name='Position', \n",
    "                                               to_save=['Software Engineer', \n",
    "                                                        'Backend Developer', \n",
    "                                                        'Data Scientist', \n",
    "                                                        'Frontend Developer', \n",
    "                                                        'QA Engineer'])])),\n",
    "           ('encoder', OneHotEncoder(sparse=False)),\n",
    "           ('scaler', StandardScaler())  \n",
    "    ]  \n",
    ")"
   ]
  },
  {
   "cell_type": "markdown",
   "metadata": {
    "id": "z7vGiUNDGcgv"
   },
   "source": [
    "Fourth pipeline is the most interesting one. \n",
    "It imputes missings in 'experience' by speialist's level ('junior', 'middle', ...) as 'level' column has almost no missings. \n",
    "As soon as 'experience' column has no missings, we predict missing 'ages' by years of experience. \n",
    "Finally, it encodes level to ordinal, since the level values are comparable."
   ]
  },
  {
   "cell_type": "code",
   "execution_count": 15,
   "metadata": {
    "id": "XQJmlY6pgGqH"
   },
   "outputs": [],
   "source": [
    "translate_regr_pipeline = Pipeline(\n",
    "    steps=[\n",
    "        ('feature_selector', FeatureSelector(['Level', 'Exp', 'Age'])),\n",
    "        ('translator', Translator([ColumnTranslation(column_name='Level', \n",
    "                                               to_save=['Junior', 'Middle', \n",
    "                                                        'Senior', 'Lead', \n",
    "                                                        'Head'], \n",
    "                                               default='Junior')])),\n",
    "        ('imputer_cat_col', ImputerByCategorialColumn(col='Exp', cat_col='Level')),\n",
    "        ('imputer_regr', RegressionImputer(target_col='Age', cols=['Exp'])),\n",
    "        ('transformer_to_ord', OrdinalTransformer(\n",
    "            col_orders=[\n",
    "                        ColumnOrder(col_name='Level',\n",
    "                                    order=['Junior', 'Middle', 'Senior',\n",
    "                                           'Lead', 'Head'])\n",
    "                       ])),\n",
    "        ('scaler', StandardScaler())\n",
    "           \n",
    "    ]\n",
    ")\n"
   ]
  },
  {
   "cell_type": "markdown",
   "metadata": {
    "id": "crZHozygSTIk"
   },
   "source": [
    "Just compose all features."
   ]
  },
  {
   "cell_type": "code",
   "execution_count": 16,
   "metadata": {
    "id": "Ckm99WToh9Dz"
   },
   "outputs": [],
   "source": [
    "full_pipeline = FeatureUnion(transformer_list=[\n",
    "    ('translate_impute_ohe', translate_impute_ohe_pipeline),\n",
    "    ('translate_ord', translate_ord_pipeline),\n",
    "    ('translate_ohe', translate_ohe_pipeline),\n",
    "    ('translate_regr', translate_regr_pipeline),\n",
    "])"
   ]
  },
  {
   "cell_type": "markdown",
   "metadata": {
    "colab": {
     "base_uri": "https://localhost:8080/"
    },
    "id": "UfTnnxajHiAY",
    "outputId": "03fd6cfe-a713-4232-a345-cec5b6d3789a"
   },
   "source": [
    "Make final pipeline, fit on training data, predict target column ('Salary') for test data."
   ]
  },
  {
   "cell_type": "code",
   "execution_count": 17,
   "metadata": {
    "colab": {
     "base_uri": "https://localhost:8080/"
    },
    "id": "CWcjvUoph96S",
    "outputId": "de66aba5-393c-4496-8bc1-51ff27ea0db8"
   },
   "outputs": [
    {
     "name": "stdout",
     "output_type": "stream",
     "text": [
      "Real values of salary:\n",
      "[ 75000.  54000.  65000. 150000.  67200.  80000.  72000. 120000.  64000.]\n",
      "Predicted values of salary:\n",
      "[71480. 61000. 50900. 75600. 68080. 73800. 87000. 69800. 66720.]\n"
     ]
    }
   ],
   "source": [
    "final_pipeline = Pipeline(steps=[\n",
    "                                 ('data preparation', full_pipeline), \n",
    "                                 ('model', KNeighborsRegressor()) \n",
    "                                 ]\n",
    "                          )\n",
    "final_pipeline.fit(df, target)\n",
    "print('Real values of salary:')\n",
    "print(target_test.values[:9])\n",
    "print('Predicted values of salary:')\n",
    "print(final_pipeline.predict(df_test)[:9])"
   ]
  },
  {
   "cell_type": "markdown",
   "metadata": {},
   "source": [
    "The prediction isn't very accurate, but since the task was to prepare data for some model, I think it's ok ^^"
   ]
  }
 ],
 "metadata": {
  "colab": {
   "collapsed_sections": [],
   "name": "Data preparation.ipynb",
   "provenance": []
  },
  "kernelspec": {
   "display_name": "Python 3",
   "language": "python",
   "name": "python3"
  },
  "language_info": {
   "codemirror_mode": {
    "name": "ipython",
    "version": 3
   },
   "file_extension": ".py",
   "mimetype": "text/x-python",
   "name": "python",
   "nbconvert_exporter": "python",
   "pygments_lexer": "ipython3",
   "version": "3.8.5"
  }
 },
 "nbformat": 4,
 "nbformat_minor": 1
}
