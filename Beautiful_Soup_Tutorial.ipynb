{
  "nbformat": 4,
  "nbformat_minor": 0,
  "metadata": {
    "colab": {
      "name": "Beautiful Soup Tutorial.ipynb",
      "provenance": []
    },
    "kernelspec": {
      "display_name": "Python 3",
      "name": "python3"
    },
    "language_info": {
      "name": "python"
    }
  },
  "cells": [
    {
      "cell_type": "markdown",
      "metadata": {
        "id": "QNCNiuaPu4-W"
      },
      "source": [
        "## <center> Beautiful Soup Tutorial"
      ]
    },
    {
      "cell_type": "markdown",
      "metadata": {
        "id": "8eQ3ayn8vy8a"
      },
      "source": [
        "Установим необходимые библиотеки:"
      ]
    },
    {
      "cell_type": "code",
      "metadata": {
        "id": "wZ9YY2KCxfPw",
        "colab": {
          "base_uri": "https://localhost:8080/"
        },
        "outputId": "6216c9e0-0619-487c-eae0-c86761fc06e2"
      },
      "source": [
        "!pip install beautifulsoup4\n",
        "!pip install lxml\n",
        "!pip install requests"
      ],
      "execution_count": 1,
      "outputs": [
        {
          "output_type": "stream",
          "name": "stdout",
          "text": [
            "Requirement already satisfied: beautifulsoup4 in /usr/local/lib/python3.7/dist-packages (4.6.3)\n",
            "Requirement already satisfied: lxml in /usr/local/lib/python3.7/dist-packages (4.2.6)\n",
            "Requirement already satisfied: requests in /usr/local/lib/python3.7/dist-packages (2.23.0)\n",
            "Requirement already satisfied: chardet<4,>=3.0.2 in /usr/local/lib/python3.7/dist-packages (from requests) (3.0.4)\n",
            "Requirement already satisfied: urllib3!=1.25.0,!=1.25.1,<1.26,>=1.21.1 in /usr/local/lib/python3.7/dist-packages (from requests) (1.24.3)\n",
            "Requirement already satisfied: certifi>=2017.4.17 in /usr/local/lib/python3.7/dist-packages (from requests) (2021.5.30)\n",
            "Requirement already satisfied: idna<3,>=2.5 in /usr/local/lib/python3.7/dist-packages (from requests) (2.10)\n"
          ]
        }
      ]
    },
    {
      "cell_type": "markdown",
      "metadata": {
        "id": "cEg-qGUQwDqv"
      },
      "source": [
        "### Beautiful Soup basics"
      ]
    },
    {
      "cell_type": "markdown",
      "metadata": {
        "id": "76YPymar-35C"
      },
      "source": [
        "Импортируем саму библиотеку"
      ]
    },
    {
      "cell_type": "code",
      "metadata": {
        "id": "zRwh6JTJxuds"
      },
      "source": [
        "from bs4 import BeautifulSoup"
      ],
      "execution_count": 2,
      "outputs": []
    },
    {
      "cell_type": "markdown",
      "metadata": {
        "id": "K6L0rU1m-_QF"
      },
      "source": [
        "Рассмотрим работу некоторых функций библиотеки на примере игрушечного html-файла:"
      ]
    },
    {
      "cell_type": "code",
      "metadata": {
        "id": "ityWpfYY6M6W"
      },
      "source": [
        "f = open('small_website.html', 'r')\n",
        "contents = f.read()"
      ],
      "execution_count": 3,
      "outputs": []
    },
    {
      "cell_type": "markdown",
      "metadata": {
        "id": "8BqzMzjS_LU1"
      },
      "source": [
        "Создаем экземпляр класса BeautifulSoup. Параметры - наш html и библиотека 'lxml' для парсинга."
      ]
    },
    {
      "cell_type": "code",
      "metadata": {
        "id": "TPIVuVmfxrv-"
      },
      "source": [
        "soup = BeautifulSoup(contents, 'lxml')"
      ],
      "execution_count": 4,
      "outputs": []
    },
    {
      "cell_type": "markdown",
      "metadata": {
        "id": "mf0Cio-h_opz"
      },
      "source": [
        "Используя функцию prettify(), выведем содержание всего файла в красивом виде"
      ]
    },
    {
      "cell_type": "code",
      "metadata": {
        "id": "a5z3ou_J_mbY",
        "colab": {
          "base_uri": "https://localhost:8080/"
        },
        "outputId": "aa97ca9b-12f6-45d1-fb9f-3a89eec7046d"
      },
      "source": [
        "print(soup.prettify())"
      ],
      "execution_count": 5,
      "outputs": [
        {
          "output_type": "stream",
          "name": "stdout",
          "text": [
            "<!DOCTYPE html>\n",
            "<html>\n",
            " <head>\n",
            " </head>\n",
            " <body>\n",
            "  <h1 id=\"site_title\">\n",
            "   A Very Small Website\n",
            "  </h1>\n",
            "  <hr/>\n",
            "  <div class=\"article\">\n",
            "   <h2>\n",
            "    <a href=\"article_1.html\">\n",
            "     Small Article 1 Headline\n",
            "    </a>\n",
            "   </h2>\n",
            "   <p>\n",
            "    Bla bla bla (1)\n",
            "   </p>\n",
            "  </div>\n",
            "  <hr/>\n",
            "  <div class=\"article\">\n",
            "   <h2>\n",
            "    <a href=\"article_2.html\">\n",
            "     Small Article 2 Headline\n",
            "    </a>\n",
            "   </h2>\n",
            "   <p>\n",
            "    Bla bla bla (2)\n",
            "   </p>\n",
            "  </div>\n",
            "  <hr/>\n",
            "  <div class=\"footer\">\n",
            "   <p>\n",
            "    One more bla\n",
            "   </p>\n",
            "  </div>\n",
            " </body>\n",
            "</html>\n"
          ]
        }
      ]
    },
    {
      "cell_type": "markdown",
      "metadata": {
        "id": "R1wDa7_a_zGI"
      },
      "source": [
        "Мы можем обращаться к тегам последовательно:"
      ]
    },
    {
      "cell_type": "code",
      "metadata": {
        "id": "YcjMZFXV6lt5",
        "colab": {
          "base_uri": "https://localhost:8080/"
        },
        "outputId": "58799714-3a5d-4a62-d2e2-da95c62d60b8"
      },
      "source": [
        "print(soup.div.h2)"
      ],
      "execution_count": 6,
      "outputs": [
        {
          "output_type": "stream",
          "name": "stdout",
          "text": [
            "<h2><a href=\"article_1.html\">Small Article 1 Headline</a></h2>\n"
          ]
        }
      ]
    },
    {
      "cell_type": "code",
      "metadata": {
        "id": "QS8nvZ9C6z-B",
        "colab": {
          "base_uri": "https://localhost:8080/"
        },
        "outputId": "a6d2f927-2163-4af7-aeeb-c1b3e8df55d7"
      },
      "source": [
        "print(soup.div.h2.prettify())"
      ],
      "execution_count": 7,
      "outputs": [
        {
          "output_type": "stream",
          "name": "stdout",
          "text": [
            "<h2>\n",
            " <a href=\"article_1.html\">\n",
            "  Small Article 1 Headline\n",
            " </a>\n",
            "</h2>\n",
            "\n"
          ]
        }
      ]
    },
    {
      "cell_type": "markdown",
      "metadata": {
        "id": "0altrNDg_81J"
      },
      "source": [
        "...либо используя функцию find(), которая вернет первый найденный тег, либо None, если такого не найдет"
      ]
    },
    {
      "cell_type": "code",
      "metadata": {
        "id": "nltCGvMb66kt",
        "colab": {
          "base_uri": "https://localhost:8080/"
        },
        "outputId": "3f4b1a25-b371-4f7c-b632-4c3a84310d2c"
      },
      "source": [
        "one_h1_tag = soup.find('h2')\n",
        "print(one_h1_tag.prettify())"
      ],
      "execution_count": 8,
      "outputs": [
        {
          "output_type": "stream",
          "name": "stdout",
          "text": [
            "<h2>\n",
            " <a href=\"article_1.html\">\n",
            "  Small Article 1 Headline\n",
            " </a>\n",
            "</h2>\n",
            "\n"
          ]
        }
      ]
    },
    {
      "cell_type": "markdown",
      "metadata": {
        "id": "xVFkK4ZPAPcL"
      },
      "source": [
        "...либо используея find_all(), чтобы найти все теги"
      ]
    },
    {
      "cell_type": "code",
      "metadata": {
        "id": "_o4breOV7eEi",
        "colab": {
          "base_uri": "https://localhost:8080/"
        },
        "outputId": "eda094d4-69ae-41e8-dd9d-7cc076bfd36c"
      },
      "source": [
        "all_h1_tags = soup.find_all('h2')\n",
        "\n",
        "for h1_tag in all_h1_tags:\n",
        "    print(h1_tag.prettify())\n",
        "    print()"
      ],
      "execution_count": 9,
      "outputs": [
        {
          "output_type": "stream",
          "name": "stdout",
          "text": [
            "<h2>\n",
            " <a href=\"article_1.html\">\n",
            "  Small Article 1 Headline\n",
            " </a>\n",
            "</h2>\n",
            "\n",
            "\n",
            "<h2>\n",
            " <a href=\"article_2.html\">\n",
            "  Small Article 2 Headline\n",
            " </a>\n",
            "</h2>\n",
            "\n",
            "\n"
          ]
        }
      ]
    },
    {
      "cell_type": "markdown",
      "metadata": {
        "id": "tKeYIqvvAiz0"
      },
      "source": [
        "Также можно передать вторым аргументом find() параметр class_, чтобы специфицировать тег:"
      ]
    },
    {
      "cell_type": "code",
      "metadata": {
        "id": "P94F3xRj79_Q",
        "colab": {
          "base_uri": "https://localhost:8080/"
        },
        "outputId": "55559660-20ad-4eeb-fb66-c0707ba3fddf"
      },
      "source": [
        "footer_tag = soup.find('div', class_='footer').p\n",
        "print(footer_tag.prettify())"
      ],
      "execution_count": 10,
      "outputs": [
        {
          "output_type": "stream",
          "name": "stdout",
          "text": [
            "<p>\n",
            " One more bla\n",
            "</p>\n",
            "\n"
          ]
        }
      ]
    },
    {
      "cell_type": "markdown",
      "metadata": {
        "id": "GsWZLAIKA3_W"
      },
      "source": [
        "Чтобы получить текст из тега, используем get_text()."
      ]
    },
    {
      "cell_type": "code",
      "metadata": {
        "id": "wENqxlih8UQq",
        "colab": {
          "base_uri": "https://localhost:8080/"
        },
        "outputId": "53936ac5-b526-4e29-e001-ed4a0181e7e9"
      },
      "source": [
        "print(footer_tag.get_text())"
      ],
      "execution_count": 11,
      "outputs": [
        {
          "output_type": "stream",
          "name": "stdout",
          "text": [
            "One more bla\n"
          ]
        }
      ]
    },
    {
      "cell_type": "code",
      "metadata": {
        "id": "PuJyTYRF8fHf"
      },
      "source": [
        "f.close()"
      ],
      "execution_count": 12,
      "outputs": []
    },
    {
      "cell_type": "markdown",
      "metadata": {
        "id": "RTnuaQQKyv9l"
      },
      "source": [
        "### Beautiful Soup for scraping data from Coursera"
      ]
    },
    {
      "cell_type": "markdown",
      "metadata": {
        "id": "qfitDczfzNG9"
      },
      "source": [
        "Заимпортим requests для получения html страниц и возможности залогиниться на сайте и pandas для формирования датасета"
      ]
    },
    {
      "cell_type": "code",
      "metadata": {
        "id": "Vkm5mwtROPPi"
      },
      "source": [
        "import requests\n",
        "import pandas as pd"
      ],
      "execution_count": 13,
      "outputs": []
    },
    {
      "cell_type": "markdown",
      "metadata": {
        "id": "UvBhw1Bu4XI_"
      },
      "source": [
        "Если для доступа к нужным данным необходимо сначала авторизоваться, это можно сделать, например, с помощью библиотеки HTTPBasicAuth"
      ]
    },
    {
      "cell_type": "code",
      "metadata": {
        "id": "GlD-RI7w4Xrp"
      },
      "source": [
        "from requests.auth import HTTPBasicAuth\n",
        "  \n",
        "# Введите ваши данные\n",
        "your_username = ''\n",
        "your_password = ''\n",
        "\n",
        "response = requests.get('https://www.coursera.org/?authMode=login',\n",
        "            auth = HTTPBasicAuth(your_username, your_password))"
      ],
      "execution_count": 14,
      "outputs": []
    },
    {
      "cell_type": "markdown",
      "metadata": {
        "id": "PIP9BlVrO8Um"
      },
      "source": [
        "Соберем данные о бесплатных курсах на coursera."
      ]
    },
    {
      "cell_type": "code",
      "metadata": {
        "id": "74yh1pyqOQgE"
      },
      "source": [
        "url = 'https://www.coursera.org/courses?query=free'\n",
        "\n",
        "response = requests.get(url)\n",
        "response = response.content.decode('utf-8')\n",
        "\n",
        "# Маленькая проверка, т.к. с русскоязычной курерой возникали некоторые \n",
        "# беды с кодировкой. Если работает, не обращайте внимания :)\n",
        "assert 'cds' not in response\n",
        "\n",
        "soup = BeautifulSoup(response, 'lxml')"
      ],
      "execution_count": 15,
      "outputs": []
    },
    {
      "cell_type": "markdown",
      "metadata": {
        "id": "Zwec17TJPO0S"
      },
      "source": [
        "С помощью функции inspect(правый клик -> \"просмотреть код\") в браузере определим теги, в которых лежат нужные нам данные. Как можно заметить, данные по всем курсам на странице хранятся в отдельном списке - отделим его для удобства в переменную courses_info."
      ]
    },
    {
      "cell_type": "code",
      "metadata": {
        "id": "UjNwYA58PHjy"
      },
      "source": [
        "courses_info = soup.find('ul', class_='ais-InfiniteHits-list')"
      ],
      "execution_count": 16,
      "outputs": []
    },
    {
      "cell_type": "markdown",
      "metadata": {
        "id": "lUb5nGetPVk4"
      },
      "source": [
        "Определим функцию для скраппинга необходимых нам полей:"
      ]
    },
    {
      "cell_type": "code",
      "metadata": {
        "id": "-ePlIgJVPYT_"
      },
      "source": [
        "def field_scrapper(html_tag, tag_class, field_case, n_entries=20):\n",
        "    '''Finds all tags' 'html_tag' texts with class='tag_class' and puts them into field_case.'''\n",
        "    tags =  courses_info.find_all(html_tag, class_=tag_class)\n",
        "\n",
        "    for i in range(n_entries):\n",
        "        field = tags[i].get_text()\n",
        "        field_case.append(field)"
      ],
      "execution_count": 17,
      "outputs": []
    },
    {
      "cell_type": "code",
      "metadata": {
        "id": "tPUac3MZPdn8"
      },
      "source": [
        "names = [] # имя курса\n",
        "partners = [] # партнер курса\n",
        "types = [] # тип - курс либо специализация\n",
        "ratings = [] # рейтинг курса\n",
        "n_students = [] # число окончивших курс студентов\n",
        "levels = [] # уровень сложности курса\n",
        "\n",
        "# названия тегов для нужных данных ищем с помощью все той же inspect\n",
        "field_scrapper('a', 'color-primary-text card-title headline-1-text', names)\n",
        "field_scrapper('span', 'partner-name m-b-1s', partners)\n",
        "field_scrapper('div', '_jen3vs _1d8rgfy3', types)\n",
        "field_scrapper('span', 'ratings-text', ratings)\n",
        "field_scrapper('span', 'enrollment-number', n_students)\n",
        "field_scrapper('span', 'difficulty', levels)"
      ],
      "execution_count": 18,
      "outputs": []
    },
    {
      "cell_type": "code",
      "metadata": {
        "id": "KBEysn1tPdkz",
        "colab": {
          "base_uri": "https://localhost:8080/",
          "height": 202
        },
        "outputId": "516303c1-fc74-4156-b501-eb56df562600"
      },
      "source": [
        "data = pd.DataFrame({'name' : names,\n",
        "              'partner' : partners,\n",
        "              'type' : types, \n",
        "              'rating' : ratings,\n",
        "              'number_of_students' : n_students,\n",
        "              'level' : levels})\n",
        "data.head(5)"
      ],
      "execution_count": 19,
      "outputs": [
        {
          "output_type": "execute_result",
          "data": {
            "text/html": [
              "<div>\n",
              "<style scoped>\n",
              "    .dataframe tbody tr th:only-of-type {\n",
              "        vertical-align: middle;\n",
              "    }\n",
              "\n",
              "    .dataframe tbody tr th {\n",
              "        vertical-align: top;\n",
              "    }\n",
              "\n",
              "    .dataframe thead th {\n",
              "        text-align: right;\n",
              "    }\n",
              "</style>\n",
              "<table border=\"1\" class=\"dataframe\">\n",
              "  <thead>\n",
              "    <tr style=\"text-align: right;\">\n",
              "      <th></th>\n",
              "      <th>name</th>\n",
              "      <th>partner</th>\n",
              "      <th>type</th>\n",
              "      <th>rating</th>\n",
              "      <th>number_of_students</th>\n",
              "      <th>level</th>\n",
              "    </tr>\n",
              "  </thead>\n",
              "  <tbody>\n",
              "    <tr>\n",
              "      <th>0</th>\n",
              "      <td>Machine Learning</td>\n",
              "      <td>Stanford University</td>\n",
              "      <td>COURSE</td>\n",
              "      <td>4.9</td>\n",
              "      <td>4.4m</td>\n",
              "      <td>Mixed</td>\n",
              "    </tr>\n",
              "    <tr>\n",
              "      <th>1</th>\n",
              "      <td>Indigenous Canada</td>\n",
              "      <td>University of Alberta</td>\n",
              "      <td>COURSE</td>\n",
              "      <td>4.8</td>\n",
              "      <td>390k</td>\n",
              "      <td>Mixed</td>\n",
              "    </tr>\n",
              "    <tr>\n",
              "      <th>2</th>\n",
              "      <td>The Science of Well-Being</td>\n",
              "      <td>Yale University</td>\n",
              "      <td>COURSE</td>\n",
              "      <td>4.9</td>\n",
              "      <td>3.6m</td>\n",
              "      <td>Mixed</td>\n",
              "    </tr>\n",
              "    <tr>\n",
              "      <th>3</th>\n",
              "      <td>Financial Markets</td>\n",
              "      <td>Yale University</td>\n",
              "      <td>COURSE</td>\n",
              "      <td>4.8</td>\n",
              "      <td>1m</td>\n",
              "      <td>Beginner</td>\n",
              "    </tr>\n",
              "    <tr>\n",
              "      <th>4</th>\n",
              "      <td>Introduction to Psychology</td>\n",
              "      <td>Yale University</td>\n",
              "      <td>COURSE</td>\n",
              "      <td>4.8</td>\n",
              "      <td>730k</td>\n",
              "      <td>Beginner</td>\n",
              "    </tr>\n",
              "  </tbody>\n",
              "</table>\n",
              "</div>"
            ],
            "text/plain": [
              "                         name  ...     level\n",
              "0            Machine Learning  ...     Mixed\n",
              "1           Indigenous Canada  ...     Mixed\n",
              "2   The Science of Well-Being  ...     Mixed\n",
              "3           Financial Markets  ...  Beginner\n",
              "4  Introduction to Psychology  ...  Beginner\n",
              "\n",
              "[5 rows x 6 columns]"
            ]
          },
          "metadata": {},
          "execution_count": 19
        }
      ]
    }
  ]
}